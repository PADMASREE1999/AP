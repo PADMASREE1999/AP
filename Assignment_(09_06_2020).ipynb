{
  "nbformat": 4,
  "nbformat_minor": 0,
  "metadata": {
    "colab": {
      "name": "Assignment (09-06-2020)",
      "provenance": [],
      "authorship_tag": "ABX9TyNQ9Z5S4LJHgHS5GUIBsP58",
      "include_colab_link": true
    },
    "kernelspec": {
      "name": "python3",
      "display_name": "Python 3"
    }
  },
  "cells": [
    {
      "cell_type": "markdown",
      "metadata": {
        "id": "view-in-github",
        "colab_type": "text"
      },
      "source": [
        "<a href=\"https://colab.research.google.com/github/PADMASREE1999/AP/blob/master/Assignment_(09_06_2020).ipynb\" target=\"_parent\"><img src=\"https://colab.research.google.com/assets/colab-badge.svg\" alt=\"Open In Colab\"/></a>"
      ]
    },
    {
      "cell_type": "markdown",
      "metadata": {
        "id": "qYEujcmNnrO3",
        "colab_type": "text"
      },
      "source": [
        "##CSE - 221710307059 - Tummala Sai Padmasree"
      ]
    },
    {
      "cell_type": "markdown",
      "metadata": {
        "id": "WYKthIR0oQLi",
        "colab_type": "text"
      },
      "source": [
        "###Question 1:\n",
        "Use 1 to 9 and print a spiral matrix of order 3X3\n",
        "\n",
        "1 2 3\n",
        "\n",
        "8 9 4\n",
        "\n",
        "7 6 5\n"
      ]
    },
    {
      "cell_type": "code",
      "metadata": {
        "id": "momxePsCnkh5",
        "colab_type": "code",
        "colab": {}
      },
      "source": [
        "#include<stdio.h>\n",
        "int main()\n",
        "{\n",
        "\tint i, rowind = 0, colind = 0,enrow=3,encol=3;\n",
        "\tint arr1[3][3] = { {1,  2,  3},\n",
        "        {8,9,4},\n",
        "        {7,6,5}};\n",
        "    while (rowind < enrow && colind < encol)\n",
        "    {\n",
        "        for (i = colind; i < encol; ++i)\n",
        "        {\n",
        "            printf(\"%d \", arr1[rowind][i]);\n",
        "        }\n",
        "        rowind++;\n",
        "        for (i = rowind; i < enrow; ++i)\n",
        "        {\n",
        "            printf(\"%d \", arr1[i][encol-1]);\n",
        "        }\n",
        "        encol--;\n",
        "        if ( rowind < enrow)\n",
        "        {\n",
        "            for (i = encol-1; i >= colind; --i)\n",
        "            {\n",
        "                printf(\"%d \", arr1[enrow-1][i]);\n",
        "            }\n",
        "            enrow--;\n",
        "        }\n",
        "        if (colind < encol)\n",
        "        {\n",
        "            for (i = enrow-1; i >= rowind; --i)\n",
        "            {\n",
        "                printf(\"%d \", arr1[i][colind]);\n",
        "            }\n",
        "            colind++;\n",
        "        }\n",
        "    }\n",
        "}\n",
        "\n"
      ],
      "execution_count": 0,
      "outputs": []
    },
    {
      "cell_type": "markdown",
      "metadata": {
        "id": "c72ywI0v7Wv_",
        "colab_type": "text"
      },
      "source": [
        "###Question 2:\n",
        "WAP to find length of the string without using strlen\n",
        "Copy from one string to other string            \n",
        "s1=”hello”                    \n",
        "s2=”rishi”                 \n",
        "strcpy(s1,s2)                       "
      ]
    },
    {
      "cell_type": "code",
      "metadata": {
        "id": "0OvN86DOoW-A",
        "colab_type": "code",
        "colab": {}
      },
      "source": [
        "#include<stdio.h>\n",
        "#include<string.h>\n",
        "int main()\n",
        "{\n",
        "    char s1[]=\"hello\";\n",
        "    char s2[]=\"rishi\";\n",
        "    int i=0;\n",
        "    while(s1[i]!='\\0')\n",
        "    {\n",
        "        i++;\n",
        "\n",
        "    }\n",
        "    printf(\"Length of string %s: %d\",s1,i);\n",
        "    printf(\"\\n Before: %s %s\",s1,s2);\n",
        "    strcpy(s1,s2);\n",
        "    printf(\"\\n After : %s %s\",s1,s2);\n",
        "    return 0;\n",
        "}"
      ],
      "execution_count": 0,
      "outputs": []
    },
    {
      "cell_type": "markdown",
      "metadata": {
        "id": "abrIB71--QSB",
        "colab_type": "text"
      },
      "source": [
        "##Question 3:\n",
        "Wap to check given string is palindrome or not"
      ]
    },
    {
      "cell_type": "code",
      "metadata": {
        "id": "VpBOW0pO-P1A",
        "colab_type": "code",
        "colab": {}
      },
      "source": [
        "#include<stdio.h>\n",
        "#include<string.h>\n",
        "int main()\n",
        "{\n",
        "    char s[100],s1[100];\n",
        "    scanf(\"%s\",s);\n",
        "    strcpy(s1,s);\n",
        "    strrev(s);\n",
        "    if(strcmp(s,s1)==0)\n",
        "    {\n",
        "        printf(\"%s is a palindrome\",s1);\n",
        "    }\n",
        "    else\n",
        "    {\n",
        "        printf(\"%s is not a palindrome\",s1);\n",
        "    }\n",
        "    return 0;\n",
        "}\n"
      ],
      "execution_count": 0,
      "outputs": []
    },
    {
      "cell_type": "markdown",
      "metadata": {
        "id": "YJpWSqbYAUE7",
        "colab_type": "text"
      },
      "source": [
        "###Question 4:\n",
        "Print the given pattern                \n",
        "S                \n",
        "Sw          \n",
        "Swa          \n",
        "Swap             \n",
        "Swapn               \n",
        "Swapna                       \n",
        "Swapn                      \n",
        "Swap                \n",
        "Swa                  \n",
        "Sw              \n",
        "S              \n",
        "\n",
        "\n"
      ]
    },
    {
      "cell_type": "code",
      "metadata": {
        "id": "g4uFmmsJAfwZ",
        "colab_type": "code",
        "colab": {}
      },
      "source": [
        "#include<stdio.h>\n",
        "#include<string.h>\n",
        "int main()\n",
        "{\n",
        "    char s[]=\"Swapna\";\n",
        "    int i,j,l;\n",
        "    l=strlen(s);\n",
        "    for(i=0;i<l;i++)\n",
        "    {\n",
        "        for(j=0;j<=i;j++)\n",
        "        {\n",
        "            printf(\"%c\",s[j]);\n",
        "        }\n",
        "        printf(\"\\n\");\n",
        "    }\n",
        "    for(i=l-1;i>0;i--)\n",
        "    {\n",
        "        for(j=0;j<i;j++)\n",
        "        {\n",
        "            printf(\"%c\",s[j]);\n",
        "        }\n",
        "        printf(\"\\n\");\n",
        "    }\n",
        "    return 0;\n",
        "\n",
        "}\n"
      ],
      "execution_count": 0,
      "outputs": []
    }
  ]
}