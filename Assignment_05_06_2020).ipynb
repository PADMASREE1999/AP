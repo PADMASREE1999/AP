{
  "nbformat": 4,
  "nbformat_minor": 0,
  "metadata": {
    "colab": {
      "name": "Assignment 05-06-2020)",
      "provenance": [],
      "authorship_tag": "ABX9TyOIDBckTnowDav4770qfpCO",
      "include_colab_link": true
    },
    "kernelspec": {
      "name": "python3",
      "display_name": "Python 3"
    }
  },
  "cells": [
    {
      "cell_type": "markdown",
      "metadata": {
        "id": "view-in-github",
        "colab_type": "text"
      },
      "source": [
        "<a href=\"https://colab.research.google.com/github/PADMASREE1999/AP/blob/master/Assignment_05_06_2020).ipynb\" target=\"_parent\"><img src=\"https://colab.research.google.com/assets/colab-badge.svg\" alt=\"Open In Colab\"/></a>"
      ]
    },
    {
      "cell_type": "markdown",
      "metadata": {
        "id": "da6RwTcQvupb",
        "colab_type": "text"
      },
      "source": [
        "## CSE - 221710307059 - Tummala Sai Padmasree\n",
        "\n"
      ]
    },
    {
      "cell_type": "markdown",
      "metadata": {
        "id": "kvigex-9vvEv",
        "colab_type": "text"
      },
      "source": [
        "###Question 1:\n",
        "[Data Series]            \n",
        "Write a Python program to add, subtract, multiple and divide two Pandas Series.                        \n",
        "Sample Series:            \n",
        "[2, 4, 6, 8, 10], [1, 3, 5, 7, 9]        \n",
        "Sample Output:                  \n",
        "[2, 4, 6, 8, 10] + [1, 3, 5, 7, 9] =  [3, 7, 11, 15, 19]\n",
        "\t\t \n"
      ]
    },
    {
      "cell_type": "code",
      "metadata": {
        "id": "Or69y8FUurCy",
        "colab_type": "code",
        "colab": {
          "base_uri": "https://localhost:8080/",
          "height": 503
        },
        "outputId": "9d5b5e75-9ebb-46c2-b43f-b0d6bc654c51"
      },
      "source": [
        "import pandas as pd\n",
        "ds1=pd.Series([2,4,6,8,10])\n",
        "ds2=pd.Series([1,3,5,7,9])\n",
        "print(\"Sum of two series:\")\n",
        "print(ds1+ds2)\n",
        "print(\"Difference of two series:\")\n",
        "print(ds1-ds2)\n",
        "print(\"Product of two series:\")\n",
        "print(ds1*ds2)\n",
        "print(\"Series1/Series2:\")\n",
        "print(ds1/ds2)"
      ],
      "execution_count": 3,
      "outputs": [
        {
          "output_type": "stream",
          "text": [
            "Sum of two series:\n",
            "0     3\n",
            "1     7\n",
            "2    11\n",
            "3    15\n",
            "4    19\n",
            "dtype: int64\n",
            "Difference of two series:\n",
            "0    1\n",
            "1    1\n",
            "2    1\n",
            "3    1\n",
            "4    1\n",
            "dtype: int64\n",
            "Product of two series:\n",
            "0     2\n",
            "1    12\n",
            "2    30\n",
            "3    56\n",
            "4    90\n",
            "dtype: int64\n",
            "Series1/Series2:\n",
            "0    2.000000\n",
            "1    1.333333\n",
            "2    1.200000\n",
            "3    1.142857\n",
            "4    1.111111\n",
            "dtype: float64\n"
          ],
          "name": "stdout"
        }
      ]
    },
    {
      "cell_type": "markdown",
      "metadata": {
        "id": "ju3W3GXtxqwQ",
        "colab_type": "text"
      },
      "source": [
        "### Question 2:\n",
        "[Quartiles]         \n",
        "Write a Pandas program to compute the minimum, 25th percentile, median, 75th, and maximum of a given series.      \n",
        "Sample Output:           \n",
        "Original Series:              \n",
        "0 3.000938           \n",
        "1 11.370722              \n",
        "2 14.612143                 \n",
        "3 8.990256                  \n",
        "4 13.925283                     \n",
        "5 12.056875            \n",
        ".... 17 14.118931                \n",
        "18 8.247458                   \n",
        "19 5.526727                   \n",
        "dtype: float64                         \n",
        "Minimum, 25th percentile, median, 75th,  and maximum of a given series:   \n",
        "[ 3.00093811 8.09463867 10.23353705 12.21537733 14.61214321]         \n"
      ]
    },
    {
      "cell_type": "code",
      "metadata": {
        "id": "UaWccvP0yEVT",
        "colab_type": "code",
        "colab": {
          "base_uri": "https://localhost:8080/",
          "height": 451
        },
        "outputId": "1ac5d49c-73c2-49a2-926d-2769f9c74e76"
      },
      "source": [
        "import pandas as pd\n",
        "import numpy as np\n",
        "state=np.random.RandomState(100)\n",
        "series=pd.Series(state.normal(10,4,20))\n",
        "print(\"Original Series:\")\n",
        "print(series)\n",
        "print(\"\\nMinimum,25th percentile,median,75th and maximum:\")\n",
        "result=np.percentile(series,q=[0,25,50,75,100])\n",
        "print(result)"
      ],
      "execution_count": 5,
      "outputs": [
        {
          "output_type": "stream",
          "text": [
            "Original Series:\n",
            "0      3.000938\n",
            "1     11.370722\n",
            "2     14.612143\n",
            "3      8.990256\n",
            "4     13.925283\n",
            "5     12.056875\n",
            "6     10.884719\n",
            "7      5.719827\n",
            "8      9.242017\n",
            "9     11.020006\n",
            "10     8.167892\n",
            "11    11.740654\n",
            "12     7.665620\n",
            "13    13.267388\n",
            "14    12.690883\n",
            "15     9.582355\n",
            "16     7.874878\n",
            "17    14.118931\n",
            "18     8.247458\n",
            "19     5.526727\n",
            "dtype: float64\n",
            "\n",
            "Minimum,25th percentile,median,75th and maximum:\n",
            "[ 3.00093811  8.09463867 10.23353705 12.21537733 14.61214321]\n"
          ],
          "name": "stdout"
        }
      ]
    },
    {
      "cell_type": "markdown",
      "metadata": {
        "id": "0peFj-kzx-UW",
        "colab_type": "text"
      },
      "source": [
        "###Question 3:\n",
        "[List Difference]                 \n",
        "Write a Pandas program to get the items of a given series not present in another given series.                \n",
        "Sample Output:              \n",
        "Original Series:             \n",
        "sr1:        \n",
        "0 1               \n",
        "1 2              \n",
        "2 3                 \n",
        "3 4                  \n",
        "4 5                     \n",
        "dtype: int64             \n",
        "sr2:               \n",
        "0 2                  \n",
        "1 4                        \n",
        "2 6                          \n",
        "3 8                        \n",
        "4 10                         \n",
        "dtype: int64                 \n",
        "Items of sr1 not present in sr2:      \n",
        "0 1                 \n",
        "2 3               \n",
        "4 5                  \n",
        "dtype: int64                      \n",
        "     "
      ]
    },
    {
      "cell_type": "code",
      "metadata": {
        "id": "FtibxmeV13Ai",
        "colab_type": "code",
        "colab": {
          "base_uri": "https://localhost:8080/",
          "height": 381
        },
        "outputId": "8e38cbc1-4c72-4027-ec99-ab6a713b43c4"
      },
      "source": [
        "import pandas as pd\n",
        "s1=pd.Series([1,2,3,4,5])\n",
        "s2=pd.Series([2,4,6,8,10])\n",
        "print(\"Original Series:\")\n",
        "print(\"sr1:\")\n",
        "print(s1)\n",
        "print(\"sr2:\")\n",
        "print(s2)\n",
        "print(\"\\nItems of sr1 not present in sr2:\")\n",
        "print(s1[~s1.isin(s2)])"
      ],
      "execution_count": 6,
      "outputs": [
        {
          "output_type": "stream",
          "text": [
            "Original Series:\n",
            "sr1:\n",
            "0    1\n",
            "1    2\n",
            "2    3\n",
            "3    4\n",
            "4    5\n",
            "dtype: int64\n",
            "sr2:\n",
            "0     2\n",
            "1     4\n",
            "2     6\n",
            "3     8\n",
            "4    10\n",
            "dtype: int64\n",
            "\n",
            "Items of sr1 not present in sr2:\n",
            "0    1\n",
            "2    3\n",
            "4    5\n",
            "dtype: int64\n"
          ],
          "name": "stdout"
        }
      ]
    },
    {
      "cell_type": "markdown",
      "metadata": {
        "id": "iRyXPIxR2s17",
        "colab_type": "text"
      },
      "source": [
        "###Question 4:\n",
        "[Filter Words with Multiple Vowels]      \n",
        "Write a Pandas program to filter words from a given series that contain at least two vowels.              \n",
        "Sample Output:              \n",
        "Original Series:            \n",
        "0 Red                      \n",
        "1 Green                          \n",
        "2 Orange            \n",
        "3 Pink                \n",
        "4 Yellow                     \n",
        "5 White                     \n",
        "dtype: object                    \n",
        "                     \n",
        "Filtered words:                  \n",
        "1 Green                        \n",
        "2 Orange                     \n",
        "4 Yellow                \n",
        "5 White                        \n",
        "dtype: object                 \n",
        "\n"
      ]
    },
    {
      "cell_type": "code",
      "metadata": {
        "id": "9IaF7xJk26_4",
        "colab_type": "code",
        "colab": {
          "base_uri": "https://localhost:8080/",
          "height": 260
        },
        "outputId": "012f4f01-9df0-4bb6-b419-82327a3d691d"
      },
      "source": [
        "import pandas as pd\n",
        "from collections import Counter\n",
        "color=pd.Series(['Red','Green','Orange','Pink','Yellow','White'])\n",
        "print(\"Original Series:\")\n",
        "print(color)\n",
        "print(\"Filtered words:\")\n",
        "result=color.map(lambda c: sum([Counter(c.lower()).get(i,0)for i in list('aeiou')])>=2)\n",
        "print(color[result])"
      ],
      "execution_count": 7,
      "outputs": [
        {
          "output_type": "stream",
          "text": [
            "Original Series:\n",
            "0       Red\n",
            "1     Green\n",
            "2    Orange\n",
            "3      Pink\n",
            "4    Yellow\n",
            "5     White\n",
            "dtype: object\n",
            "Filtered words:\n",
            "1     Green\n",
            "2    Orange\n",
            "4    Yellow\n",
            "5     White\n",
            "dtype: object\n"
          ],
          "name": "stdout"
        }
      ]
    },
    {
      "cell_type": "markdown",
      "metadata": {
        "id": "wYVflSCz4Z-S",
        "colab_type": "text"
      },
      "source": [
        "###Question 5:\n",
        "Consider the following as my DataFrame,Write a Pandas program to select the rows where the number of attempts in the examination is greater than 2.\n",
        "\n"
      ]
    },
    {
      "cell_type": "code",
      "metadata": {
        "id": "a7HsjqCV4Wg2",
        "colab_type": "code",
        "colab": {
          "base_uri": "https://localhost:8080/",
          "height": 355
        },
        "outputId": "c3e96cd5-d9ee-4bdf-8bcf-f911d0278cca"
      },
      "source": [
        "data={'name':['Anastasia','Dima','Katherine','James','Emily','Michael','Matthew','Laura','Kevin','Jones'],\n",
        "      'score':[12.5,9,16.5,np.nan,9,20,14.5,np.nan,8,19],\n",
        "      'attempts':[1,3,2,3,2,3,1,1,2,1],\n",
        "      'qualify':['yes','no','yes','no','no','yes','yes','no','no','yes']}\n",
        "labels =['a','b','c','d','e','f','g','h','i','j']\n",
        "data=pd.DataFrame(data,dtype=np.int32)\n",
        "data"
      ],
      "execution_count": 8,
      "outputs": [
        {
          "output_type": "execute_result",
          "data": {
            "text/html": [
              "<div>\n",
              "<style scoped>\n",
              "    .dataframe tbody tr th:only-of-type {\n",
              "        vertical-align: middle;\n",
              "    }\n",
              "\n",
              "    .dataframe tbody tr th {\n",
              "        vertical-align: top;\n",
              "    }\n",
              "\n",
              "    .dataframe thead th {\n",
              "        text-align: right;\n",
              "    }\n",
              "</style>\n",
              "<table border=\"1\" class=\"dataframe\">\n",
              "  <thead>\n",
              "    <tr style=\"text-align: right;\">\n",
              "      <th></th>\n",
              "      <th>name</th>\n",
              "      <th>score</th>\n",
              "      <th>attempts</th>\n",
              "      <th>qualify</th>\n",
              "    </tr>\n",
              "  </thead>\n",
              "  <tbody>\n",
              "    <tr>\n",
              "      <th>0</th>\n",
              "      <td>Anastasia</td>\n",
              "      <td>12.5</td>\n",
              "      <td>1</td>\n",
              "      <td>yes</td>\n",
              "    </tr>\n",
              "    <tr>\n",
              "      <th>1</th>\n",
              "      <td>Dima</td>\n",
              "      <td>9</td>\n",
              "      <td>3</td>\n",
              "      <td>no</td>\n",
              "    </tr>\n",
              "    <tr>\n",
              "      <th>2</th>\n",
              "      <td>Katherine</td>\n",
              "      <td>16.5</td>\n",
              "      <td>2</td>\n",
              "      <td>yes</td>\n",
              "    </tr>\n",
              "    <tr>\n",
              "      <th>3</th>\n",
              "      <td>James</td>\n",
              "      <td>NaN</td>\n",
              "      <td>3</td>\n",
              "      <td>no</td>\n",
              "    </tr>\n",
              "    <tr>\n",
              "      <th>4</th>\n",
              "      <td>Emily</td>\n",
              "      <td>9</td>\n",
              "      <td>2</td>\n",
              "      <td>no</td>\n",
              "    </tr>\n",
              "    <tr>\n",
              "      <th>5</th>\n",
              "      <td>Michael</td>\n",
              "      <td>20</td>\n",
              "      <td>3</td>\n",
              "      <td>yes</td>\n",
              "    </tr>\n",
              "    <tr>\n",
              "      <th>6</th>\n",
              "      <td>Matthew</td>\n",
              "      <td>14.5</td>\n",
              "      <td>1</td>\n",
              "      <td>yes</td>\n",
              "    </tr>\n",
              "    <tr>\n",
              "      <th>7</th>\n",
              "      <td>Laura</td>\n",
              "      <td>NaN</td>\n",
              "      <td>1</td>\n",
              "      <td>no</td>\n",
              "    </tr>\n",
              "    <tr>\n",
              "      <th>8</th>\n",
              "      <td>Kevin</td>\n",
              "      <td>8</td>\n",
              "      <td>2</td>\n",
              "      <td>no</td>\n",
              "    </tr>\n",
              "    <tr>\n",
              "      <th>9</th>\n",
              "      <td>Jones</td>\n",
              "      <td>19</td>\n",
              "      <td>1</td>\n",
              "      <td>yes</td>\n",
              "    </tr>\n",
              "  </tbody>\n",
              "</table>\n",
              "</div>"
            ],
            "text/plain": [
              "        name score  attempts qualify\n",
              "0  Anastasia  12.5         1     yes\n",
              "1       Dima     9         3      no\n",
              "2  Katherine  16.5         2     yes\n",
              "3      James   NaN         3      no\n",
              "4      Emily     9         2      no\n",
              "5    Michael    20         3     yes\n",
              "6    Matthew  14.5         1     yes\n",
              "7      Laura   NaN         1      no\n",
              "8      Kevin     8         2      no\n",
              "9      Jones    19         1     yes"
            ]
          },
          "metadata": {
            "tags": []
          },
          "execution_count": 8
        }
      ]
    },
    {
      "cell_type": "code",
      "metadata": {
        "id": "BlnNMU0c6mTL",
        "colab_type": "code",
        "colab": {
          "base_uri": "https://localhost:8080/",
          "height": 104
        },
        "outputId": "ec2387a6-8952-4433-baa2-270d164da563"
      },
      "source": [
        "import pandas as pd\n",
        "import numpy as np\n",
        "data  = {'name': ['Anastasia', 'Dima', 'Katherine', 'James', 'Emily', 'Michael', 'Matthew', 'Laura', 'Kevin', 'Jonas'],\n",
        "        'score': [12.5, 9, 16.5, np.nan, 9, 20, 14.5, np.nan, 8, 19],\n",
        "        'attempts': [1, 3, 2, 3, 2, 3, 1, 1, 2, 1],\n",
        "        'qualify': ['yes', 'no', 'yes', 'no', 'no', 'yes', 'yes', 'no', 'no', 'yes']}\n",
        "labels = ['a', 'b', 'c', 'd', 'e', 'f', 'g', 'h', 'i', 'j']\n",
        "df = pd.DataFrame(data , index=labels)\n",
        "print(\"Number of attempts in the examination is greater than 2:\")\n",
        "print(df[df['attempts']>2])"
      ],
      "execution_count": 9,
      "outputs": [
        {
          "output_type": "stream",
          "text": [
            "Number of attempts in the examination is greater than 2:\n",
            "      name  score  attempts qualify\n",
            "b     Dima    9.0         3      no\n",
            "d    James    NaN         3      no\n",
            "f  Michael   20.0         3     yes\n"
          ],
          "name": "stdout"
        }
      ]
    }
  ]
}