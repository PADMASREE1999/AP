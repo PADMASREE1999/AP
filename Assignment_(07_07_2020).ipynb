{
  "nbformat": 4,
  "nbformat_minor": 0,
  "metadata": {
    "colab": {
      "name": "Assignment (07-07-2020)",
      "provenance": [],
      "authorship_tag": "ABX9TyO2HhUwXHgsnokdqnUYOhcu",
      "include_colab_link": true
    },
    "kernelspec": {
      "name": "python3",
      "display_name": "Python 3"
    }
  },
  "cells": [
    {
      "cell_type": "markdown",
      "metadata": {
        "id": "view-in-github",
        "colab_type": "text"
      },
      "source": [
        "<a href=\"https://colab.research.google.com/github/PADMASREE1999/AP/blob/master/Assignment_(07_07_2020).ipynb\" target=\"_parent\"><img src=\"https://colab.research.google.com/assets/colab-badge.svg\" alt=\"Open In Colab\"/></a>"
      ]
    },
    {
      "cell_type": "markdown",
      "metadata": {
        "id": "gbW8UnqUp3Hn",
        "colab_type": "text"
      },
      "source": [
        "##CSE - 221710307059 - Tummala Sai Padmasree"
      ]
    },
    {
      "cell_type": "markdown",
      "metadata": {
        "id": "YYF6f_6Dp96s",
        "colab_type": "text"
      },
      "source": [
        "###Question 1:\n",
        " Write a program in C++ to convert temperature in Fahrenheit to Celsius.       \n",
        "Test Data:                                          \n",
        "Input the temperature in Fahrenheit : 95            \n",
        "Expected Output:                   \n",
        "the temperature in Fahrenheit: 95         \n",
        "the temperature in celsius : 35                     \n"
      ]
    },
    {
      "cell_type": "code",
      "metadata": {
        "id": "QyQCSSS9nzCh",
        "colab_type": "code",
        "colab": {}
      },
      "source": [
        "#include<iostream>\n",
        "using namespace std;\n",
        "int main()\n",
        "{\n",
        "    float f,c;\n",
        "    cout<<\"Input temperature in Fahrenheit:\";\n",
        "    cin>>f;\n",
        "    c=((f*5.0)-(5.0*32))/9;\n",
        "    cout<<\"The temperature in Fahrenheit :\"<<f;\n",
        "    cout<<\"\\nThe temperature in celsius :\"<<c;\n",
        "    return 0;\n",
        "}\n"
      ],
      "execution_count": null,
      "outputs": []
    },
    {
      "cell_type": "markdown",
      "metadata": {
        "id": "F_PYXCBEdhX_",
        "colab_type": "text"
      },
      "source": [
        "###Question 2:\n",
        "Write a program in C++ to find size of fundamental data types.       \n",
        "Expected Output:                    \n",
        "\n",
        "Size of fundamental data types :            \n",
        "\n",
        "The sizeof(char) is :                 \n",
        "The sizeof(short) is :                      \n",
        "The sizeof(int) is :             \n",
        "The sizeof(long) is :                       \n",
        "The sizeof(long long) is :                 \n",
        "The sizeof(float) is :                     \n",
        "The sizeof(double) is :                              \n",
        "The sizeof(long double) is :                          \n",
        "The sizeof(bool) is :                            \n"
      ]
    },
    {
      "cell_type": "code",
      "metadata": {
        "id": "Ro3CpGYidutb",
        "colab_type": "code",
        "colab": {}
      },
      "source": [
        "#include<iostream>\n",
        "using namespace std;\n",
        "int main()\n",
        "{\n",
        "    cout<<\"The size of char is:\"<<sizeof(char);\n",
        "    cout<<\"\\n The size of short is:\"<<sizeof(short);\n",
        "    cout<<\"\\n The size of int is:\"<<sizeof(int);\n",
        "    cout<<\"\\n The size of long is:\"<<sizeof(long);\n",
        "    cout<<\"\\n The size of long long is:\"<<sizeof(long long);\n",
        "    cout<<\"\\n The size of float is:\"<<sizeof(float);\n",
        "    cout<<\"\\n The size of double is:\"<<sizeof(double);\n",
        "    cout<<\"\\n The size of long double is:\"<<sizeof(long double);\n",
        "    cout<<\"\\n The size of bool is:\"<<sizeof(bool);\n",
        "    return 0;\n",
        "}\n",
        "\n",
        "\n",
        "output:\n",
        "The size of char is:1\n",
        " The size of short is:2\n",
        " The size of int is:4\n",
        " The size of long is:4\n",
        " The size of long long is:8\n",
        " The size of float is:4\n",
        " The size of double is:8\n",
        " The size of long double is:16\n",
        " The size of bool is:1"
      ],
      "execution_count": null,
      "outputs": []
    }
  ]
}