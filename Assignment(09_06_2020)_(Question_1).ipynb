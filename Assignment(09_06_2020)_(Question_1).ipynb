{
  "nbformat": 4,
  "nbformat_minor": 0,
  "metadata": {
    "colab": {
      "name": "Assignment(09-06-2020) (Question 1)",
      "provenance": [],
      "authorship_tag": "ABX9TyOeFz4oi2YMkef0d3V3pvOw",
      "include_colab_link": true
    },
    "kernelspec": {
      "name": "python3",
      "display_name": "Python 3"
    }
  },
  "cells": [
    {
      "cell_type": "markdown",
      "metadata": {
        "id": "view-in-github",
        "colab_type": "text"
      },
      "source": [
        "<a href=\"https://colab.research.google.com/github/PADMASREE1999/AP/blob/master/Assignment(09_06_2020)_(Question_1).ipynb\" target=\"_parent\"><img src=\"https://colab.research.google.com/assets/colab-badge.svg\" alt=\"Open In Colab\"/></a>"
      ]
    },
    {
      "cell_type": "markdown",
      "metadata": {
        "id": "i9yheU_L06D0",
        "colab_type": "text"
      },
      "source": [
        "##CSE - 221710307059 - Tummala Sai Padmasree"
      ]
    },
    {
      "cell_type": "markdown",
      "metadata": {
        "id": "WYKthIR0oQLi",
        "colab_type": "text"
      },
      "source": [
        "###Question 1:\n",
        "Use 1 to 9 and print a spiral matrix of order 3X3\n",
        "\n",
        "1 2 3\n",
        "\n",
        "8 9 4\n",
        "\n",
        "7 6 5\n"
      ]
    },
    {
      "cell_type": "code",
      "metadata": {
        "id": "RL0gUSmL2HYM",
        "colab_type": "code",
        "colab": {}
      },
      "source": [
        "#include<stdio.h>\n",
        "int main()\n",
        "{\n",
        "    int z,i,j,low,top,a[10][10],n=1;\n",
        "    scanf(\"%d\",&z);//z rows and z columns\n",
        "    //int a[z][z];\n",
        "    low=0;//start index\n",
        "    top=z-1;//last index\n",
        "    for(i=0;i<z;i++,low++,top--)\n",
        "    {\n",
        "        //First row\n",
        "        for(j=low;j<=top;j++,n++)\n",
        "        {\n",
        "            a[i][j]=n;\n",
        "        }\n",
        "        //Last col\n",
        "        for(j=low+1;j<=top;j++,n++)\n",
        "        {\n",
        "            a[j][top]=n;\n",
        "        }\n",
        "        //last row\n",
        "        for(j=top-1;j>=low;j--,n++)\n",
        "        {\n",
        "            a[top][j]=n;\n",
        "        }\n",
        "        //first col\n",
        "        for(j=top-1;j>low;j--,n++)\n",
        "        {\n",
        "            a[j][low]=n;\n",
        "        }\n",
        "    }\n",
        "    for(i=0;i<z;i++)\n",
        "    {\n",
        "        for(j=0;j<z;j++)\n",
        "        {\n",
        "            printf(\"%d \",a[i][j]);\n",
        "        }\n",
        "        printf(\"\\n\");\n",
        "    }\n",
        "}\n"
      ],
      "execution_count": 0,
      "outputs": []
    }
  ]
}