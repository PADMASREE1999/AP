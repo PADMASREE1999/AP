{
  "nbformat": 4,
  "nbformat_minor": 0,
  "metadata": {
    "colab": {
      "name": "Assignment (19-06-2020)",
      "provenance": [],
      "authorship_tag": "ABX9TyNlL+grc79O8D9c7uXklARs",
      "include_colab_link": true
    },
    "kernelspec": {
      "name": "python3",
      "display_name": "Python 3"
    }
  },
  "cells": [
    {
      "cell_type": "markdown",
      "metadata": {
        "id": "view-in-github",
        "colab_type": "text"
      },
      "source": [
        "<a href=\"https://colab.research.google.com/github/PADMASREE1999/AP/blob/master/Assignment_(19_06_2020).ipynb\" target=\"_parent\"><img src=\"https://colab.research.google.com/assets/colab-badge.svg\" alt=\"Open In Colab\"/></a>"
      ]
    },
    {
      "cell_type": "markdown",
      "metadata": {
        "id": "vgH1Be_3nT_r",
        "colab_type": "text"
      },
      "source": [
        "##CSE - 221710307059 - Tummala Sai Padmasree"
      ]
    },
    {
      "cell_type": "markdown",
      "metadata": {
        "id": "vlnAFj3XnZkh",
        "colab_type": "text"
      },
      "source": [
        "###Question 1:\n",
        "Write a program in C to count total number of vowel or consonant in a string."
      ]
    },
    {
      "cell_type": "code",
      "metadata": {
        "id": "YoW9OmsgnOH9",
        "colab_type": "code",
        "colab": {}
      },
      "source": [
        "#include<stdio.h>\n",
        "#include<string.h>\n",
        "int main()\n",
        "{\n",
        "    char s[100];\n",
        "    scanf(\"%s\",s);\n",
        "    int i,count=0,flag=0;\n",
        "    for(i=0;i<strlen(s);i++)\n",
        "    {\n",
        "         if(s[i] =='a' || s[i]=='e' || s[i]=='i' || s[i]=='o' || s[i]=='u' || s[i]=='A' || s[i]=='E' || s[i]=='I' || s[i]=='O' || s[i]=='U')\n",
        "        {\n",
        "            count++;\n",
        "        }\n",
        "        else if((s[i]>='a' && s[i]<='z') || (s[i]>='A' && s[i]<='Z'))\n",
        "        {\n",
        "            flag++;\n",
        "        }\n",
        "    }\n",
        "    printf(\"The number of vowels in the string is %d\",count);\n",
        "    printf(\"\\nThe number of consonants in the string is %d\",flag);\n",
        "    return 0;\n",
        "}"
      ],
      "execution_count": null,
      "outputs": []
    },
    {
      "cell_type": "markdown",
      "metadata": {
        "id": "96eup87Oqfz5",
        "colab_type": "text"
      },
      "source": [
        "###Question 2:\n",
        "Write a program in C to extract a substring from a given string.         \n",
        "Test Data :                            \n",
        "Input the string : this is test string            \n",
        "Input the position to start extraction :9            \n",
        "Input the length of substring :4  \n",
        "Expected Output :\n",
        "\n",
        "The substring retrieve from the string is : \" test \"                       "
      ]
    },
    {
      "cell_type": "code",
      "metadata": {
        "id": "pZRhvNfLqfOz",
        "colab_type": "code",
        "colab": {}
      },
      "source": [
        "#include<stdio.h>\n",
        "#include<string.h>\n",
        "int main()\n",
        "{\n",
        "    char s[1000];\n",
        "    scanf(\"%[^\\n]s\",s);\n",
        "    int x,l,i;\n",
        "    scanf(\"%d%d\",&x,&l);\n",
        "    i=x+l;\n",
        "    printf(\"the substring retrieved from the string is : ' \");\n",
        "    while(x<i)\n",
        "    {\n",
        "        printf(\"%c\",s[x-1]);\n",
        "        x++;\n",
        "    }\n",
        "    printf(\" '\");\n",
        "    return 0;\n",
        "}\n"
      ],
      "execution_count": null,
      "outputs": []
    },
    {
      "cell_type": "markdown",
      "metadata": {
        "id": "5JskiKgmvRTl",
        "colab_type": "text"
      },
      "source": [
        "###Question 3:\n",
        "Write a program in C to count the number of punctuation characters exists in a string."
      ]
    },
    {
      "cell_type": "code",
      "metadata": {
        "id": "q3Jn0HIEy5Pa",
        "colab_type": "code",
        "colab": {}
      },
      "source": [
        "#include<stdio.h>\n",
        "#include<string.h>\n",
        "int main()\n",
        "{\n",
        "    char s[100];\n",
        "    scanf(\"%[^\\n]s\",s);\n",
        "    int i,count=0;\n",
        "    for(i=0;i<strlen(s);i++)\n",
        "    {\n",
        "        switch(s[i])\n",
        "        {\n",
        "            case '.':\n",
        "            case '?':\n",
        "            case '!':\n",
        "            case '(':\n",
        "            case ')':\n",
        "            case ',':\n",
        "            case ':':\n",
        "            case ';':\n",
        "                count++;\n",
        "                break;\n",
        "        }\n",
        "    }\n",
        "    printf(\"%d\",count);\n",
        "    return 0;\n",
        "}\n"
      ],
      "execution_count": null,
      "outputs": []
    },
    {
      "cell_type": "markdown",
      "metadata": {
        "id": "B7zusSvvy-sn",
        "colab_type": "text"
      },
      "source": [
        "alternate solution"
      ]
    },
    {
      "cell_type": "code",
      "metadata": {
        "id": "XE5GHzkJy6QD",
        "colab_type": "code",
        "colab": {}
      },
      "source": [
        "#include<stdio.h>\n",
        "#include<string.h>\n",
        "#include<ctype.h>\n",
        "int main()\n",
        "{\n",
        "    char s[100];\n",
        "    scanf(\"%[^\\n]s\",s);\n",
        "    int i,count=0;\n",
        "    for(i=0;i<strlen(s);i++)\n",
        "    {\n",
        "            if(ispunct(s[i]))\n",
        "            {\n",
        "                count++;\n",
        "            }\n",
        "    }\n",
        "    printf(\"%d\",count);\n",
        "    return 0;\n",
        "}\n"
      ],
      "execution_count": null,
      "outputs": []
    }
  ]
}