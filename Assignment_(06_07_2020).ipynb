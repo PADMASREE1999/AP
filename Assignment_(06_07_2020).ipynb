{
  "nbformat": 4,
  "nbformat_minor": 0,
  "metadata": {
    "colab": {
      "name": "Assignment (06-07-2020)",
      "provenance": [],
      "authorship_tag": "ABX9TyMILvRnk9VmaLPu0CN1th6d",
      "include_colab_link": true
    },
    "kernelspec": {
      "name": "python3",
      "display_name": "Python 3"
    }
  },
  "cells": [
    {
      "cell_type": "markdown",
      "metadata": {
        "id": "view-in-github",
        "colab_type": "text"
      },
      "source": [
        "<a href=\"https://colab.research.google.com/github/PADMASREE1999/AP/blob/master/Assignment_(06_07_2020).ipynb\" target=\"_parent\"><img src=\"https://colab.research.google.com/assets/colab-badge.svg\" alt=\"Open In Colab\"/></a>"
      ]
    },
    {
      "cell_type": "markdown",
      "metadata": {
        "id": "jPry8SEcF3a3",
        "colab_type": "text"
      },
      "source": [
        "##CSE - 221710307059 - Tummala Sai Padmasree"
      ]
    },
    {
      "cell_type": "markdown",
      "metadata": {
        "id": "t-u1_vrZF8ra",
        "colab_type": "text"
      },
      "source": [
        "###Question 1:\n",
        " Print the nodes of the binary tree whose height is a prime number ."
      ]
    },
    {
      "cell_type": "code",
      "metadata": {
        "id": "N1rSSdTrFyRl",
        "colab_type": "code",
        "colab": {}
      },
      "source": [
        "#include<stdio.h>\n",
        "#include<stdlib.h>\n",
        "\n",
        "struct node\n",
        "{\n",
        "    int data;\n",
        "    struct node *left, *right;\n",
        "};\n",
        "\n",
        "struct node *root=NULL;\n",
        "\n",
        "struct node* createNode(int data)\n",
        "{\n",
        "    struct node nn=(struct node)malloc(sizeof(struct node));\n",
        "    nn->data=data;\n",
        "    nn->left=NULL;\n",
        "    nn->right=NULL;\n",
        "    return nn;\n",
        "}\n",
        "\n",
        "void level(struct node *n,int d,int c)\n",
        "{\n",
        "    if(n)\n",
        "    {\n",
        "        if(d==c)\n",
        "            printf(\"%d \",n->data);\n",
        "        else\n",
        "        {\n",
        "            level(n->left,d,c+1);\n",
        "            level(n->right,d,c+1);\n",
        "        }\n",
        "    }\n",
        "}\n",
        "\n",
        "void printPrime()\n",
        "{\n",
        "    int h,i,j,c=0;\n",
        "    h = height(root);\n",
        "    for (i = 0;i < h;i++)\n",
        "    {\n",
        "        c=0;\n",
        "        for(j=2;j<=i;j++)\n",
        "        {\n",
        "            if(i%j==0)\n",
        "            {\n",
        "                c++;\n",
        "            }\n",
        "        }\n",
        "        if(c==1)\n",
        "        {\n",
        "            printf(\"\\nlevel %d  :\",i);\n",
        "            level(root,i,0);\n",
        "            printf(\"\\n\");\n",
        "        }\n",
        "    }\n",
        "}\n",
        "\n",
        "int height(struct node *temp)\n",
        "{\n",
        "    if(root==NULL)\n",
        "    {\n",
        "        printf(\"Tree is empty\\n\");\n",
        "        return 0;\n",
        "    }\n",
        "    else\n",
        "    {\n",
        "        int lh=0,rh=0;\n",
        "        if(temp->left!=NULL)\n",
        "            lh=height(temp->left);\n",
        "        if(temp->right!=NULL)\n",
        "            rh=height(temp->right);\n",
        "        int max=(lh>rh)?lh:rh;\n",
        "        return(max+1);\n",
        "    }\n",
        "}\n",
        "\n",
        "int main()\n",
        "{\n",
        "    root=createNode(1);\n",
        "    root->left=createNode(2);\n",
        "    root->right=createNode(3);\n",
        "    root->left->left=createNode(4);\n",
        "    root->right->left=createNode(5);\n",
        "    root->right->right=createNode(6);\n",
        "    root->right->right->right=createNode(7);\n",
        "    root->right->right->right->right=createNode(8);\n",
        "    printPrime();\n",
        "    return 0;\n",
        "}"
      ],
      "execution_count": null,
      "outputs": []
    },
    {
      "cell_type": "markdown",
      "metadata": {
        "id": "qDcq-MPfQjga",
        "colab_type": "text"
      },
      "source": [
        "###Question 2:\n",
        " Write a program to find the maximun depth or height of a tree."
      ]
    },
    {
      "cell_type": "code",
      "metadata": {
        "id": "6TKg7c_rQtwU",
        "colab_type": "code",
        "colab": {}
      },
      "source": [
        "#include<stdio.h>\n",
        "#include<stdlib.h>\n",
        "struct node\n",
        "{\n",
        "    int data;\n",
        "    struct node* left;\n",
        "    struct node* right;\n",
        "};\n",
        "int maxdepth(struct node *node)\n",
        "{\n",
        "    if(node==NULL)\n",
        "        return 0;\n",
        "    else\n",
        "    {\n",
        "        int l=maxdepth(node->left);\n",
        "        int r=maxdepth(node->right);\n",
        "        if(l>r)\n",
        "        {\n",
        "            return l+1;\n",
        "        }\n",
        "        else\n",
        "            return r+1;\n",
        "    }\n",
        "}\n",
        "struct node* newnode(int data)\n",
        "{\n",
        "    struct node* node = (struct node*)malloc(sizeof(struct node));\n",
        "    node->data=data;\n",
        "    node->left=NULL;\n",
        "    node->right=NULL;\n",
        "    return(node);\n",
        "\n",
        "}\n",
        "int main()\n",
        "{\n",
        "    struct node *root = newnode(32);\n",
        "    root->left=newnode(34);\n",
        "    root->right=newnode(45);\n",
        "    root->left->left=newnode(56);\n",
        "    root->left->right=newnode(67);\n",
        "    printf(\"Height of tree is %d\",maxdepth(root));\n",
        "    getchar();\n",
        "    return 0;\n",
        "}\n"
      ],
      "execution_count": null,
      "outputs": []
    }
  ]
}