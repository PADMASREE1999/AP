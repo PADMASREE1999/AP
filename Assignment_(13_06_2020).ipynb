{
  "nbformat": 4,
  "nbformat_minor": 0,
  "metadata": {
    "colab": {
      "name": "Assignment (13-06-2020)",
      "provenance": [],
      "authorship_tag": "ABX9TyMr1UXO9GAncz8iYUvHGkGX",
      "include_colab_link": true
    },
    "kernelspec": {
      "name": "python3",
      "display_name": "Python 3"
    }
  },
  "cells": [
    {
      "cell_type": "markdown",
      "metadata": {
        "id": "view-in-github",
        "colab_type": "text"
      },
      "source": [
        "<a href=\"https://colab.research.google.com/github/PADMASREE1999/AP/blob/master/Assignment_(13_06_2020).ipynb\" target=\"_parent\"><img src=\"https://colab.research.google.com/assets/colab-badge.svg\" alt=\"Open In Colab\"/></a>"
      ]
    },
    {
      "cell_type": "markdown",
      "metadata": {
        "id": "5wPpuJZzz12l",
        "colab_type": "text"
      },
      "source": [
        "###CSE - 221710307059 - Tummala Sai Padmasree"
      ]
    },
    {
      "cell_type": "markdown",
      "metadata": {
        "id": "1IJxltQq0AQJ",
        "colab_type": "text"
      },
      "source": [
        "###Question 1:\n",
        " Write a C program that takes hours and minutes as input, and calculates the total number of minutes.             \n",
        "Expected Output :           \n",
        "Input hours: 5             \n",
        "Input minutes: 37             \n",
        "Total: 337 minutes.        "
      ]
    },
    {
      "cell_type": "code",
      "metadata": {
        "id": "PEACbDeHy63M",
        "colab_type": "code",
        "colab": {}
      },
      "source": [
        "#include<stdio.h>\n",
        "int main()\n",
        "{\n",
        "    int hours,minutes,total;\n",
        "    scanf(\"%d%d\",&hours,&minutes);\n",
        "    total=hours*60+minutes;\n",
        "    printf(\"%d minutes\",total);\n",
        "    return 0;\n",
        "}\n"
      ],
      "execution_count": 0,
      "outputs": []
    },
    {
      "cell_type": "markdown",
      "metadata": {
        "id": "mgTeXs8N2NfH",
        "colab_type": "text"
      },
      "source": [
        "###Question 2:\n",
        " Write a C program to check whether a character is an alphabet, digit or special character.                 \n",
        "Test Data :                \n",
        "@                       \n",
        "Expected Output :              \n",
        "This is a special character.             \n"
      ]
    },
    {
      "cell_type": "code",
      "metadata": {
        "id": "n3XtJ19R2aYb",
        "colab_type": "code",
        "colab": {}
      },
      "source": [
        "#include<stdio.h>\n",
        "int main()\n",
        "{\n",
        "    char ch;\n",
        "    scanf(\"%c\",&ch);\n",
        "    if((ch>='a'&&ch<='z') || (ch>='A'&&ch<='Z'))\n",
        "    {\n",
        "        printf(\"%c is alphabet\",ch);\n",
        "    }\n",
        "    else if(ch>='0'&&ch<='9')\n",
        "    {\n",
        "        printf(\"%c is digit\",ch);\n",
        "    }\n",
        "    else\n",
        "    {\n",
        "        printf(\"%c is a special character\",ch);\n",
        "    }\n",
        "    return 0;\n",
        "}\n"
      ],
      "execution_count": 0,
      "outputs": []
    },
    {
      "cell_type": "markdown",
      "metadata": {
        "id": "sNLGC2QQ4pg7",
        "colab_type": "text"
      },
      "source": [
        "###Question 3:\n",
        "Write a program in C to accept a grade and display the equivalent           \n",
        "description:                 \n",
        "\n",
        "Grade\tDescription          \n",
        "E -\tExcellent      \n",
        "V\t- Very Good            \n",
        "G\t- Good            \n",
        "A\t- Average                \n",
        "F\t- Fail                \n"
      ]
    },
    {
      "cell_type": "code",
      "metadata": {
        "id": "S5H2rDG448xZ",
        "colab_type": "code",
        "colab": {}
      },
      "source": [
        "#include<stdio.h>\n",
        "int main()\n",
        "{\n",
        "    char ch;\n",
        "    scanf(\"%c\",&ch);\n",
        "    switch(ch)\n",
        "    {\n",
        "        case 'E':printf(\"Excellent\");\n",
        "        break;\n",
        "        case 'V':printf(\"Very Good\");\n",
        "        break;\n",
        "        case 'G':printf(\"Good\");\n",
        "        break;\n",
        "        case 'A':printf(\"Average\");\n",
        "        break;\n",
        "        case 'F':printf(\"Fail\");\n",
        "        break;\n",
        "        defaut: printf(\"Invalid Grade\");\n",
        "    }\n",
        "    return 0;\n",
        "}\n"
      ],
      "execution_count": 0,
      "outputs": []
    },
    {
      "cell_type": "markdown",
      "metadata": {
        "id": "6uwzHZLE6Th_",
        "colab_type": "text"
      },
      "source": [
        "###Question 4:\n",
        "Write a program in C to calculate and print the Electricity bill of a given customer. The customer id., name and unit consumed by the user should be taken from the keyboard and display the total amount to pay to the customer. The charge are as follow :               \n",
        "\n",
        "Unit                  \t                                                                      Charge/unit          \n",
        "upto             199\t                                                                          @1.20,                                    \n",
        "200 and above but less than 400\t                                    @1.50,       \n",
        "400 and above but less than 600\t                                    @1.80,         \n",
        "600 and above\t                                                        @2.00,         \n",
        "If bill exceeds Rs. 400 then a surcharge of 15% will be charged and the minimum bill should be of Rs. 100/-                                            \n",
        "Test Data :             \n",
        "Customer Id:1001           \n",
        "Customer Name :James                 \n",
        "Units consumed by the customer :800        \n",
        "Expected Output :         \n",
        "Customer IDNO :1001         \n",
        "Customer Name :James       \n",
        "unit Consumed :800                         \n",
        "Amount Charges @Rs. 2.00 per unit : 1600.00        \n",
        "Surchage Amount : 240.00                  \n",
        "Net Amount Paid By the Customer : 1840.00              "
      ]
    },
    {
      "cell_type": "code",
      "metadata": {
        "id": "5huUsJz07fQY",
        "colab_type": "code",
        "colab": {}
      },
      "source": [
        "#include<stdio.h>\n",
        "int main()\n",
        "{\n",
        "    char name[10];\n",
        "    int id,units;\n",
        "    float amount,surcharge,net,per;\n",
        "    scanf(\"%d\",&id);\n",
        "    scanf(\"%s\",name);\n",
        "    scanf(\"%d\",&units);\n",
        "    if(units<=199)\n",
        "    {\n",
        "\n",
        "        per=1.20;\n",
        "    }\n",
        "    else if(units>=200 && units<400)\n",
        "    {\n",
        "\n",
        "        per=1.50;\n",
        "    }\n",
        "    else if(units>=400 && units<600)\n",
        "    {\n",
        "        per=1.80;\n",
        "    }\n",
        "    else\n",
        "    {\n",
        "\n",
        "        per=2.00;\n",
        "    }\n",
        "    amount=units*per;\n",
        "    if(amount>400)\n",
        "    {\n",
        "        surcharge=amount *15/100.0;\n",
        "        net=amount+surcharge;\n",
        "    }\n",
        "    else{\n",
        "        net = amount;\n",
        "    }\n",
        "    printf(\"Customer IDNO : %d\",id);\n",
        "    printf(\"\\n Customer Name : %s\",name);\n",
        "    printf(\"\\n units Consumed : %d\",units);\n",
        "    printf(\"\\n Amount Charges @Rs. %4.2f per unit : %8.2f\",per,amount);\n",
        "    printf(\"\\n Surcharge Amount : %8.2f\",surcharge);\n",
        "    printf(\"\\n Net Amount paid by the customer : %8.2f\",net);\n",
        "    return 0;\n",
        "\n",
        "}"
      ],
      "execution_count": 0,
      "outputs": []
    },
    {
      "cell_type": "markdown",
      "metadata": {
        "id": "JbxHFv6yDB-b",
        "colab_type": "text"
      },
      "source": [
        "###Question 5:\n",
        "Write a program in C to check whether an array is subset of another array.\n"
      ]
    },
    {
      "cell_type": "code",
      "metadata": {
        "id": "5cVDkpMeDSiT",
        "colab_type": "code",
        "colab": {}
      },
      "source": [
        "#include<stdio.h>\n",
        "int main()\n",
        "{\n",
        "    int arr[10]={1,2,3,4,5,6,7,8,9,0};\n",
        "    int a[10],i,n,j,count=0;\n",
        "    scanf(\"%d\",&n);\n",
        "    for(i=0;i<n;i++)\n",
        "    {\n",
        "        scanf(\"%d\",&a[i]);\n",
        "    }\n",
        "    for(i=0;i<10;i++)\n",
        "    {\n",
        "        for(j=0;j<n;j++)\n",
        "        {\n",
        "            if(arr[i]==a[j])\n",
        "            {\n",
        "                count++;\n",
        "            }\n",
        "        }\n",
        "    }\n",
        "    if(count==n)\n",
        "    {\n",
        "        printf(\"Given array is a subset of another array\");\n",
        "\n",
        "    }\n",
        "    else\n",
        "    {\n",
        "        printf(\"Given array is not a subset\");\n",
        "    }\n",
        "    return 0;\n",
        "}\n"
      ],
      "execution_count": 0,
      "outputs": []
    },
    {
      "cell_type": "markdown",
      "metadata": {
        "id": "rqVhQ4RhLex3",
        "colab_type": "text"
      },
      "source": [
        "###Question 6:\n",
        " Write a program in C to make such a pattern like a pyramid with a number which will repeat the number in the same row. \n",
        "```\n",
        "   1\n",
        "  2 2\n",
        " 3 3 3\n",
        "4 4 4 4\n",
        "```"
      ]
    },
    {
      "cell_type": "code",
      "metadata": {
        "id": "4-ZCblEKLzQQ",
        "colab_type": "code",
        "colab": {}
      },
      "source": [
        "#include<stdio.h>\n",
        "int main()\n",
        "{\n",
        "    int i,j,space,n,k;\n",
        "    scanf(\"%d\",&n);\n",
        "    space=n;\n",
        "    for(i=1;i<=n;i++)\n",
        "    {\n",
        "        for(k=space;k>=1;k--)\n",
        "        {\n",
        "            printf(\" \");\n",
        "        }\n",
        "        for(j=1;j<=i;j++)\n",
        "        {\n",
        "            printf(\"%d \",i);\n",
        "        }\n",
        "        printf(\"\\n\");\n",
        "        space--;\n",
        "    }\n",
        "    return 0;\n",
        "\n",
        "}\n"
      ],
      "execution_count": 0,
      "outputs": []
    },
    {
      "cell_type": "markdown",
      "metadata": {
        "id": "efrsRICXN3cn",
        "colab_type": "text"
      },
      "source": [
        "###Question 7:\n",
        " Write a program in C which is a Menu-Driven Program to perform a simple calculation."
      ]
    },
    {
      "cell_type": "code",
      "metadata": {
        "id": "NwRGfqEkV_dM",
        "colab_type": "code",
        "colab": {}
      },
      "source": [
        "#include<stdio.h>\n",
        "int main()\n",
        "{\n",
        "    int x,n1,n2;\n",
        "    scanf(\"%d%d\",&n1,&n2);\n",
        "    printf(\"\\n 1.Addition\");\n",
        "    printf(\"\\n 2.Subtraction\");\n",
        "    printf(\"\\n 3.Multiplication\");\n",
        "    printf(\"\\n 4.Division\");\n",
        "    printf(\"\\n 5.Exit\");\n",
        "    scanf(\"%d\",&x);\n",
        "\n",
        "    switch(x)\n",
        "    {\n",
        "        case 1:printf(\"The sum of %d and %d is %d\",n1,n2,n1+n2);\n",
        "        break;\n",
        "        case 2:printf(\"The difference between %d and %d is %d\",n1,n2,n1-n2);\n",
        "        break;\n",
        "        case 3:printf(\"The product of %d and %d is %d\",n1,n2,n1*n2);\n",
        "        break;\n",
        "        case 4:\n",
        "            if(n2==0)\n",
        "            {\n",
        "                printf(\"divisor cannot be  0\");\n",
        "                break;\n",
        "            }\n",
        "            else\n",
        "            {\n",
        "                printf(\"The result of %d and %d is %d\",n1,n2,n1/n2);\n",
        "                break;\n",
        "            }\n",
        "        case 5:printf(\"The program exited\");\n",
        "        break;\n",
        "        default:printf(\"Invalid entry\");\n",
        "\n",
        "    }\n",
        "    return 0;\n",
        "}\n"
      ],
      "execution_count": 0,
      "outputs": []
    },
    {
      "cell_type": "markdown",
      "metadata": {
        "id": "77LprHqzYUnh",
        "colab_type": "text"
      },
      "source": [
        "###Question 8:\n",
        "Write a program in C to display the pattern like a diamond. The pattern is as follows :\n",
        "```\n",
        "    *   \n",
        "   ***\n",
        "  ***** \n",
        " ******* \n",
        "********* \n",
        " *******\n",
        "  *****\n",
        "   ***\n",
        "    * \n",
        "  ```"
      ]
    },
    {
      "cell_type": "code",
      "metadata": {
        "id": "BFN_jYo2b3BR",
        "colab_type": "code",
        "colab": {}
      },
      "source": [
        "#include<stdio.h>\n",
        "int main()\n",
        "{\n",
        "    int i,j,n;\n",
        "    scanf(\"%d\",&n);\n",
        "    for(i=0;i<=n;i++)\n",
        "    {\n",
        "        for(j=1;j<=n-i;j++)\n",
        "        {\n",
        "            printf(\" \");\n",
        "        }\n",
        "        for(j=1;j<=2*i-1;j++)\n",
        "        {\n",
        "            printf(\"*\");\n",
        "\n",
        "        }\n",
        "        printf(\"\\n\");\n",
        "    }\n",
        "    for(i=n-1;i>=1;i--)\n",
        "    {\n",
        "        for(j=1;j<=n-i;j++)\n",
        "        {\n",
        "            printf(\" \");\n",
        "        }\n",
        "        for(j=1;j<=2*i-1;j++)\n",
        "        {\n",
        "            printf(\"*\");\n",
        "\n",
        "        }\n",
        "        printf(\"\\n\");\n",
        "    }\n",
        "    return 0;\n",
        "}\n"
      ],
      "execution_count": 0,
      "outputs": []
    }
  ]
}