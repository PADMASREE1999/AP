{
  "nbformat": 4,
  "nbformat_minor": 0,
  "metadata": {
    "colab": {
      "name": "Assignment (10-06-2020)",
      "provenance": [],
      "authorship_tag": "ABX9TyMq0s5/I5HVLhRfwoR6VLm8",
      "include_colab_link": true
    },
    "kernelspec": {
      "name": "python3",
      "display_name": "Python 3"
    }
  },
  "cells": [
    {
      "cell_type": "markdown",
      "metadata": {
        "id": "view-in-github",
        "colab_type": "text"
      },
      "source": [
        "<a href=\"https://colab.research.google.com/github/PADMASREE1999/AP/blob/master/Assignment_(10_06_2020).ipynb\" target=\"_parent\"><img src=\"https://colab.research.google.com/assets/colab-badge.svg\" alt=\"Open In Colab\"/></a>"
      ]
    },
    {
      "cell_type": "markdown",
      "metadata": {
        "id": "lnAeRlWxf8Em",
        "colab_type": "text"
      },
      "source": [
        "##CSE - 221710307059 - Tummala Sai Padmasree"
      ]
    },
    {
      "cell_type": "markdown",
      "metadata": {
        "id": "8FSjQPysgFn8",
        "colab_type": "text"
      },
      "source": [
        "##Question 1:\n",
        "The program must accept two positive integers X and Y and print the N terms in the series as                 \n",
        "X, Y, X+Y, 2X+Y, X+2Y, 2X+2Y, 3X+2Y, 2X+3Y, 3X+3Y, 4X+3Y, 3X+4Y, 4X+4Y and so on.                    \n",
        "\n",
        "Boundary Condition(s):              \n",
        "1 <= X, Y <= 100                    \n",
        "1 <= N <= 100                       \n",
        " \n",
        "Input Format:                                         \n",
        "The first line contains X, Y and N separated by a space.           \n",
        "\n",
        "Output Format:                            \n",
        "The first line contains the N terms in the series.           \n",
        "\n",
        "Example Input/Output 1:                       \n",
        "Input:                  \n",
        "3 5 10                     \n",
        "\n",
        "Output:                         \n",
        "3 5 8 11 13 16 19 21 24 27                                \n",
        "                        \n",
        "Example Input/Output 2:                             \n",
        "Input:                     \n",
        "1 1 20                          \n",
        "                \n",
        "Output:                                           \n",
        "1 1 2 3 3 4 5 5 6 7 7 8 9 9 10 11 11 12 13 13                     \n",
        "                            \n",
        "Example Input/Output 3:                 \n",
        "Input:                  \n",
        "2 5 15                        \n",
        "               \n",
        "Output:                                      \n",
        "2 5 7 9 12 14 16 19 21 23 26 28 30 33 35                \n",
        "              "
      ]
    },
    {
      "cell_type": "code",
      "metadata": {
        "id": "H17-ToYDf2Bu",
        "colab_type": "code",
        "colab": {}
      },
      "source": [
        "#include<stdio.h>\n",
        "int main()\n",
        "{\n",
        "    int x,y,n,i=0,j=0;\n",
        "    scanf(\"%d%d%d\",&x,&y,&n);\n",
        "    while(n>0)\n",
        "    {\n",
        "        if(n>0)\n",
        "        {\n",
        "            printf(\"%d \",(x*i)+(y*i));\n",
        "            n=n-1;\n",
        "        }\n",
        "        if(n>0)\n",
        "        {\n",
        "            printf(\"%d \",(x*(i+1))+(y*i));\n",
        "            n=n-1;\n",
        "        }\n",
        "        if(n>0)\n",
        "        {\n",
        "           printf(\"%d \",(x*i)+(y*(i+1)));\n",
        "           n=n-1;\n",
        "        }\n",
        "        i++;\n",
        "\n",
        "    }\n",
        "    return 0;\n",
        "}\n"
      ],
      "execution_count": 0,
      "outputs": []
    },
    {
      "cell_type": "markdown",
      "metadata": {
        "id": "fowekJDvgb2v",
        "colab_type": "text"
      },
      "source": [
        "###Question 2:\n",
        "Read the input as two numbers and print the output as count of Prime numbers between the limits\n"
      ]
    },
    {
      "cell_type": "code",
      "metadata": {
        "id": "ll8IFveBgp56",
        "colab_type": "code",
        "colab": {}
      },
      "source": [
        "#include<stdio.h>\n",
        "int isprime(int a)\n",
        "{\n",
        "    if(a==1)\n",
        "    {\n",
        "        return 0;\n",
        "    }\n",
        "    for(int i=2;i<=a/2;i++)\n",
        "    {\n",
        "        if(a%i==0)\n",
        "        {\n",
        "            return 0;\n",
        "        }\n",
        "    }\n",
        "    return 1;\n",
        "}\n",
        "int main()\n",
        "{\n",
        "    int x,y,count=0,i,res;\n",
        "    scanf(\"%d%d\",&x,&y);\n",
        "    for(i=x;i<y;i++)\n",
        "    {\n",
        "        res=isprime(i);\n",
        "        if(res==1)\n",
        "        {\n",
        "            count++;\n",
        "        }\n",
        "    }\n",
        "    printf(\"%d\",count);\n",
        "    return 0;\n",
        "}\n"
      ],
      "execution_count": 0,
      "outputs": []
    }
  ]
}