{
  "nbformat": 4,
  "nbformat_minor": 0,
  "metadata": {
    "colab": {
      "name": "Assignment (11-06-2020)",
      "provenance": [],
      "authorship_tag": "ABX9TyPbHtRGsXjlP4qS/z19A5U+",
      "include_colab_link": true
    },
    "kernelspec": {
      "name": "python3",
      "display_name": "Python 3"
    }
  },
  "cells": [
    {
      "cell_type": "markdown",
      "metadata": {
        "id": "view-in-github",
        "colab_type": "text"
      },
      "source": [
        "<a href=\"https://colab.research.google.com/github/PADMASREE1999/AP/blob/master/Assignment_(11_06_2020).ipynb\" target=\"_parent\"><img src=\"https://colab.research.google.com/assets/colab-badge.svg\" alt=\"Open In Colab\"/></a>"
      ]
    },
    {
      "cell_type": "markdown",
      "metadata": {
        "id": "Cx2EGQjidcDI",
        "colab_type": "text"
      },
      "source": [
        "##CSE - 221710307059 - Tummala Sai Padmasree"
      ]
    },
    {
      "cell_type": "markdown",
      "metadata": {
        "id": "ByHv_n5KdiS-",
        "colab_type": "text"
      },
      "source": [
        "###Question 1:\n",
        "1 Write a C program to read temperature in centigrade and display a suitable message according to temperature stated below.       \n",
        "\tTemp <0 then Freezing weather       \n",
        "\tTemp 0-10 then very cold weather            \n",
        "\tTemp 10-20 then cold weather               \n",
        "\tTemp 20-30 then normal in temperature          \n",
        "\tTemp 30-40 then its hot            \n",
        "\tTemp >=40 then its very hot          \n",
        " input data : 43                  \n",
        "Expected  output : it very hot                     "
      ]
    },
    {
      "cell_type": "code",
      "metadata": {
        "id": "TGPISFZXdXIe",
        "colab_type": "code",
        "colab": {}
      },
      "source": [
        "#include<stdio.h>\n",
        "int main()\n",
        "{\n",
        "    int temp;\n",
        "    scanf(\"%d\",&temp);\n",
        "    if(temp<0)\n",
        "        printf(\"Freezing weather\");\n",
        "    else if(temp>=0 && temp<10)\n",
        "        printf(\"Very cold weather\");\n",
        "    else if(temp>=10 && temp<20)\n",
        "        printf(\"Cold weather\");\n",
        "    else if(temp>=20 && temp<30)\n",
        "        printf(\"Normal temperature\");\n",
        "    else if(temp>=30 && temp<40)\n",
        "        printf(\"Its hot\");\n",
        "    else if(temp>=40)\n",
        "        printf(\"Its very hot\");\n",
        "    return 0;\n",
        "}\n"
      ],
      "execution_count": 0,
      "outputs": []
    },
    {
      "cell_type": "markdown",
      "metadata": {
        "id": "AUTx6KjofjQ0",
        "colab_type": "text"
      },
      "source": [
        "###Question 2:\n",
        "Write a program in C to display the multipliaction table vertically from 1 to n.                             \n",
        "Test Data : Input upto the table number starting from 1 : 8         \n",
        "Expected Output :           \n",
        "Multiplication table from 1 to 8                  \n",
        "1x1 = 1, 2x1 = 2, 3x1 = 3, 4x1 = 4, 5x1 = 5, 6x1 = 6, 7x1 = 7, 8x1 = 8     \n",
        "...                 \n",
        "1x10 = 10, 2x10 = 20, 3x10 = 30, 4x10 = 40, 5x10 = 50, 6x10 = 60, 7x10 = 70, 8x10 = 80                   \n"
      ]
    },
    {
      "cell_type": "code",
      "metadata": {
        "id": "4WQeuKgfg9Kt",
        "colab_type": "code",
        "colab": {}
      },
      "source": [
        "#include<stdio.h>\n",
        "int main()\n",
        "{\n",
        "    int n,i,j;\n",
        "    scanf(\"%d\",&n);\n",
        "    for(i=1;i<=n;i++)\n",
        "    {\n",
        "        for(j=1;j<=8;j++)\n",
        "        {\n",
        "            printf(\"%dx%d=%d  \",j,i,i*j);\n",
        "        }\n",
        "        printf(\"\\n\");\n",
        "    }\n",
        "    return 0;\n",
        "}\n"
      ],
      "execution_count": 0,
      "outputs": []
    }
  ]
}