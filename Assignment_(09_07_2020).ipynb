{
  "nbformat": 4,
  "nbformat_minor": 0,
  "metadata": {
    "colab": {
      "name": "Assignment (09-07-2020)",
      "provenance": [],
      "authorship_tag": "ABX9TyPyGaoE8cnv5jEeLezqqyAg",
      "include_colab_link": true
    },
    "kernelspec": {
      "name": "python3",
      "display_name": "Python 3"
    }
  },
  "cells": [
    {
      "cell_type": "markdown",
      "metadata": {
        "id": "view-in-github",
        "colab_type": "text"
      },
      "source": [
        "<a href=\"https://colab.research.google.com/github/PADMASREE1999/AP/blob/master/Assignment_(09_07_2020).ipynb\" target=\"_parent\"><img src=\"https://colab.research.google.com/assets/colab-badge.svg\" alt=\"Open In Colab\"/></a>"
      ]
    },
    {
      "cell_type": "markdown",
      "metadata": {
        "id": "NRRcCk7cuXka",
        "colab_type": "text"
      },
      "source": [
        "##CSE - 221710307059 - Tummala Sai Padmasree"
      ]
    },
    {
      "cell_type": "markdown",
      "metadata": {
        "id": "EayjVOlsufhQ",
        "colab_type": "text"
      },
      "source": [
        "###Question 1:\n",
        "Write a program in C++ to swap the values of two variables not using third variable."
      ]
    },
    {
      "cell_type": "code",
      "metadata": {
        "id": "KttaiMZhuN6F",
        "colab_type": "code",
        "colab": {}
      },
      "source": [
        "#include<iostream>\n",
        "using namespace std;\n",
        "int main()\n",
        "{\n",
        "    int a,b;\n",
        "    cin>>a>>b;\n",
        "    cout<<\"Before Swapping: \"<<\"\\n a = \"<<a<<\"\\n b = \"<<b;\n",
        "    a=a+b;\n",
        "    b=a-b;\n",
        "    a=a-b;\n",
        "    cout<<\"\\nAfter Swapping: \"<<\"\\n a = \"<<a<<\"\\n b = \"<<b;\n",
        "    return 0;\n",
        "}\n"
      ],
      "execution_count": null,
      "outputs": []
    },
    {
      "cell_type": "markdown",
      "metadata": {
        "id": "GRrCPDMuw8zW",
        "colab_type": "text"
      },
      "source": [
        "###Question 2:\n",
        "An even number of 4 or more can be represented by the sum of two prime numbers. This is called Goldbach expectation, and it is confirmed that it is correct up to a considerably large number by computer calculation. For example, 10 can be expressed as the sum of two prime numbers 7 + 3, 5 + 5.\n",
        "       \n",
        "Write a C++ program that accept an integer (n) from the user and outputs the number of combinations that express n as a sum of two prime numbers.         \n",
        "Note: n should be greater than or equal to 4 and less than or equal to 50,000.\n",
        "\n",
        "Expected output:            \n",
        "Input number : 26               \n",
        "Number of combinations : 3                 \n"
      ]
    },
    {
      "cell_type": "code",
      "metadata": {
        "id": "aqw3ez-kxL5q",
        "colab_type": "code",
        "colab": {}
      },
      "source": [
        "#include<iostream>\n",
        "using namespace std;\n",
        "int search(const int a[],int high,int key)\n",
        "{\n",
        "    int l=0,m,n=-1;\n",
        "    while(l<=high)\n",
        "    {\n",
        "        m=(l+high)/2;\n",
        "        if(a[m]==key)\n",
        "        {\n",
        "            n=m;\n",
        "            break;\n",
        "        }\n",
        "        else if(a[m]<key)\n",
        "        {\n",
        "            l=m+1;\n",
        "        }\n",
        "        else\n",
        "        {\n",
        "            high=m-1;\n",
        "        }\n",
        "    }\n",
        "    return(n);\n",
        "}\n",
        "int main()\n",
        "{\n",
        "    int a[5136];\n",
        "    a[1]=2;\n",
        "    a[2]=3;\n",
        "    int ptr=3;\n",
        "    for(int n=5;n<=50000;n++)\n",
        "    {\n",
        "        bool f=false;\n",
        "        for(int i=1;i<ptr;i++)\n",
        "        {\n",
        "            if(a[i]*a[i]>n)\n",
        "            {\n",
        "                break;\n",
        "            }\n",
        "            if(n%a[i]==0)\n",
        "            {\n",
        "                f=true;\n",
        "                break;\n",
        "            }\n",
        "        }\n",
        "        if(!f)\n",
        "        {\n",
        "            a[ptr++]=n;\n",
        "        }\n",
        "    }\n",
        "    a[ptr]=50001;\n",
        "    int num;\n",
        "    while(cin>>num)\n",
        "    {\n",
        "        if(!num)\n",
        "            break;\n",
        "        int cnt=0;\n",
        "        if(num%2==0)\n",
        "        {\n",
        "            for(int i=1;a[i]<=num/2;i++)\n",
        "            {\n",
        "                if(search(a,ptr,num-a[i])!=-1)\n",
        "                    cnt++;\n",
        "            }\n",
        "        }\n",
        "        else\n",
        "        {\n",
        "            if(search(a,ptr,num-2)!=-1)\n",
        "                cnt++;\n",
        "        }\n",
        "        cout<<\"Input number : \"<<num;\n",
        "        cout<<\"\\nNumber of combinations: \"<<cnt<<endl;\n",
        "    }\n",
        "    return 0;\n",
        "}\n"
      ],
      "execution_count": null,
      "outputs": []
    }
  ]
}