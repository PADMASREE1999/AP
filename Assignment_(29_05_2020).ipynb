{
  "nbformat": 4,
  "nbformat_minor": 0,
  "metadata": {
    "colab": {
      "name": "Assignment (29-05-2020)",
      "provenance": [],
      "authorship_tag": "ABX9TyMdD84/uAHqtiEfBxuFazcF",
      "include_colab_link": true
    },
    "kernelspec": {
      "name": "python3",
      "display_name": "Python 3"
    }
  },
  "cells": [
    {
      "cell_type": "markdown",
      "metadata": {
        "id": "view-in-github",
        "colab_type": "text"
      },
      "source": [
        "<a href=\"https://colab.research.google.com/github/PADMASREE1999/AP/blob/master/Assignment_(29_05_2020).ipynb\" target=\"_parent\"><img src=\"https://colab.research.google.com/assets/colab-badge.svg\" alt=\"Open In Colab\"/></a>"
      ]
    },
    {
      "cell_type": "markdown",
      "metadata": {
        "id": "VHzcMmSSj2FP",
        "colab_type": "text"
      },
      "source": [
        "## CSE - 221710307059 - Tummala Sai Padmasree"
      ]
    },
    {
      "cell_type": "markdown",
      "metadata": {
        "id": "FK0RAuHskT_N",
        "colab_type": "text"
      },
      "source": [
        "###Question 1:\n",
        "Create a function to find Factorial of a number using Recursion\n"
      ]
    },
    {
      "cell_type": "code",
      "metadata": {
        "id": "tUT7neWMjlUV",
        "colab_type": "code",
        "outputId": "f5807853-0862-47ce-fe37-aa4768695b24",
        "colab": {
          "base_uri": "https://localhost:8080/",
          "height": 52
        }
      },
      "source": [
        "def factorial(n):\n",
        "  if(n>1):\n",
        "    return n*factorial(n-1)\n",
        "  elif(n==1):\n",
        "    return n\n",
        "n=int(input(\"enter a number\"))\n",
        "print(factorial(n))"
      ],
      "execution_count": 0,
      "outputs": [
        {
          "output_type": "stream",
          "text": [
            "enter a number4\n",
            "24\n"
          ],
          "name": "stdout"
        }
      ]
    },
    {
      "cell_type": "markdown",
      "metadata": {
        "id": "x1S8m3rpouSv",
        "colab_type": "text"
      },
      "source": [
        "###Question 2:\n",
        "Create a function and display ‘n’ Fibonacci numbers using Recursion\n"
      ]
    },
    {
      "cell_type": "code",
      "metadata": {
        "id": "-x4gFQclo4sa",
        "colab_type": "code",
        "outputId": "a752d451-9cc3-4827-bf80-2d40cf3f2a52",
        "colab": {
          "base_uri": "https://localhost:8080/",
          "height": 173
        }
      },
      "source": [
        "def Fib(n):  \n",
        "   if n <= 1:  \n",
        "       return n  \n",
        "   else:  \n",
        "       return(Fib(n-1) + Fib(n-2))  \n",
        "n = int(input(\"Enter the terms? \"))   \n",
        "for i in range(n):  \n",
        "  print(Fib(i))"
      ],
      "execution_count": 0,
      "outputs": [
        {
          "output_type": "stream",
          "text": [
            "Enter the terms? 8\n",
            "0\n",
            "1\n",
            "1\n",
            "2\n",
            "3\n",
            "5\n",
            "8\n",
            "13\n"
          ],
          "name": "stdout"
        }
      ]
    },
    {
      "cell_type": "markdown",
      "metadata": {
        "id": "S_rapYJVwhw6",
        "colab_type": "text"
      },
      "source": [
        "###Question 3:\n",
        "Print sum of list of elements without using sum() function\n"
      ]
    },
    {
      "cell_type": "code",
      "metadata": {
        "id": "-BIC3we8xSnZ",
        "colab_type": "code",
        "outputId": "d4ef67a6-efdc-43fb-df75-1c82b167fc1a",
        "colab": {
          "base_uri": "https://localhost:8080/",
          "height": 121
        }
      },
      "source": [
        "def sum(list1):\n",
        "  sum=0\n",
        "  for a in list1:\n",
        "    sum=sum+a\n",
        "  return sum\n",
        "list1=[]\n",
        "n=int(input(\"enter no of elements in the list\"))\n",
        "for i in range(0,n):\n",
        "  l=int(input())\n",
        "  list1.append(l)\n",
        "print(sum(list1))"
      ],
      "execution_count": 0,
      "outputs": [
        {
          "output_type": "stream",
          "text": [
            "enter no of elements in the list4\n",
            "1\n",
            "2\n",
            "3\n",
            "4\n",
            "10\n"
          ],
          "name": "stdout"
        }
      ]
    },
    {
      "cell_type": "markdown",
      "metadata": {
        "id": "Sa2TEJLg1n3I",
        "colab_type": "text"
      },
      "source": [
        "## Question 4:\n",
        "print only even numbers from the list"
      ]
    },
    {
      "cell_type": "code",
      "metadata": {
        "id": "xUUj8W4M1wcs",
        "colab_type": "code",
        "outputId": "df73d3c7-da22-4950-f964-cb26ffb8d706",
        "colab": {
          "base_uri": "https://localhost:8080/",
          "height": 173
        }
      },
      "source": [
        "list1=[]\n",
        "n=int(input(\"enter no of elements\"))\n",
        "for i in range(0,n):\n",
        "  l=int(input())\n",
        "  list1.append(l)\n",
        "print(\"The even numbers in the list are:\")\n",
        "for i in list1:\n",
        "  if(i%2==0):\n",
        "    print(i)"
      ],
      "execution_count": 0,
      "outputs": [
        {
          "output_type": "stream",
          "text": [
            "enter no of elements5\n",
            "1\n",
            "2\n",
            "3\n",
            "4\n",
            "5\n",
            "The even numbers in the list are:\n",
            "2\n",
            "4\n"
          ],
          "name": "stdout"
        }
      ]
    },
    {
      "cell_type": "markdown",
      "metadata": {
        "id": "8GZeQ77t5d0J",
        "colab_type": "text"
      },
      "source": [
        "### Question 5:\n",
        "Write a Python program to get the smallest number from a list and display index of smallest element of the list\n"
      ]
    },
    {
      "cell_type": "code",
      "metadata": {
        "id": "qRa6_Gq46NLk",
        "colab_type": "code",
        "outputId": "5a2c4202-a6cf-45e9-fbe8-09f8c67b2fd1",
        "colab": {
          "base_uri": "https://localhost:8080/",
          "height": 156
        }
      },
      "source": [
        "list1=[]\n",
        "n=int(input(\"enter no of elements\"))\n",
        "for i in range(0,n):\n",
        "  l=int(input())\n",
        "  list1.append(l)\n",
        "minimum=list1[0]\n",
        "for i in list1:\n",
        "  if i<minimum:\n",
        "    minimum=i\n",
        "print(\"the smallest number is\",minimum)\n",
        "print(\"The index of the smallest number in the list is\",list1.index(minimum))"
      ],
      "execution_count": 0,
      "outputs": [
        {
          "output_type": "stream",
          "text": [
            "enter no of elements5\n",
            "12\n",
            "3\n",
            "2\n",
            "4\n",
            "1\n",
            "the smallest number is 1\n",
            "The index of the smallest number in the list is 4\n"
          ],
          "name": "stdout"
        }
      ]
    },
    {
      "cell_type": "markdown",
      "metadata": {
        "id": "qVx2CIBx-srD",
        "colab_type": "text"
      },
      "source": [
        "###Question 6:\n",
        "Write a Python function that checks whether a passed string is palindrome or not.\n"
      ]
    },
    {
      "cell_type": "code",
      "metadata": {
        "id": "KAJ6J6Al-149",
        "colab_type": "code",
        "outputId": "c6ab2130-87a6-4ad1-9476-f7bc7756351f",
        "colab": {
          "base_uri": "https://localhost:8080/",
          "height": 52
        }
      },
      "source": [
        "def palindrome(s):\n",
        "  reverse=s[::-1]\n",
        "  if(reverse==s):\n",
        "    print(\"Palindrome\")\n",
        "  else:\n",
        "    print(\"not palindrome\")\n",
        "s=input(\"Enter a string:\")\n",
        "palindrome(s)"
      ],
      "execution_count": 0,
      "outputs": [
        {
          "output_type": "stream",
          "text": [
            "Enter a string:ana\n",
            "Palindrome\n"
          ],
          "name": "stdout"
        }
      ]
    },
    {
      "cell_type": "markdown",
      "metadata": {
        "id": "gS5m3-dTGM1H",
        "colab_type": "text"
      },
      "source": [
        "###Question 7:\n",
        "Write a Python program to count the number of even and odd numbers from a series of numbers.         \n",
        "Sample numbers : numbers = [1, 2, 3, 4, 5, 6, 7, 8, 9]           \n",
        "Expected Output :              \n",
        "Number of even numbers : 4           \n",
        "Number of odd numbers : 5\n"
      ]
    },
    {
      "cell_type": "code",
      "metadata": {
        "id": "LtIYoTk_OgjV",
        "colab_type": "code",
        "outputId": "369ff5e8-89f6-480d-9c89-905eabb27827",
        "colab": {
          "base_uri": "https://localhost:8080/",
          "height": 225
        }
      },
      "source": [
        "list1=[]\n",
        "n=int(input(\"enter no of elements\"))\n",
        "for i in range(0,n):\n",
        "  l=int(input())\n",
        "  list1.append(l)\n",
        "count=0\n",
        "flag=0\n",
        "for i in list1:\n",
        "  if i%2==0:\n",
        "    count=count+1\n",
        "  else:\n",
        "    flag=flag+1\n",
        "print(\"Number of even numbers: \",count)\n",
        "print(\"Number of odd numbers:\",flag)"
      ],
      "execution_count": 0,
      "outputs": [
        {
          "output_type": "stream",
          "text": [
            "enter no of elements9\n",
            "1\n",
            "2\n",
            "3\n",
            "4\n",
            "5\n",
            "6\n",
            "7\n",
            "8\n",
            "9\n",
            "Number of even numbers:  4\n",
            "Number of odd numbers: 5\n"
          ],
          "name": "stdout"
        }
      ]
    },
    {
      "cell_type": "markdown",
      "metadata": {
        "id": "G9mGJtWfXzax",
        "colab_type": "text"
      },
      "source": [
        "###Question 8:\n",
        "Write a Python program that prints all the numbers from 0 to 6 except 3 and 6.   \n",
        "Note : Use 'continue' statement.     \n",
        "Expected Output : 0 1 2 4 5\n"
      ]
    },
    {
      "cell_type": "code",
      "metadata": {
        "id": "e0XtSKBnYCuF",
        "colab_type": "code",
        "outputId": "2a94126b-6053-4b85-f452-adb2e71c05bd",
        "colab": {
          "base_uri": "https://localhost:8080/",
          "height": 35
        }
      },
      "source": [
        "for i in range(0,7):\n",
        "  if(i==0):\n",
        "    print(i,end=\" \")\n",
        "  elif(i%3==0):\n",
        "    continue\n",
        "  else:\n",
        "    print(i,end=\" \")"
      ],
      "execution_count": 0,
      "outputs": [
        {
          "output_type": "stream",
          "text": [
            "0 1 2 4 5 "
          ],
          "name": "stdout"
        }
      ]
    },
    {
      "cell_type": "markdown",
      "metadata": {
        "id": "29aSeZKTp4AV",
        "colab_type": "text"
      },
      "source": [
        "###Question 9:\n",
        "Write a python function to check whether the given number is prime or not"
      ]
    },
    {
      "cell_type": "code",
      "metadata": {
        "id": "q4Hj-0vRqJDu",
        "colab_type": "code",
        "outputId": "32604570-fdf0-41b1-c6cf-e434fec18cf5",
        "colab": {
          "base_uri": "https://localhost:8080/",
          "height": 52
        }
      },
      "source": [
        "n=int(input(\"enter a number\"))\n",
        "if(n>1):\n",
        "  for i in range (2,n):\n",
        "   if n%i==0:\n",
        "     print(\"It is not prime\")\n",
        "     break\n",
        "  else:\n",
        "      print(\"It is prime\")\n",
        "else:\n",
        "    print(\"It is not prime\")\n"
      ],
      "execution_count": 0,
      "outputs": [
        {
          "output_type": "stream",
          "text": [
            "enter a number23\n",
            "It is prime\n"
          ],
          "name": "stdout"
        }
      ]
    },
    {
      "cell_type": "markdown",
      "metadata": {
        "id": "8rK7XN4ersqc",
        "colab_type": "text"
      },
      "source": [
        "###Question 10:\n",
        "Write a python function to check whether the given number is Adam number or not                                  \n",
        "Example:                      \n",
        "Input : 12                                     \n",
        "Output : Adam Number\n"
      ]
    },
    {
      "cell_type": "code",
      "metadata": {
        "id": "cpSvZJn-r2Dq",
        "colab_type": "code",
        "outputId": "abc891a7-a3dd-4537-ef90-78cabc9b59b5",
        "colab": {
          "base_uri": "https://localhost:8080/",
          "height": 52
        }
      },
      "source": [
        "n=int(input(\"enter a number\"))\n",
        "if int(str(n**2)[::-1]) == int(str(n)[::-1])**2:\n",
        "  print(\"Adam number\")\n",
        "else:\n",
        "  print(\"Not an adam number\")"
      ],
      "execution_count": 0,
      "outputs": [
        {
          "output_type": "stream",
          "text": [
            "enter a number12\n",
            "Adam number\n"
          ],
          "name": "stdout"
        }
      ]
    }
  ]
}