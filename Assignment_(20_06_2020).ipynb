{
  "nbformat": 4,
  "nbformat_minor": 0,
  "metadata": {
    "colab": {
      "name": "Assignment (20-06-2020)",
      "provenance": [],
      "authorship_tag": "ABX9TyPh1I98tv+oMUGtvyUj6SIb",
      "include_colab_link": true
    },
    "kernelspec": {
      "name": "python3",
      "display_name": "Python 3"
    }
  },
  "cells": [
    {
      "cell_type": "markdown",
      "metadata": {
        "id": "view-in-github",
        "colab_type": "text"
      },
      "source": [
        "<a href=\"https://colab.research.google.com/github/PADMASREE1999/AP/blob/master/Assignment_(20_06_2020).ipynb\" target=\"_parent\"><img src=\"https://colab.research.google.com/assets/colab-badge.svg\" alt=\"Open In Colab\"/></a>"
      ]
    },
    {
      "cell_type": "markdown",
      "metadata": {
        "id": "vlusBaZU17iM",
        "colab_type": "text"
      },
      "source": [
        "##CSE - 221710307059 - Tummala Sai Padmasree"
      ]
    },
    {
      "cell_type": "markdown",
      "metadata": {
        "id": "HOzpF-fV2E1U",
        "colab_type": "text"
      },
      "source": [
        "###Question 1:\n",
        " Write a C program to sort a  given list of elements using the bubble sort algorithm. \n",
        " \n",
        "         15 56 12  21 1 659 3 83 51 3 135 0\n"
      ]
    },
    {
      "cell_type": "code",
      "metadata": {
        "id": "icrw0Yzp1sKR",
        "colab_type": "code",
        "colab": {}
      },
      "source": [
        "#include<stdio.h>\n",
        "void bubblesort(int a[],int n)\n",
        "{\n",
        "    int i,j,temp;\n",
        "    for(i=0;i<n-1;i++)\n",
        "    {\n",
        "        for(j=0;j<n-1;j++)\n",
        "        {\n",
        "            if(a[j]>a[j+1])\n",
        "            {\n",
        "                temp=a[j];\n",
        "                a[j]=a[j+1];\n",
        "                a[j+1]=temp;\n",
        "            }\n",
        "        }\n",
        "    }\n",
        "    for(i=0;i<n;i++)\n",
        "    {\n",
        "        printf(\"%d \",a[i]);\n",
        "    }\n",
        "}\n",
        "int main()\n",
        "{\n",
        "    int n,a[100];\n",
        "    scanf(\"%d\",&n);\n",
        "    int i;\n",
        "    for(i=0;i<n;i++)\n",
        "    {\n",
        "        scanf(\"%d\",&a[i]);\n",
        "    }\n",
        "    bubblesort(a,n);\n",
        "    return 0;\n",
        "}\n"
      ],
      "execution_count": null,
      "outputs": []
    },
    {
      "cell_type": "markdown",
      "metadata": {
        "id": "JP_LwRwY4daB",
        "colab_type": "text"
      },
      "source": [
        "###Question 2:\n",
        "Write a C program to search element 45 in given list of elements by using binary search \n",
        "\n",
        "           6 12 17 23 38 45 77 84 90"
      ]
    },
    {
      "cell_type": "code",
      "metadata": {
        "id": "9LcL4hDv4n4t",
        "colab_type": "code",
        "colab": {}
      },
      "source": [
        "#include<stdio.h>\n",
        "int binarysearch(int a[],int n,int key)\n",
        "{\n",
        "    int l=0,r=n-1,mid;\n",
        "    while(l<=r)\n",
        "    {\n",
        "        mid=l+(r-l)/2;\n",
        "        if(a[mid]==key)\n",
        "        {\n",
        "            return 1;\n",
        "        }\n",
        "        if(key>a[mid])\n",
        "        {\n",
        "            l=mid+1;\n",
        "        }\n",
        "        else\n",
        "        {\n",
        "            r=mid-1;\n",
        "        }\n",
        "\n",
        "    }\n",
        "    return 0;\n",
        "}\n",
        "int main()\n",
        "{\n",
        "    int n,a[100];\n",
        "    scanf(\"%d\",&n);\n",
        "    int i,key;\n",
        "    for(i=0;i<n;i++)\n",
        "    {\n",
        "        scanf(\"%d\",&a[i]);\n",
        "    }\n",
        "    scanf(\"%d\",&key);\n",
        "    if(binarysearch(a,n,key))\n",
        "    {\n",
        "        printf(\"Element found in list\");\n",
        "    }\n",
        "    else\n",
        "    {\n",
        "        printf(\"Element not found in list\");\n",
        "    }\n",
        "    return 0;\n",
        "}\n"
      ],
      "execution_count": null,
      "outputs": []
    }
  ]
}