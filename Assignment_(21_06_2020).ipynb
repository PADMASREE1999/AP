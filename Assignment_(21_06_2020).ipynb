{
  "nbformat": 4,
  "nbformat_minor": 0,
  "metadata": {
    "colab": {
      "name": "Assignment (21-06-2020)",
      "provenance": [],
      "authorship_tag": "ABX9TyMOAzse3oW4RgsvsC4bJH8w",
      "include_colab_link": true
    },
    "kernelspec": {
      "name": "python3",
      "display_name": "Python 3"
    }
  },
  "cells": [
    {
      "cell_type": "markdown",
      "metadata": {
        "id": "view-in-github",
        "colab_type": "text"
      },
      "source": [
        "<a href=\"https://colab.research.google.com/github/PADMASREE1999/AP/blob/master/Assignment_(21_06_2020).ipynb\" target=\"_parent\"><img src=\"https://colab.research.google.com/assets/colab-badge.svg\" alt=\"Open In Colab\"/></a>"
      ]
    },
    {
      "cell_type": "markdown",
      "metadata": {
        "id": "zcS5FWvlBm_V",
        "colab_type": "text"
      },
      "source": [
        "##CSE - 221710307059 - Tummala Sai Padmasree"
      ]
    },
    {
      "cell_type": "markdown",
      "metadata": {
        "id": "JGl0NoJ3BtGt",
        "colab_type": "text"
      },
      "source": [
        "###Question 1:\n",
        "Write a C program to sort  given list of elements using the selection sort algorithm.\n",
        "\n",
        "                 29 72 98 13 87 66 52 51 36"
      ]
    },
    {
      "cell_type": "code",
      "metadata": {
        "id": "qwpxniz2BiCr",
        "colab_type": "code",
        "colab": {}
      },
      "source": [
        "#include<stdio.h>\n",
        "void selectionsort(int a[],int n)\n",
        "{\n",
        "    int i,j,k,temp;\n",
        "    for(i=0;i<n-1;i++)\n",
        "    {\n",
        "        k=i;\n",
        "        for(j=i+1;j<n;j++)\n",
        "        {\n",
        "            if(a[j]<a[k])\n",
        "            {\n",
        "                k=j;\n",
        "            }\n",
        "        }\n",
        "        temp=a[i];\n",
        "        a[i]=a[k];\n",
        "        a[k]=temp;\n",
        "    }\n",
        "}\n",
        "void printarray(int a[],int n)\n",
        "{\n",
        "    int i;\n",
        "    for(i=0;i<n;i++)\n",
        "    {\n",
        "        printf(\"%d \",a[i]);\n",
        "    }\n",
        "}\n",
        "int main()\n",
        "{\n",
        "    int a[100],n,i;\n",
        "    scanf(\"%d\",&n);\n",
        "    for(i=0;i<n;i++)\n",
        "    {\n",
        "        scanf(\"%d\",&a[i]);\n",
        "    }\n",
        "    selectionsort(a,n);\n",
        "    printarray(a,n);\n",
        "    return 0;\n",
        "}\n"
      ],
      "execution_count": null,
      "outputs": []
    },
    {
      "cell_type": "markdown",
      "metadata": {
        "id": "NOz8n3HYCDHT",
        "colab_type": "text"
      },
      "source": [
        "###Question 2:\n",
        " Write a C program to sort given list of elements using the insertion sort algorithm.\n",
        "    \n",
        "                  85 12 59 45 72 51"
      ]
    },
    {
      "cell_type": "code",
      "metadata": {
        "id": "eG8oS6I6CJzX",
        "colab_type": "code",
        "colab": {}
      },
      "source": [
        "#include<stdio.h>\n",
        "void insertionsort(int a[],int n)\n",
        "{\n",
        "    int i,j,k;\n",
        "    for(i=1;i<n;i++)\n",
        "    {\n",
        "        k=a[i];\n",
        "        j=i-1;\n",
        "        while(j>=0&&a[j]>k)\n",
        "        {\n",
        "            a[j+1]=a[j];\n",
        "            j=j-1;\n",
        "        }\n",
        "        a[j+1]=k;\n",
        "    }\n",
        "}\n",
        "void printarray(int a[],int n)\n",
        "{\n",
        "    int i;\n",
        "    for(i=0;i<n;i++)\n",
        "    {\n",
        "        printf(\"%d \",a[i]);\n",
        "    }\n",
        "}\n",
        "int main()\n",
        "{\n",
        "    int a[100],n,i;\n",
        "    scanf(\"%d\",&n);\n",
        "    for(i=0;i<n;i++)\n",
        "    {\n",
        "        scanf(\"%d\",&a[i]);\n",
        "    }\n",
        "    insertionsort(a,n);\n",
        "    printarray(a,n);\n",
        "    return 0;\n",
        "}\n"
      ],
      "execution_count": null,
      "outputs": []
    }
  ]
}