{
  "nbformat": 4,
  "nbformat_minor": 0,
  "metadata": {
    "colab": {
      "name": "Assignment (18-06-2020)",
      "provenance": [],
      "authorship_tag": "ABX9TyPPJ9t7iWn47U1JjZox8iHv",
      "include_colab_link": true
    },
    "kernelspec": {
      "name": "python3",
      "display_name": "Python 3"
    }
  },
  "cells": [
    {
      "cell_type": "markdown",
      "metadata": {
        "id": "view-in-github",
        "colab_type": "text"
      },
      "source": [
        "<a href=\"https://colab.research.google.com/github/PADMASREE1999/AP/blob/master/Assignment_(18_06_2020).ipynb\" target=\"_parent\"><img src=\"https://colab.research.google.com/assets/colab-badge.svg\" alt=\"Open In Colab\"/></a>"
      ]
    },
    {
      "cell_type": "markdown",
      "metadata": {
        "id": "EXxyptseWGpR",
        "colab_type": "text"
      },
      "source": [
        "##CSE - 221710307059 - Tummala Sai Padmasree"
      ]
    },
    {
      "cell_type": "markdown",
      "metadata": {
        "id": "LjgdNu1LWNXy",
        "colab_type": "text"
      },
      "source": [
        "###Question 1:\n",
        "Write a program in C to print individual characters of string in reverse order.\n",
        "\n",
        "Test Data :            \n",
        "Input the string : communication\n",
        "\n",
        "Expected Output :                 \n",
        "\n",
        "The characters of the string in reverse are :              \n",
        "n o i t a c i n u m m o c                "
      ]
    },
    {
      "cell_type": "code",
      "metadata": {
        "id": "aE7yf5wcWBMt",
        "colab_type": "code",
        "colab": {}
      },
      "source": [
        "#include<stdio.h>\n",
        "#include<string.h>\n",
        "int main()\n",
        "{\n",
        "    char s[100];\n",
        "    scanf(\"%s\",s);\n",
        "    int i;\n",
        "    for(i=strlen(s)-1;i>=0;i--)\n",
        "    {\n",
        "        printf(\"%c \",s[i]);\n",
        "    }\n",
        "    return 0;\n",
        "}\n"
      ],
      "execution_count": null,
      "outputs": []
    },
    {
      "cell_type": "markdown",
      "metadata": {
        "id": "3Kee7hslYgQh",
        "colab_type": "text"
      },
      "source": [
        "###Question 2:\n",
        "Write a C program to sort a string array in ascending order.\n",
        " \n",
        "Test Data :                  \n",
        "Input the string : programming\n",
        "\n",
        "Expected Output :\n",
        "\n",
        "After sorting the string appears like :           \n",
        "aggimmnoprr        "
      ]
    },
    {
      "cell_type": "code",
      "metadata": {
        "id": "gnl-OlHgZBoF",
        "colab_type": "code",
        "colab": {}
      },
      "source": [
        "#include<stdio.h>\n",
        "#include<string.h>\n",
        "int sort(char s[],int l)\n",
        "{\n",
        "    char ch;\n",
        "    int i,j;\n",
        "    for(i=0;i<l;i++)\n",
        "    {\n",
        "        for(j=0;j<l-i-1;j++)\n",
        "        {\n",
        "            if(s[j]>s[j+1])\n",
        "            {\n",
        "                ch=s[j];\n",
        "                s[j]=s[j+1];\n",
        "                s[j+1]=ch;\n",
        "            }\n",
        "        }\n",
        "    }\n",
        "    return s;\n",
        "\n",
        "}\n",
        "int main()\n",
        "{\n",
        "    char s[100];\n",
        "    int l;\n",
        "    scanf(\"%s\",s);\n",
        "    l=strlen(s);\n",
        "    printf(\"%s\",sort(s,l));\n",
        "    return 0;\n",
        "}\n"
      ],
      "execution_count": null,
      "outputs": []
    },
    {
      "cell_type": "markdown",
      "metadata": {
        "id": "XJavI1rsa7iq",
        "colab_type": "text"
      },
      "source": [
        "###Question 3:\n",
        "Write a program in C to find the length of a string without using library function."
      ]
    },
    {
      "cell_type": "code",
      "metadata": {
        "id": "lOESPk4EcqCu",
        "colab_type": "code",
        "colab": {}
      },
      "source": [
        "#include<stdio.h>\n",
        "int main()\n",
        "{\n",
        "    char s[100];\n",
        "    scanf(\"%s\",s);\n",
        "    int l=0,i=0;\n",
        "    while(s[i]!='\\0')\n",
        "    {\n",
        "        l++;\n",
        "        i++;\n",
        "    }\n",
        "    printf(\"The length of string '%s' is %d\",s,l);\n",
        "    return 0;\n",
        "}\n"
      ],
      "execution_count": null,
      "outputs": []
    }
  ]
}