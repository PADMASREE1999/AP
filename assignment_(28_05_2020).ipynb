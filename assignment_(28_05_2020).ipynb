{
  "nbformat": 4,
  "nbformat_minor": 0,
  "metadata": {
    "colab": {
      "name": "assignment (28-05-2020)",
      "provenance": [],
      "authorship_tag": "ABX9TyN8U3RcrKbKJVkt3EKr2pCF",
      "include_colab_link": true
    },
    "kernelspec": {
      "name": "python3",
      "display_name": "Python 3"
    }
  },
  "cells": [
    {
      "cell_type": "markdown",
      "metadata": {
        "id": "view-in-github",
        "colab_type": "text"
      },
      "source": [
        "<a href=\"https://colab.research.google.com/github/PADMASREE1999/AP/blob/master/assignment_(28_05_2020).ipynb\" target=\"_parent\"><img src=\"https://colab.research.google.com/assets/colab-badge.svg\" alt=\"Open In Colab\"/></a>"
      ]
    },
    {
      "cell_type": "markdown",
      "metadata": {
        "id": "8ON_mCQbftb-",
        "colab_type": "text"
      },
      "source": [
        ""
      ]
    },
    {
      "cell_type": "markdown",
      "metadata": {
        "id": "c4NLCfE4vHDF",
        "colab_type": "text"
      },
      "source": [
        "### Question 1\n",
        "Accept a string from the user and count no.of vowels,consonants and special characters\n"
      ]
    },
    {
      "cell_type": "code",
      "metadata": {
        "id": "gXeNSGxefvHw",
        "colab_type": "code",
        "colab": {
          "base_uri": "https://localhost:8080/",
          "height": 87
        },
        "outputId": "7ef73b9f-8a4f-4203-f46e-a8d4013743c9"
      },
      "source": [
        "s=input(\"enter a string\")\n",
        "v=0\n",
        "c=0\n",
        "sc=0\n",
        "s=s.lower()\n",
        "for i in range(0,len(s)):\n",
        "  if(s[i]=='a' or s[i]=='e' or s[i]=='i' or s[i]=='o' or s[i]=='u'):\n",
        "    v=v+1\n",
        "  elif (s[i]>='a' and s[i]<='z'):\n",
        "    c=c+1\n",
        "  else:\n",
        "    sc=sc+1\n",
        "print(\"number of vowels = \",v)\n",
        "print(\"number of consonants = \",c)\n",
        "print(\"number of special characters = \",sc)    "
      ],
      "execution_count": 1,
      "outputs": [
        {
          "output_type": "stream",
          "text": [
            "enter a stringHello@\n",
            "number of vowels =  2\n",
            "number of consonants =  3\n",
            "number of special characters =  1\n"
          ],
          "name": "stdout"
        }
      ]
    },
    {
      "cell_type": "markdown",
      "metadata": {
        "id": "HrYPFIpQgs3L",
        "colab_type": "text"
      },
      "source": [
        ""
      ]
    },
    {
      "cell_type": "markdown",
      "metadata": {
        "id": "dAgzy3h2xGzp",
        "colab_type": "text"
      },
      "source": [
        "### Question 2 :\n",
        "count the no.of pairs of a in the given string(Infosys InfyTQ)       \n",
        "  string →  \"abbaaccbbaaa\"        \n",
        "    output →  2\n"
      ]
    },
    {
      "cell_type": "code",
      "metadata": {
        "id": "tC0C5vJugzRh",
        "colab_type": "code",
        "colab": {
          "base_uri": "https://localhost:8080/",
          "height": 52
        },
        "outputId": "12d6eb24-ca4f-4a4b-84fa-1599f8d4c985"
      },
      "source": [
        "s=input(\"Enter a string\")\n",
        "print(s.count(\"aa\"))"
      ],
      "execution_count": 2,
      "outputs": [
        {
          "output_type": "stream",
          "text": [
            "Enter a stringabbaaccbbaaa\n",
            "2\n"
          ],
          "name": "stdout"
        }
      ]
    },
    {
      "cell_type": "markdown",
      "metadata": {
        "id": "cvvPJDUvh4iP",
        "colab_type": "text"
      },
      "source": [
        ""
      ]
    },
    {
      "cell_type": "markdown",
      "metadata": {
        "id": "GbtxTJKWzVcH",
        "colab_type": "text"
      },
      "source": [
        "### Question 3:\n",
        "   Test case1:                 \n",
        "        string →  \"((((()()()))))()\"                       \n",
        "        output →  8                         \n",
        "    Test case2:                     \n",
        "        string →  \"((()))()\"                 \n",
        "        Output →  4\n"
      ]
    },
    {
      "cell_type": "code",
      "metadata": {
        "id": "R9egU_ASiXHj",
        "colab_type": "code",
        "colab": {
          "base_uri": "https://localhost:8080/",
          "height": 52
        },
        "outputId": "b8638fc4-114b-4b44-d1ad-b53d9179b50b"
      },
      "source": [
        "s=input(\"enter a string\")\n",
        "count=0\n",
        "flag=0\n",
        "for i in range(0,len(s)):\n",
        "  if(s[i]=='('):\n",
        "    count=count+1\n",
        "  elif(s[i]==\")\"):\n",
        "    flag=flag+1\n",
        "if count==flag:\n",
        "  print(count)\n",
        "else:\n",
        "  print(count-(count-flag))"
      ],
      "execution_count": 3,
      "outputs": [
        {
          "output_type": "stream",
          "text": [
            "enter a string((((()()()))))()\n",
            "8\n"
          ],
          "name": "stdout"
        }
      ]
    },
    {
      "cell_type": "code",
      "metadata": {
        "id": "Iqxkw3IUkWSG",
        "colab_type": "code",
        "colab": {}
      },
      "source": [
        ""
      ],
      "execution_count": 0,
      "outputs": []
    },
    {
      "cell_type": "markdown",
      "metadata": {
        "id": "fB8klfdL2b38",
        "colab_type": "text"
      },
      "source": [
        "###Question 4:\n",
        "Read the input as two limits and Print the output as Palindrome count between the two limits              \n",
        "Example #1; Input : 1 10 Output : 9                         \n",
        " Example #2: Input : 1 100 Output : 18\n"
      ]
    },
    {
      "cell_type": "code",
      "metadata": {
        "id": "P28e6cehkfPj",
        "colab_type": "code",
        "colab": {
          "base_uri": "https://localhost:8080/",
          "height": 69
        },
        "outputId": "1a29f7e3-8515-400b-9e65-15f5fc26f118"
      },
      "source": [
        "n=int(input(\"enter the start limit\"))\n",
        "m=int(input(\"enter the end limit\"))\n",
        "count=0\n",
        "for i in range(n,m):\n",
        "  rev=0\n",
        "  temp=i\n",
        "  while(i>0):\n",
        "    num=i%10\n",
        "    rev=rev*10+num\n",
        "    i=i//10\n",
        "  if(temp==rev):\n",
        "    count=count+1\n",
        "print(count)\n"
      ],
      "execution_count": 4,
      "outputs": [
        {
          "output_type": "stream",
          "text": [
            "enter the start limit1\n",
            "enter the end limit10\n",
            "9\n"
          ],
          "name": "stdout"
        }
      ]
    },
    {
      "cell_type": "markdown",
      "metadata": {
        "id": "2n5B9PRdlG2c",
        "colab_type": "text"
      },
      "source": [
        ""
      ]
    },
    {
      "cell_type": "markdown",
      "metadata": {
        "id": "DwiBkHH-Etr8",
        "colab_type": "text"
      },
      "source": [
        "###Question 5:\n",
        " Accept a number as an input and check whether the given number is palindrome or not\n",
        "- if it is a palindrome number print the number on the screen\n",
        "- if it is not a palindrome number reverse that number and add it to previous number repeat this until will get a palindrome number and print that palindrome number on the screen      \n",
        "input: 127                      \n",
        "output: 848\n"
      ]
    },
    {
      "cell_type": "code",
      "metadata": {
        "id": "gBmn5Q8NlMdv",
        "colab_type": "code",
        "colab": {
          "base_uri": "https://localhost:8080/",
          "height": 52
        },
        "outputId": "fff18504-3cf5-4c83-c5b5-73e84ad7f2ea"
      },
      "source": [
        "def procedure(rev,temp):\n",
        "  n=rev+temp\n",
        "  palindrome(n)\n",
        "\n",
        "def palindrome(n):\n",
        "  temp=n\n",
        "  rev=0\n",
        "  while(n>0):\n",
        "    num=n%10\n",
        "    rev=rev*10+num\n",
        "    n=n//10\n",
        "  if(temp==rev):\n",
        "    print(rev)\n",
        "  else:\n",
        "    procedure(rev,temp)\n",
        "n=int(input(\"Enter a number\"))\n",
        "palindrome(n)"
      ],
      "execution_count": 5,
      "outputs": [
        {
          "output_type": "stream",
          "text": [
            "Enter a number127\n",
            "848\n"
          ],
          "name": "stdout"
        }
      ]
    },
    {
      "cell_type": "markdown",
      "metadata": {
        "id": "V1THgudll8i2",
        "colab_type": "text"
      },
      "source": [
        ""
      ]
    },
    {
      "cell_type": "markdown",
      "metadata": {
        "id": "cb58piyQLTte",
        "colab_type": "text"
      },
      "source": [
        "### Question 6:\n",
        "input:orange  →   output : puboif\n"
      ]
    },
    {
      "cell_type": "code",
      "metadata": {
        "id": "40Dmet8VmF_k",
        "colab_type": "code",
        "colab": {
          "base_uri": "https://localhost:8080/",
          "height": 52
        },
        "outputId": "98ca73a5-96eb-4f21-9816-1e16c1b843ec"
      },
      "source": [
        "s=input(\"Enter a string\")\n",
        "for i in s:\n",
        "  if(i==\"a\" or i==\"e\" or i==\"i\" or i==\"u\" or i==\"o\"):\n",
        "    z=ord(i)\n",
        "    print(chr(z+1),end=\"\")\n",
        "  elif(ord(i)>97 and ord(i)<=100 ):\n",
        "    print(\"e\",end=\"\")\n",
        "  elif(ord(i)>101 and ord(i)<=104):\n",
        "    print(\"i\",end=\"\")\n",
        "  elif(ord(i)>105 and ord(i)<=110):\n",
        "    print(\"o\",end=\"\")\n",
        "  elif(ord(i)>111 and ord(i)<=116):\n",
        "    print(\"u\",end=\"\")\n",
        "  else:\n",
        "    print(\"a\",end=\"\")"
      ],
      "execution_count": 16,
      "outputs": [
        {
          "output_type": "stream",
          "text": [
            "Enter a stringorange\n",
            "puboif"
          ],
          "name": "stdout"
        }
      ]
    },
    {
      "cell_type": "markdown",
      "metadata": {
        "id": "kbhChqCVmGn9",
        "colab_type": "text"
      },
      "source": [
        ""
      ]
    },
    {
      "cell_type": "markdown",
      "metadata": {
        "id": "KpxfK8QrONjj",
        "colab_type": "text"
      },
      "source": [
        "### Question 7:\n",
        "Accept input as a string and display sum of digits as the output       \n",
        "input:Appli123cation456        \n",
        "Output: 21\n"
      ]
    },
    {
      "cell_type": "code",
      "metadata": {
        "id": "E1nlZ4ZKmKi5",
        "colab_type": "code",
        "colab": {
          "base_uri": "https://localhost:8080/",
          "height": 52
        },
        "outputId": "3754f8b1-fd8c-4e3c-efd5-ecba707b325c"
      },
      "source": [
        "s=input(\"enter a string\")\n",
        "sum=0\n",
        "for i in s:\n",
        "  if(i.isdigit()==True):\n",
        "    x=int(i)\n",
        "    sum=sum+x\n",
        "    \n",
        "print(sum)"
      ],
      "execution_count": 6,
      "outputs": [
        {
          "output_type": "stream",
          "text": [
            "enter a stringappli123cation456\n",
            "21\n"
          ],
          "name": "stdout"
        }
      ]
    },
    {
      "cell_type": "markdown",
      "metadata": {
        "id": "6CosXa2UmU7c",
        "colab_type": "text"
      },
      "source": [
        ""
      ]
    },
    {
      "cell_type": "markdown",
      "metadata": {
        "id": "TjPwCPbnRMpi",
        "colab_type": "text"
      },
      "source": [
        "###Question 8:\n",
        "Write a program to prompt for a score between 0.0 and 1.0. If the score is out of range, print an error. If the score is between 0.0 and 1.0, print a grade using the following table:\n",
        "Score Grade\n",
        ">= 0.9 A\n",
        ">= 0.8 B\n",
        ">= 0.7 C\n",
        ">= 0.6 D\n",
        "< 0.6 F\n",
        "If the user enters a value out of range, print a suitable error message and exit. For the test, enter a score of 0.85\n"
      ]
    },
    {
      "cell_type": "code",
      "metadata": {
        "id": "kb3cNbkkmfKU",
        "colab_type": "code",
        "colab": {
          "base_uri": "https://localhost:8080/",
          "height": 52
        },
        "outputId": "c0e9ecb9-da95-432c-9b92-e82981dbbaec"
      },
      "source": [
        "score=float(input(\"enter a score\"))\n",
        "if score>=0.0 and score<=1.0:\n",
        "  if score>=0.9:\n",
        "    print(\"A\")\n",
        "  elif score>=0.8:\n",
        "    print(\"B\")\n",
        "  elif score>=0.7:\n",
        "    print(\"C\")\n",
        "  elif score>=0.6:\n",
        "    print(\"D\")\n",
        "  else:\n",
        "    print(\"F\")\n",
        "else:\n",
        "  print(\"The given score is out of range\")"
      ],
      "execution_count": 7,
      "outputs": [
        {
          "output_type": "stream",
          "text": [
            "enter a score0.85\n",
            "B\n"
          ],
          "name": "stdout"
        }
      ]
    },
    {
      "cell_type": "markdown",
      "metadata": {
        "id": "26QRqx1nmzPu",
        "colab_type": "text"
      },
      "source": [
        ""
      ]
    },
    {
      "cell_type": "markdown",
      "metadata": {
        "id": "YrJeLiAQVB03",
        "colab_type": "text"
      },
      "source": [
        "### Question 9:\n",
        "Write a Python program which iterates the integers from 1 to 50. For multiples of three print \"Fizz\" instead of the number and for the multiples of five print \"Buzz\". For numbers which are multiples of both three and five print \"FizzBuzz\".    \n",
        "Sample Output :     \n",
        "fizzbuzz      \n",
        "1     \n",
        "2      \n",
        "fizz     \n",
        "4      \n",
        "buzz     \n"
      ]
    },
    {
      "cell_type": "code",
      "metadata": {
        "id": "TOHseEn0m3e2",
        "colab_type": "code",
        "colab": {
          "base_uri": "https://localhost:8080/",
          "height": 884
        },
        "outputId": "f7fe969b-3173-47c9-ae27-8f225718005c"
      },
      "source": [
        "for i in range (1,51):\n",
        "  if(i%3==0 and i%5==0):\n",
        "    print(\"fizzbuzz\")\n",
        "  elif(i%3==0):\n",
        "    print(\"fizz\")\n",
        "  elif(i%5==0):\n",
        "    print(\"buzz\")\n",
        "  else:\n",
        "    print(i)"
      ],
      "execution_count": 8,
      "outputs": [
        {
          "output_type": "stream",
          "text": [
            "1\n",
            "2\n",
            "fizz\n",
            "4\n",
            "buzz\n",
            "fizz\n",
            "7\n",
            "8\n",
            "fizz\n",
            "buzz\n",
            "11\n",
            "fizz\n",
            "13\n",
            "14\n",
            "fizzbuzz\n",
            "16\n",
            "17\n",
            "fizz\n",
            "19\n",
            "buzz\n",
            "fizz\n",
            "22\n",
            "23\n",
            "fizz\n",
            "buzz\n",
            "26\n",
            "fizz\n",
            "28\n",
            "29\n",
            "fizzbuzz\n",
            "31\n",
            "32\n",
            "fizz\n",
            "34\n",
            "buzz\n",
            "fizz\n",
            "37\n",
            "38\n",
            "fizz\n",
            "buzz\n",
            "41\n",
            "fizz\n",
            "43\n",
            "44\n",
            "fizzbuzz\n",
            "46\n",
            "47\n",
            "fizz\n",
            "49\n",
            "buzz\n"
          ],
          "name": "stdout"
        }
      ]
    },
    {
      "cell_type": "markdown",
      "metadata": {
        "id": "hWM-8K6Jo3tB",
        "colab_type": "text"
      },
      "source": [
        ""
      ]
    },
    {
      "cell_type": "markdown",
      "metadata": {
        "id": "YoIAv2aOYBsq",
        "colab_type": "text"
      },
      "source": [
        "### Question 10:\n",
        "Write a Python program to find the median of three values.     \n",
        "Expected Output:        \n",
        "Input first number: 26                                                 \n",
        "Input second number: 15                                                    \n",
        "Input third number: 29                                                     \n",
        "The median is 26\n"
      ]
    },
    {
      "cell_type": "code",
      "metadata": {
        "id": "KYjdVCmAo95w",
        "colab_type": "code",
        "colab": {
          "base_uri": "https://localhost:8080/",
          "height": 87
        },
        "outputId": "80f08cbd-ace2-4112-de4f-d303c1ba00cb"
      },
      "source": [
        "a=int(input(\"Input first number: \"))\n",
        "b=int(input(\"Input second number: \"))\n",
        "c=int(input(\"Input third number: \"))\n",
        "if a>b and a<c:\n",
        "  print(\"The median is \",a)\n",
        "elif b>a and b<c:\n",
        "  print(\"The median is \",b)\n",
        "else:\n",
        "  print(\"The median is \",c)"
      ],
      "execution_count": 10,
      "outputs": [
        {
          "output_type": "stream",
          "text": [
            "Input first number: 26\n",
            "Input second number: 15\n",
            "Input third number: 29\n",
            "The median is  26\n"
          ],
          "name": "stdout"
        }
      ]
    }
  ]
}