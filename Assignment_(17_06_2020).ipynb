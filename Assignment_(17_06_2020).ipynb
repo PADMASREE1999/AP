{
  "nbformat": 4,
  "nbformat_minor": 0,
  "metadata": {
    "colab": {
      "name": "Assignment (17-06-2020)",
      "provenance": [],
      "authorship_tag": "ABX9TyOYuGd1SATsd2VrBoh1RjtK",
      "include_colab_link": true
    },
    "kernelspec": {
      "name": "python3",
      "display_name": "Python 3"
    }
  },
  "cells": [
    {
      "cell_type": "markdown",
      "metadata": {
        "id": "view-in-github",
        "colab_type": "text"
      },
      "source": [
        "<a href=\"https://colab.research.google.com/github/PADMASREE1999/AP/blob/master/Assignment_(17_06_2020).ipynb\" target=\"_parent\"><img src=\"https://colab.research.google.com/assets/colab-badge.svg\" alt=\"Open In Colab\"/></a>"
      ]
    },
    {
      "cell_type": "markdown",
      "metadata": {
        "id": "-bH6a1DdVpJ4",
        "colab_type": "text"
      },
      "source": [
        "## CSE - 221710307059 - Tummala Sai Padmasree"
      ]
    },
    {
      "cell_type": "markdown",
      "metadata": {
        "id": "tbBSBfE-VyTz",
        "colab_type": "text"
      },
      "source": [
        "###Question 1:\n",
        "1)Write a program in C to split string by space into words.        \n",
        "Test Data :                           \n",
        "Input a string : this is a test string            \n",
        "Expected Output :                               \n",
        "Strings or words after split by space are :          \n",
        "this           \n",
        "is           \n",
        "a              \n",
        "test                \n",
        "string                 \n",
        " "
      ]
    },
    {
      "cell_type": "code",
      "metadata": {
        "id": "22NtkSIwVxpg",
        "colab_type": "code",
        "colab": {}
      },
      "source": [
        "#include<stdio.h>\n",
        "#include<string.h>\n",
        "int main()\n",
        "{\n",
        "    char s[100];\n",
        "    scanf(\"%[^\\n]s\",s);\n",
        "    int i;\n",
        "    for(i=0;i<strlen(s);i++)\n",
        "    {\n",
        "        if(s[i]==32)\n",
        "        {\n",
        "            printf(\"\\n\");\n",
        "        }\n",
        "        else\n",
        "        {\n",
        "            printf(\"%c\",s[i]);\n",
        "        }\n",
        "    }\n",
        "    return 0;\n",
        "}\n"
      ],
      "execution_count": null,
      "outputs": []
    },
    {
      "cell_type": "markdown",
      "metadata": {
        "id": "wM6J8sn5WBzn",
        "colab_type": "text"
      },
      "source": [
        "###Question 2:\n",
        "Write a C program to check whether a given substring is present in the given string.        \n",
        "Test Data :                  \n",
        "Input the string : javascript              \n",
        "Input the substring to be search : script           \n",
        "Expected Output :                    \n",
        "The substring is exists in the string.\n"
      ]
    },
    {
      "cell_type": "code",
      "metadata": {
        "id": "obs2klDeVkG5",
        "colab_type": "code",
        "colab": {}
      },
      "source": [
        "#include<stdio.h>\n",
        "#include<string.h>\n",
        "int main()\n",
        "{\n",
        "    char str1[100],str2[100];\n",
        "    scanf(\"%s\",str1);\n",
        "    scanf(\"%s\",str2);\n",
        "    int i,j,flag=1;\n",
        "    for(i=0;i<strlen(str1);i++)\n",
        "    {\n",
        "        flag=1;\n",
        "        if(str1[i]==str2[0])\n",
        "        {\n",
        "            while(str2[j]!='\\0')\n",
        "            {\n",
        "                if(str1[i+1]!=str2[j+1])\n",
        "                {\n",
        "                    flag=0;\n",
        "                    break;\n",
        "                }\n",
        "                i++;\n",
        "                j++;\n",
        "            }\n",
        "\n",
        "        }\n",
        "\n",
        "    }\n",
        "    if(flag==1)\n",
        "    {\n",
        "        printf(\"The substring exists in the string\");\n",
        "\n",
        "    }\n",
        "    else\n",
        "    {\n",
        "        printf(\"The substring does not exist in the string\");\n",
        "    }\n",
        "    return 0;\n",
        "}\n"
      ],
      "execution_count": null,
      "outputs": []
    },
    {
      "cell_type": "markdown",
      "metadata": {
        "id": "oJ7S5tkcdd5_",
        "colab_type": "text"
      },
      "source": [
        "###Question 3:\n",
        "Write a program in C to read a sentence and replace lowercase characters by uppercase and vice-versa.                  \n",
        "Test Data :                              \n",
        "Input the string : This Is A Test String.          \n",
        "Expected Output :                               \n",
        "The given sentence is   : This Is A Test String.           \n",
        "After Case changed the string  is: tHIS iS a tEST sTRING.          "
      ]
    },
    {
      "cell_type": "code",
      "metadata": {
        "id": "IESMh_Eid6pi",
        "colab_type": "code",
        "colab": {}
      },
      "source": [
        "#include<stdio.h>\n",
        "#include<string.h>\n",
        "int main()\n",
        "{\n",
        "    char s[100];\n",
        "    scanf(\"%[^\\n]s\",s);\n",
        "    int i;\n",
        "    for(i=0;i<strlen(s);i++)\n",
        "    {\n",
        "        if(s[i]>=65 && s[i]<=90)\n",
        "        {\n",
        "            s[i]=s[i]+32;\n",
        "        }\n",
        "        else if(s[i]>=97 && s[i]<=122)\n",
        "        {\n",
        "            s[i]=s[i]-32;\n",
        "        }\n",
        "    }\n",
        "    printf(\"%s\",s);\n",
        "    return 0;\n",
        "}\n"
      ],
      "execution_count": null,
      "outputs": []
    }
  ]
}