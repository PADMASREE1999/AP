{
  "nbformat": 4,
  "nbformat_minor": 0,
  "metadata": {
    "colab": {
      "name": "Assignment (04-06-2020)",
      "provenance": [],
      "authorship_tag": "ABX9TyP2IOMHxPTAMdVfAK1lw+ME",
      "include_colab_link": true
    },
    "kernelspec": {
      "name": "python3",
      "display_name": "Python 3"
    }
  },
  "cells": [
    {
      "cell_type": "markdown",
      "metadata": {
        "id": "view-in-github",
        "colab_type": "text"
      },
      "source": [
        "<a href=\"https://colab.research.google.com/github/PADMASREE1999/AP/blob/master/Assignment_(04_06_2020).ipynb\" target=\"_parent\"><img src=\"https://colab.research.google.com/assets/colab-badge.svg\" alt=\"Open In Colab\"/></a>"
      ]
    },
    {
      "cell_type": "markdown",
      "metadata": {
        "id": "LmT5mVbtIVj7",
        "colab_type": "text"
      },
      "source": [
        "## CSE - 221710307059 - Tummala Sai Padmasree"
      ]
    },
    {
      "cell_type": "markdown",
      "metadata": {
        "id": "apGXtogIIcea",
        "colab_type": "text"
      },
      "source": [
        "### Question 1:\n",
        "[Reversing an Array] \n",
        "Write a NumPy program to reverse an array (first element becomes last).           \n",
        "Original array:                             \n",
        "[12 13 14 15 16 17 18 19 20 21 22 23 24 25 26 27 28 29 30 31 32 33 34 35 36 37]                 \n",
        "Reverse array:                           \n",
        "[37 36 35 34 33 32 31 30 29 28 27 26 25 24 23 22 21 20 19 18 17 16 15 14 13 12]\n"
      ]
    },
    {
      "cell_type": "code",
      "metadata": {
        "id": "w1vlhiaAITod",
        "colab_type": "code",
        "colab": {
          "base_uri": "https://localhost:8080/",
          "height": 121
        },
        "outputId": "bbff1fd5-b057-4ad7-b959-1a78dce7a0c3"
      },
      "source": [
        "import numpy as np\n",
        "n=np.arange(12,38)\n",
        "print(\"Original Array: \")\n",
        "print(n)\n",
        "print(\"Reverse Array: \")\n",
        "n=n[::-1]\n",
        "print(n)"
      ],
      "execution_count": 1,
      "outputs": [
        {
          "output_type": "stream",
          "text": [
            "Original Array: \n",
            "[12 13 14 15 16 17 18 19 20 21 22 23 24 25 26 27 28 29 30 31 32 33 34 35\n",
            " 36 37]\n",
            "Reverse Array: \n",
            "[37 36 35 34 33 32 31 30 29 28 27 26 25 24 23 22 21 20 19 18 17 16 15 14\n",
            " 13 12]\n"
          ],
          "name": "stdout"
        }
      ]
    },
    {
      "cell_type": "markdown",
      "metadata": {
        "id": "ISB_Iq1cJUcr",
        "colab_type": "text"
      },
      "source": [
        "### Question 2:\n",
        "[Make Border 1]            \n",
        "Write a NumPy program to create a 2d array with 1 on the border and 0 inside.             \n",
        "Original array:              \n",
        "[[ 1. 1. 1. 1. 1.]                 \n",
        "...................                  \n",
        "[ 1. 1. 1. 1. 1.]]                    \n",
        "1 on the border and 0 inside in the array                         \n",
        "Expected output:                 \n",
        "[[ 1. 1. 1. 1. 1.]                \n",
        " [1. 0. 0. 0. 1.]              \n",
        "……………..                   \n",
        " [1. 0. 0. 0. 1.]               \n",
        "[ 1. 1. 1. 1. 1.]]               \n"
      ]
    },
    {
      "cell_type": "code",
      "metadata": {
        "id": "aME9KLyTJzgF",
        "colab_type": "code",
        "colab": {
          "base_uri": "https://localhost:8080/",
          "height": 208
        },
        "outputId": "58c2e2a2-ae00-471c-898e-d96a43a83a6e"
      },
      "source": [
        "import numpy as np\n",
        "n=np.ones((5,5))\n",
        "print(n)\n",
        "print(\"1 on border and 0 inside\")\n",
        "n[1:-1,1:-1]=0\n",
        "print(n)"
      ],
      "execution_count": 5,
      "outputs": [
        {
          "output_type": "stream",
          "text": [
            "[[1. 1. 1. 1. 1.]\n",
            " [1. 1. 1. 1. 1.]\n",
            " [1. 1. 1. 1. 1.]\n",
            " [1. 1. 1. 1. 1.]\n",
            " [1. 1. 1. 1. 1.]]\n",
            "1 on border and 0 inside\n",
            "[[1. 1. 1. 1. 1.]\n",
            " [1. 0. 0. 0. 1.]\n",
            " [1. 0. 0. 0. 1.]\n",
            " [1. 0. 0. 0. 1.]\n",
            " [1. 1. 1. 1. 1.]]\n"
          ],
          "name": "stdout"
        }
      ]
    },
    {
      "cell_type": "markdown",
      "metadata": {
        "id": "ppZjkvePKWSw",
        "colab_type": "text"
      },
      "source": [
        "### Question 3:\n",
        "[Membership Test]                   \n",
        "Write a NumPy program to test whether each element of a 1-D array is also present in a second array.          \n",
        "Expected Output:                \n",
        "Array1: [ 0 10 20 40 60]          \n",
        "Array2: [0, 40]                 \n",
        "Compare each element of array1 and array2                         \n",
        "[ True False False True False]          \n",
        "\n"
      ]
    },
    {
      "cell_type": "code",
      "metadata": {
        "id": "Wbhdc31LKjPr",
        "colab_type": "code",
        "colab": {
          "base_uri": "https://localhost:8080/",
          "height": 87
        },
        "outputId": "f99eb28c-1976-44d0-d494-6d0a0818c790"
      },
      "source": [
        "import numpy as np\n",
        "arr1=np.array([0,10,20,40,60])\n",
        "arr2=np.array([0,40])\n",
        "print(\"Array1: \",arr1)\n",
        "print(\"Array2: \",arr2)\n",
        "print(\"Compare each element of array1 and array2:\")\n",
        "print(np.in1d(arr1,arr2))"
      ],
      "execution_count": 6,
      "outputs": [
        {
          "output_type": "stream",
          "text": [
            "Array1:  [ 0 10 20 40 60]\n",
            "Array2:  [ 0 40]\n",
            "Compare each element of array1 and array2:\n",
            "[ True False False  True False]\n"
          ],
          "name": "stdout"
        }
      ]
    },
    {
      "cell_type": "markdown",
      "metadata": {
        "id": "1wMhxtkGLLrT",
        "colab_type": "text"
      },
      "source": [
        "### Question 4:\n",
        "[Set Difference]             \n",
        "Write a NumPy program to find the set difference of two arrays. The set difference will return the sorted, unique values in array1 that are not in array2.                  \n",
        "Expected Output:                  \n",
        "Array1: [ 0 10 20 40 60 80]          \n",
        "Array2: [10, 30, 40, 50,70, 90]            \n",
        "Set difference between two arrays:            \n",
        "[ 0 20 60 80]\n",
        "                 "
      ]
    },
    {
      "cell_type": "code",
      "metadata": {
        "id": "g0LGjKTlLKcD",
        "colab_type": "code",
        "colab": {
          "base_uri": "https://localhost:8080/",
          "height": 87
        },
        "outputId": "1a86ec00-a3d4-4582-c1f2-80b8b38fa35b"
      },
      "source": [
        "import numpy as np\n",
        "arr1=np.array([0,10,20,40,60,80])\n",
        "arr2=np.array([10,30,40,50,70,90])\n",
        "print(\"Array1: \",arr1)\n",
        "print(\"Array2: \",arr2)\n",
        "print(\"Unique values in array1 which are not in array 2 are\")\n",
        "print(np.setdiff1d(arr1,arr2))"
      ],
      "execution_count": 9,
      "outputs": [
        {
          "output_type": "stream",
          "text": [
            "Array1:  [ 0 10 20 40 60 80]\n",
            "Array2:  [10 30 40 50 70 90]\n",
            "Unique values in array1 which are not in array 2 are\n",
            "[ 0 20 60 80]\n"
          ],
          "name": "stdout"
        }
      ]
    },
    {
      "cell_type": "markdown",
      "metadata": {
        "id": "KzsmMTovMMIN",
        "colab_type": "text"
      },
      "source": [
        "### Question 5:\n",
        "[Formation of Diagonal Matrix]       \n",
        "Write a NumPy program to create a 2-D array whose diagonal equals [4, 5, 6, 8] and 0's elsewhere.           \n",
        "Expected Output:        \n",
        "[[4 0 0 0]             \n",
        "[0 5 0 0]             \n",
        "[0 0 6 0]               \n",
        "[0 0 0 8]]              \n"
      ]
    },
    {
      "cell_type": "code",
      "metadata": {
        "id": "MmJd8uJJMLLN",
        "colab_type": "code",
        "colab": {
          "base_uri": "https://localhost:8080/",
          "height": 87
        },
        "outputId": "07eb4b99-e8ea-4964-d662-35074cf968d8"
      },
      "source": [
        "import numpy as np\n",
        "n=np.diagflat([4,5,6,8])\n",
        "print(n)"
      ],
      "execution_count": 10,
      "outputs": [
        {
          "output_type": "stream",
          "text": [
            "[[4 0 0 0]\n",
            " [0 5 0 0]\n",
            " [0 0 6 0]\n",
            " [0 0 0 8]]\n"
          ],
          "name": "stdout"
        }
      ]
    }
  ]
}