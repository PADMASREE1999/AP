{
  "nbformat": 4,
  "nbformat_minor": 0,
  "metadata": {
    "colab": {
      "name": "Assignment (01-07-2020)",
      "provenance": [],
      "authorship_tag": "ABX9TyPD4ZZjWl2+Nb3t/b2s7CVW",
      "include_colab_link": true
    },
    "kernelspec": {
      "name": "python3",
      "display_name": "Python 3"
    }
  },
  "cells": [
    {
      "cell_type": "markdown",
      "metadata": {
        "id": "view-in-github",
        "colab_type": "text"
      },
      "source": [
        "<a href=\"https://colab.research.google.com/github/PADMASREE1999/AP/blob/master/Assignment_(01_07_2020).ipynb\" target=\"_parent\"><img src=\"https://colab.research.google.com/assets/colab-badge.svg\" alt=\"Open In Colab\"/></a>"
      ]
    },
    {
      "cell_type": "markdown",
      "metadata": {
        "id": "jHDJQr7rXtXX",
        "colab_type": "text"
      },
      "source": [
        "##CSE - 221710307059 - Tummala Sai Padmasree"
      ]
    },
    {
      "cell_type": "markdown",
      "metadata": {
        "id": "6wuzXnKJXzuE",
        "colab_type": "text"
      },
      "source": [
        "###Question 1:\n",
        "Write a C program to sort a list of elements using the merge sort algorithm.\n",
        "\n",
        "Test Data:  125 181 130 25 61 887                \n",
        "Expected Output: 25 61 125 130 181 887                             "
      ]
    },
    {
      "cell_type": "code",
      "metadata": {
        "id": "KSLbdpjQVsZc",
        "colab_type": "code",
        "colab": {}
      },
      "source": [
        "#include<stdio.h>\n",
        "#include<stdlib.h>\n",
        "#include<conio.h>\n",
        "int merge(int a[],int l,int m,int r)\n",
        "{\n",
        "    int i,j,k,n1,n2;\n",
        "    n1=m-l+1;\n",
        "    n2=r-m;\n",
        "    //creating the temp arrays\n",
        "    int L[n1],R[n2];\n",
        "    //Will place items into it\n",
        "    for(i=0;i<n1;i++)\n",
        "    {\n",
        "        L[i]=a[l+i];\n",
        "    }\n",
        "    for(j=0;j<n2;j++)\n",
        "    {\n",
        "        R[j]=a[m+1+j];\n",
        "    }\n",
        "    i=0,j=0,k=1;\n",
        "    while(i<n1 && j<n2)\n",
        "    {\n",
        "        if(L[i]<=R[j])\n",
        "        {\n",
        "            a[k]=L[i];\n",
        "            i++;\n",
        "        }\n",
        "        else{\n",
        "            a[k]=R[j];\n",
        "            j++;\n",
        "        }\n",
        "        k++;\n",
        "    }\n",
        "    while(i<n1)\n",
        "    {\n",
        "        a[k]=L[i];\n",
        "        i++;\n",
        "        k++;\n",
        "    }\n",
        "    while(j<n2)\n",
        "    {\n",
        "        a[k]=R[j];\n",
        "        j++;\n",
        "        k++;\n",
        "    }\n",
        "}\n",
        "int mergesort(int a[],int l,int r)\n",
        "{\n",
        "    if(l<r)\n",
        "    {\n",
        "        int m=l+(r-1)/2;\n",
        "        mergesort(a,l,m);\n",
        "        mergesort(a,m+1,r);\n",
        "        merge(a,l,m,r);\n",
        "    }\n",
        "}\n",
        "int printarray(int a[],int n)\n",
        "{\n",
        "    int i;\n",
        "    for(i=0;i<n;i++)\n",
        "    {\n",
        "        printf(\"%d \",a[i]);\n",
        "    }\n",
        "}\n",
        "int main()\n",
        "{\n",
        "    int x[6]={125 181 130 25 61 887};\n",
        "    mergesort(x,0,5);\n",
        "    printarray(x,6);\n",
        "    return 0;\n",
        "}\n"
      ],
      "execution_count": null,
      "outputs": []
    },
    {
      "cell_type": "markdown",
      "metadata": {
        "id": "DOYrPjIlZLUx",
        "colab_type": "text"
      },
      "source": [
        "###Question 2:\n",
        "Write a C program that sort numbers using shell sorting method.\n",
        "\n",
        "Test Data: 4 65 2 -31 0 99 2 83 782 1                   \n",
        "Expected Output: -31 0 1 2 2 4 65 83 99 782         "
      ]
    },
    {
      "cell_type": "code",
      "metadata": {
        "id": "fTYiXteSZQht",
        "colab_type": "code",
        "colab": {}
      },
      "source": [
        "#include<stdio.h>\n",
        "#include<conio.h>\n",
        "void shellsort(int a[],int n)\n",
        "{\n",
        "    int gap,i,temp,j;\n",
        "    for(gap=n/2;gap>0;gap=gap/2)\n",
        "    {\n",
        "        for(i=gap;i<n;i++)\n",
        "        {\n",
        "            temp=a[i];\n",
        "            for(j=i;j>=gap && a[j-gap]>temp;j-=gap)\n",
        "            {\n",
        "                a[j]=a[j-gap];\n",
        "            }\n",
        "            a[j]=temp;\n",
        "        }\n",
        "    }\n",
        "}\n",
        "void printarray(int a[],int n)\n",
        "{\n",
        "    int i;\n",
        "    for(i=0;i<n;i++)\n",
        "    {\n",
        "        printf(\"%d \",a[i]);\n",
        "    }\n",
        "}\n",
        "int main()\n",
        "{\n",
        "    int x[10]={4 65 2 -31 0 99 2 83 782 1};\n",
        "    shellsort(x,10);\n",
        "    printarray(x,10);\n",
        "    return 0;\n",
        "}\n"
      ],
      "execution_count": null,
      "outputs": []
    }
  ]
}