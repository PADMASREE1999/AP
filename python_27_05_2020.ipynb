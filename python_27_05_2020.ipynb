{
  "nbformat": 4,
  "nbformat_minor": 0,
  "metadata": {
    "colab": {
      "name": "python  27-05-2020",
      "provenance": [],
      "authorship_tag": "ABX9TyMSgZhiDHVRQk1/aSwkkCN0",
      "include_colab_link": true
    },
    "kernelspec": {
      "name": "python3",
      "display_name": "Python 3"
    }
  },
  "cells": [
    {
      "cell_type": "markdown",
      "metadata": {
        "id": "view-in-github",
        "colab_type": "text"
      },
      "source": [
        "<a href=\"https://colab.research.google.com/github/PADMASREE1999/AP/blob/master/python_27_05_2020.ipynb\" target=\"_parent\"><img src=\"https://colab.research.google.com/assets/colab-badge.svg\" alt=\"Open In Colab\"/></a>"
      ]
    },
    {
      "cell_type": "code",
      "metadata": {
        "id": "wm8z1T6ATrnq",
        "colab_type": "code",
        "colab": {}
      },
      "source": [
        ""
      ],
      "execution_count": 0,
      "outputs": []
    },
    {
      "cell_type": "markdown",
      "metadata": {
        "id": "TO3BG0e7UH2B",
        "colab_type": "text"
      },
      "source": [
        "Headings:\n",
        "# python programming\n",
        "## python programming\n",
        "### python programming\n",
        "#### python programming\n",
        "##### python programming\n",
        "###### python programming"
      ]
    },
    {
      "cell_type": "code",
      "metadata": {
        "id": "9tpsWr7IVQCv",
        "colab_type": "code",
        "outputId": "a67bc1a4-f4d9-47cd-fb2e-d2110cd3746a",
        "colab": {
          "base_uri": "https://localhost:8080/",
          "height": 35
        }
      },
      "source": [
        "print(\"hello!!!\")"
      ],
      "execution_count": 0,
      "outputs": [
        {
          "output_type": "stream",
          "text": [
            "hello!!!\n"
          ],
          "name": "stdout"
        }
      ]
    },
    {
      "cell_type": "markdown",
      "metadata": {
        "id": "IRph9-OVVlC6",
        "colab_type": "text"
      },
      "source": [
        "### List of programming languages(ORDERED LIST):\n",
        "1. python\n",
        "2. java\n",
        "3. c\n",
        "4. c++\n",
        "5. .NET"
      ]
    },
    {
      "cell_type": "markdown",
      "metadata": {
        "id": "wCVdm9ipV8zt",
        "colab_type": "text"
      },
      "source": [
        "### List of programming languages(UNORDERED LIST):\n",
        "- python\n",
        "  - core python\n",
        "  - adv python\n",
        "- java\n",
        "- c\n",
        "- c++\n",
        "- .NET\n"
      ]
    },
    {
      "cell_type": "markdown",
      "metadata": {
        "id": "5HOEpy5JUFNx",
        "colab_type": "text"
      },
      "source": [
        "- **Python programming**\n",
        "- *python programming*"
      ]
    },
    {
      "cell_type": "markdown",
      "metadata": {
        "id": "q3a5GYXdX8S8",
        "colab_type": "text"
      },
      "source": [
        " [click here](https://moodle.dspsinstitute.com/my/)\n",
        " "
      ]
    },
    {
      "cell_type": "markdown",
      "metadata": {
        "id": "kow7k4vaZvw9",
        "colab_type": "text"
      },
      "source": [
        "![image](https://i.pinimg.com/736x/7d/f0/7f/7df07f487fa52c55b4fe977926003365.jpg)"
      ]
    },
    {
      "cell_type": "markdown",
      "metadata": {
        "id": "6PJ3iG0LbQ20",
        "colab_type": "text"
      },
      "source": [
        "<img src=\"https://i.pinimg.com/736x/7d/f0/7f/7df07f487fa52c55b4fe977926003365.jpg\" width=200 height=200 >\n"
      ]
    },
    {
      "cell_type": "markdown",
      "metadata": {
        "id": "m8277qAXc8pi",
        "colab_type": "text"
      },
      "source": [
        "# Python\n",
        "1. It is interpreted programming language\n",
        "2. Different paradigms\n",
        "3. open source\n",
        "4. Object oriented programming language\n",
        "5. Dynamically values assigned\n",
        "\n",
        "### Guido Van Rossum"
      ]
    },
    {
      "cell_type": "markdown",
      "metadata": {
        "id": "YM3b-roqetif",
        "colab_type": "text"
      },
      "source": [
        "### Numeric Data types\n",
        "1. int\n",
        "2. float\n",
        "3. complex"
      ]
    },
    {
      "cell_type": "code",
      "metadata": {
        "id": "_ADuMdrcfNYW",
        "colab_type": "code",
        "outputId": "d8c21d3b-d7aa-46af-b27b-0555446aa807",
        "colab": {
          "base_uri": "https://localhost:8080/",
          "height": 35
        }
      },
      "source": [
        "a=10 #integer\n",
        "b=23.34 #float\n",
        "c=12+3j #complex number\n",
        "\n",
        "print(type(a), type(b),type(c))"
      ],
      "execution_count": 0,
      "outputs": [
        {
          "output_type": "stream",
          "text": [
            "<class 'int'> <class 'float'> <class 'complex'>\n"
          ],
          "name": "stdout"
        }
      ]
    },
    {
      "cell_type": "code",
      "metadata": {
        "id": "m_HX8ZC6f9PV",
        "colab_type": "code",
        "outputId": "0fae4025-c48a-47c0-a9d8-4bc44ac4e704",
        "colab": {
          "base_uri": "https://localhost:8080/",
          "height": 87
        }
      },
      "source": [
        "c1 = 4+5j\n",
        "c2 = complex(6,8)\n",
        "print(c2)\n",
        "print(c1+c2)\n",
        "print(c2.real) #real part of the complex number\n",
        "print(c2.imag) #imaginary part of the complex number"
      ],
      "execution_count": 0,
      "outputs": [
        {
          "output_type": "stream",
          "text": [
            "(6+8j)\n",
            "(10+13j)\n",
            "6.0\n",
            "8.0\n"
          ],
          "name": "stdout"
        }
      ]
    },
    {
      "cell_type": "markdown",
      "metadata": {
        "id": "6KPwAdJ6hpa1",
        "colab_type": "text"
      },
      "source": [
        "## input and output functions\n",
        "######input --> input()\n",
        "######output --> print()"
      ]
    },
    {
      "cell_type": "code",
      "metadata": {
        "id": "VlF3SN3hhl1E",
        "colab_type": "code",
        "outputId": "945eed4b-6866-400d-c73b-964b2ed8cf1a",
        "colab": {
          "base_uri": "https://localhost:8080/",
          "height": 104
        }
      },
      "source": [
        "a = int(input(\"Enter the value of a\"))\n",
        "b = int(input(\"Enter value of b\"))\n",
        "print(a+b,end=\" \")\n",
        "print(a-b)\n",
        "print(a*b)\n",
        "print(a/b)"
      ],
      "execution_count": 0,
      "outputs": [
        {
          "output_type": "stream",
          "text": [
            "Enter the value of a21\n",
            "Enter value of b20\n",
            "41 1\n",
            "420\n",
            "1.05\n"
          ],
          "name": "stdout"
        }
      ]
    },
    {
      "cell_type": "code",
      "metadata": {
        "id": "tyCwkX9Ti_09",
        "colab_type": "code",
        "colab": {}
      },
      "source": [
        ""
      ],
      "execution_count": 0,
      "outputs": []
    },
    {
      "cell_type": "code",
      "metadata": {
        "colab_type": "code",
        "outputId": "357a426d-2601-47bb-bb33-b6008860c2a3",
        "id": "VTPu8aMrj4dF",
        "colab": {
          "base_uri": "https://localhost:8080/",
          "height": 69
        }
      },
      "source": [
        "a = int(input(\"Enter the value of a\"))\n",
        "b = int(input(\"Enter value of b\"))\n",
        "\n",
        "print(a+b,end=\" \")\n",
        "print(a-b,a*b,a/b,sep=\",\")"
      ],
      "execution_count": 0,
      "outputs": [
        {
          "output_type": "stream",
          "text": [
            "Enter the value of a20\n",
            "Enter value of b21\n",
            "41 -1,420,0.9523809523809523\n"
          ],
          "name": "stdout"
        }
      ]
    },
    {
      "cell_type": "markdown",
      "metadata": {
        "id": "C2Zh_HXSkO2P",
        "colab_type": "text"
      },
      "source": [
        "- **Operators** : \n",
        "Symbol which performs some specific task\n",
        "- **Operands** : \n",
        "values given to operator are known as operands"
      ]
    },
    {
      "cell_type": "markdown",
      "metadata": {
        "id": "xRwECvcuksGi",
        "colab_type": "text"
      },
      "source": [
        "##Arithmetic operators\n",
        "##### +\n",
        "##### -\n",
        "##### *\n",
        "##### /\n",
        "##### %\n",
        "##### //(floor division)\n",
        "##### **(exponent)"
      ]
    },
    {
      "cell_type": "code",
      "metadata": {
        "id": "cV1daRYWlRml",
        "colab_type": "code",
        "outputId": "8605bce0-27a8-4c06-a0b9-432ab2a5afe2",
        "colab": {
          "base_uri": "https://localhost:8080/",
          "height": 173
        }
      },
      "source": [
        "a = int(input(\"enter a value\"))\n",
        "b = int(input(\"enter b value\"))\n",
        "print(a+b)\n",
        "print(a-b)\n",
        "print(a*b)\n",
        "print(a/b)#float quotient\n",
        "print(a%b)#Remainder\n",
        "print(a//b)#int quotient\n",
        "print(a**b)# a^b"
      ],
      "execution_count": 0,
      "outputs": [
        {
          "output_type": "stream",
          "text": [
            "enter a value2\n",
            "enter b value5\n",
            "7\n",
            "-3\n",
            "10\n",
            "0.4\n",
            "2\n",
            "0\n",
            "32\n"
          ],
          "name": "stdout"
        }
      ]
    },
    {
      "cell_type": "markdown",
      "metadata": {
        "id": "myEPrnzumkFA",
        "colab_type": "text"
      },
      "source": [
        "## Relational operators:\n",
        "##### < , > , <= , => , == , !="
      ]
    },
    {
      "cell_type": "code",
      "metadata": {
        "id": "JwKXevf-m18B",
        "colab_type": "code",
        "outputId": "cb7a2e56-7f68-4cdd-8982-98cfed2469c2",
        "colab": {
          "base_uri": "https://localhost:8080/",
          "height": 156
        }
      },
      "source": [
        "a = int(input(\"enter a value\"))\n",
        "b = int(input(\"enter b value\"))\n",
        "print(a>b)\n",
        "print(a<b)\n",
        "print(a==b)\n",
        "print(a!=b)\n",
        "print(a>=b)\n",
        "print(a<=b)"
      ],
      "execution_count": 0,
      "outputs": [
        {
          "output_type": "stream",
          "text": [
            "enter a value234\n",
            "enter b value123\n",
            "True\n",
            "False\n",
            "False\n",
            "True\n",
            "True\n",
            "False\n"
          ],
          "name": "stdout"
        }
      ]
    },
    {
      "cell_type": "markdown",
      "metadata": {
        "id": "Vq9usLJaouLr",
        "colab_type": "text"
      },
      "source": [
        "## logical operators :\n",
        "  and , or , not\n",
        "  --> return type - Boolean"
      ]
    },
    {
      "cell_type": "code",
      "metadata": {
        "id": "3RrnzlqOnoej",
        "colab_type": "code",
        "outputId": "7ef6ac7f-9415-41ab-f4d4-a953344b1e95",
        "colab": {
          "base_uri": "https://localhost:8080/",
          "height": 260
        }
      },
      "source": [
        "print(help(\"keywords\"))"
      ],
      "execution_count": 0,
      "outputs": [
        {
          "output_type": "stream",
          "text": [
            "\n",
            "Here is a list of the Python keywords.  Enter any keyword to get more help.\n",
            "\n",
            "False               def                 if                  raise\n",
            "None                del                 import              return\n",
            "True                elif                in                  try\n",
            "and                 else                is                  while\n",
            "as                  except              lambda              with\n",
            "assert              finally             nonlocal            yield\n",
            "break               for                 not                 \n",
            "class               from                or                  \n",
            "continue            global              pass                \n",
            "\n",
            "None\n"
          ],
          "name": "stdout"
        }
      ]
    },
    {
      "cell_type": "code",
      "metadata": {
        "id": "Epui_LoqpBiB",
        "colab_type": "code",
        "outputId": "8b6366b7-1ed0-4ee8-c542-ad04a9d30204",
        "colab": {
          "base_uri": "https://localhost:8080/",
          "height": 69
        }
      },
      "source": [
        "print(a<b and a>1)\n",
        "print(a<b or a>1)\n",
        "print(not a<b)"
      ],
      "execution_count": 0,
      "outputs": [
        {
          "output_type": "stream",
          "text": [
            "False\n",
            "True\n",
            "True\n"
          ],
          "name": "stdout"
        }
      ]
    },
    {
      "cell_type": "markdown",
      "metadata": {
        "id": "9p4hTJlyppgG",
        "colab_type": "text"
      },
      "source": [
        "##Membership operators\n",
        "\n",
        "in , not in"
      ]
    },
    {
      "cell_type": "code",
      "metadata": {
        "id": "bz4WFRCTpyO8",
        "colab_type": "code",
        "outputId": "8f345dba-964c-4f02-8709-95168cba97d5",
        "colab": {
          "base_uri": "https://localhost:8080/",
          "height": 87
        }
      },
      "source": [
        "list1 = [12,23,34,45,56,67]\n",
        "print(12 in list1)\n",
        "print(12 not in list1)\n",
        "print(120 in list1)\n",
        "print(120 not in list1)"
      ],
      "execution_count": 0,
      "outputs": [
        {
          "output_type": "stream",
          "text": [
            "True\n",
            "False\n",
            "False\n",
            "True\n"
          ],
          "name": "stdout"
        }
      ]
    },
    {
      "cell_type": "markdown",
      "metadata": {
        "id": "1KGbzWYDq3sN",
        "colab_type": "text"
      },
      "source": [
        "##Conditional statements\n",
        "\n",
        "if , else , elif"
      ]
    },
    {
      "cell_type": "code",
      "metadata": {
        "id": "zJok28GoqWpE",
        "colab_type": "code",
        "outputId": "f433f7ad-4b4d-4ea8-b730-34ba79f17706",
        "colab": {
          "base_uri": "https://localhost:8080/",
          "height": 35
        }
      },
      "source": [
        "if a<b:\n",
        "  print(\"a is less than b\")\n",
        "elif a>b:\n",
        "  print(\"a is greater than b\")\n",
        "else:\n",
        "  print(\"a is equals to b\")"
      ],
      "execution_count": 0,
      "outputs": [
        {
          "output_type": "stream",
          "text": [
            "a is greater than b\n"
          ],
          "name": "stdout"
        }
      ]
    },
    {
      "cell_type": "code",
      "metadata": {
        "id": "-3O468Optm6t",
        "colab_type": "code",
        "outputId": "6869c75a-a6d1-4d01-a4fd-bf13cbc363fd",
        "colab": {
          "base_uri": "https://localhost:8080/",
          "height": 87
        }
      },
      "source": [
        "#Question : Find the largest of three numbers\n",
        "a=int(input(\"enter a value\"))\n",
        "b=int(input(\"enter b value\"))\n",
        "c=int(input(\"enter c value\"))\n",
        "if (a>b and a>c):\n",
        "  print(\"a is largest:\",a)\n",
        "elif  b>c:\n",
        "  print(\"b is largest:\",b)\n",
        "else:\n",
        "  print(\"c is largest:\",c) "
      ],
      "execution_count": 0,
      "outputs": [
        {
          "output_type": "stream",
          "text": [
            "enter a value12\n",
            "enter b value13\n",
            "enter c value14\n",
            "c is largest: 14\n"
          ],
          "name": "stdout"
        }
      ]
    },
    {
      "cell_type": "markdown",
      "metadata": {
        "id": "m0zQAkt_vqlt",
        "colab_type": "text"
      },
      "source": [
        "##Loops\n",
        "\n",
        "while , for"
      ]
    },
    {
      "cell_type": "code",
      "metadata": {
        "id": "3ZU-QWiZvJcz",
        "colab_type": "code",
        "outputId": "4bdafe46-85ed-4231-9ff1-6b6fdf6c17c9",
        "colab": {
          "base_uri": "https://localhost:8080/",
          "height": 208
        }
      },
      "source": [
        "#print 1 to n values\n",
        "n= int(input(\"enter n value\"))\n",
        "i=1\n",
        "while i<=n:\n",
        "  print(i)\n",
        "  i+=1 #i=i+1"
      ],
      "execution_count": 0,
      "outputs": [
        {
          "output_type": "stream",
          "text": [
            "enter n value10\n",
            "1\n",
            "2\n",
            "3\n",
            "4\n",
            "5\n",
            "6\n",
            "7\n",
            "8\n",
            "9\n",
            "10\n"
          ],
          "name": "stdout"
        }
      ]
    },
    {
      "cell_type": "code",
      "metadata": {
        "colab_type": "code",
        "outputId": "b95a1c48-cdc0-4e56-eb32-13f1c8b33f84",
        "id": "euso2sGgwRuF",
        "colab": {
          "base_uri": "https://localhost:8080/",
          "height": 52
        }
      },
      "source": [
        "#print 1 to n values\n",
        "n= int(input(\"enter n value\"))\n",
        "i=1\n",
        "while i<=n:\n",
        "  print(i,end=\" \")\n",
        "  i+=1 #i=i+1"
      ],
      "execution_count": 0,
      "outputs": [
        {
          "output_type": "stream",
          "text": [
            "enter n value10\n",
            "1 2 3 4 5 6 7 8 9 10 "
          ],
          "name": "stdout"
        }
      ]
    },
    {
      "cell_type": "code",
      "metadata": {
        "id": "LRUssJEPwaps",
        "colab_type": "code",
        "colab": {}
      },
      "source": [
        "#print sum of n values\n"
      ],
      "execution_count": 0,
      "outputs": []
    }
  ]
}