{
  "nbformat": 4,
  "nbformat_minor": 0,
  "metadata": {
    "colab": {
      "name": "Assignment (23-06-2020)",
      "provenance": [],
      "authorship_tag": "ABX9TyNIddRJ78DNnaxMhb0KjQr7",
      "include_colab_link": true
    },
    "kernelspec": {
      "name": "python3",
      "display_name": "Python 3"
    }
  },
  "cells": [
    {
      "cell_type": "markdown",
      "metadata": {
        "id": "view-in-github",
        "colab_type": "text"
      },
      "source": [
        "<a href=\"https://colab.research.google.com/github/PADMASREE1999/AP/blob/master/Assignment_(23_06_2020).ipynb\" target=\"_parent\"><img src=\"https://colab.research.google.com/assets/colab-badge.svg\" alt=\"Open In Colab\"/></a>"
      ]
    },
    {
      "cell_type": "markdown",
      "metadata": {
        "id": "3OPQ29mAaChV",
        "colab_type": "text"
      },
      "source": [
        "##CSE - 221710307059 - Tummala Sai Padmasree"
      ]
    },
    {
      "cell_type": "markdown",
      "metadata": {
        "id": "zG15ElsxaHBv",
        "colab_type": "text"
      },
      "source": [
        "###Question 2:\n",
        "Write a C program to delete the middle of linked list.\n",
        "\n",
        "Test Data : 1 2 3 4 5\n",
        "\n",
        "Expected Output : 1 2 4 5"
      ]
    },
    {
      "cell_type": "code",
      "metadata": {
        "id": "vmyYuC7SZ0DS",
        "colab_type": "code",
        "colab": {}
      },
      "source": [
        "#include<stdlib.h>\n",
        "#include<conio.h>\n",
        "struct node{\n",
        "    int data;\n",
        "    struct node *next;\n",
        "}*s,*l,*c,*p;\n",
        "//s - start, l - last, c - current, p - previous\n",
        "void insertnode();\n",
        "void deletenode(int n);\n",
        "void display();\n",
        "int main()\n",
        "{\n",
        "    int x,count=0;\n",
        "    s=l=c=p=NULL;\n",
        "    while(1)\n",
        "    {\n",
        "        system(\"cls\");//clrscr()\n",
        "        printf(\"\\n Single Linked List \");\n",
        "        printf(\"\\n 1. Insert \");\n",
        "        printf(\"\\n 2. Delete \");\n",
        "        printf(\"\\n 3. Display \");\n",
        "        printf(\"\\n 4. Exit\");\n",
        "        printf(\"\\n Enter Your Choice: \");\n",
        "        scanf(\"%d\",&x);\n",
        "        switch(x)\n",
        "        {\n",
        "            case 1:insertnode();\n",
        "            count++;\n",
        "            break;\n",
        "            case 2:deletenode(count);\n",
        "            count--;\n",
        "            break;\n",
        "            case 3:display();\n",
        "            break;\n",
        "            case 4:printf(\"\\n Program is terminating...\");\n",
        "            return 0;\n",
        "            break;\n",
        "\n",
        "        }\n",
        "    }\n",
        "    return 0;\n",
        "}\n",
        "void insertnode()\n",
        "{\n",
        "    struct node *nn;\n",
        "    nn=(struct node *)malloc(sizeof(struct node));\n",
        "    printf(\"\\n Enter the value : \");\n",
        "    scanf(\"%d\",&nn->data);\n",
        "    nn->next=NULL;\n",
        "    if(s==NULL)\n",
        "    {\n",
        "        s=l=nn;\n",
        "    }\n",
        "    else\n",
        "    {\n",
        "        l->next=nn;\n",
        "        l=nn;\n",
        "    }\n",
        "    printf(\"\\n Node is inserted at end\");\n",
        "    getch();\n",
        "}\n",
        "void deletenode(int n)\n",
        "{\n",
        "    int i;\n",
        "    if(s==NULL)\n",
        "    {\n",
        "        printf(\"There are no nodes in the list\");\n",
        "    }\n",
        "    else\n",
        "    {\n",
        "        c=s;\n",
        "        p=s;\n",
        "        for(i=1;i<=n/2;i++)\n",
        "        {\n",
        "            p=c;\n",
        "            c=c->next;\n",
        "            if(c==NULL)\n",
        "                break;\n",
        "\n",
        "        }\n",
        "        if(c!=NULL)\n",
        "        {\n",
        "            if(c==s)\n",
        "                s=s->next;\n",
        "            p->next = c->next;\n",
        "            c->next=NULL;\n",
        "            c=NULL;\n",
        "        }\n",
        "    }\n",
        "}\n",
        "void display()\n",
        "{\n",
        "    if(s==NULL)\n",
        "    {\n",
        "        printf(\"\\n Single Linked List is empty\");\n",
        "        getch();\n",
        "    }\n",
        "    else\n",
        "    {\n",
        "        printf(\"\\n nodes in listed list is : \\n\");\n",
        "        for(c=s;c!=NULL;c=c->next)\n",
        "        {\n",
        "            printf(\"%d \",c->data);\n",
        "            //printf(\"%d %u\\n\",C->Data,C->Next);\n",
        "\n",
        "        }\n",
        "        getch();\n",
        "    }\n",
        "\n",
        "}\n"
      ],
      "execution_count": null,
      "outputs": []
    }
  ]
}