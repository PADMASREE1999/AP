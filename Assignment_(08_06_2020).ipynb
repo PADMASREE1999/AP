{
  "nbformat": 4,
  "nbformat_minor": 0,
  "metadata": {
    "colab": {
      "name": "Assignment (08-06-2020)",
      "provenance": [],
      "authorship_tag": "ABX9TyPOkD10XFx+h/brljDQW8XS",
      "include_colab_link": true
    },
    "kernelspec": {
      "name": "python3",
      "display_name": "Python 3"
    }
  },
  "cells": [
    {
      "cell_type": "markdown",
      "metadata": {
        "id": "view-in-github",
        "colab_type": "text"
      },
      "source": [
        "<a href=\"https://colab.research.google.com/github/PADMASREE1999/AP/blob/master/Assignment_(08_06_2020).ipynb\" target=\"_parent\"><img src=\"https://colab.research.google.com/assets/colab-badge.svg\" alt=\"Open In Colab\"/></a>"
      ]
    },
    {
      "cell_type": "markdown",
      "metadata": {
        "id": "UVjkXiOLPuzF",
        "colab_type": "text"
      },
      "source": [
        "##CSE - 221710307059 - Tummala Sai Padmasree"
      ]
    },
    {
      "cell_type": "markdown",
      "metadata": {
        "id": "DE6AZ_zoP1XN",
        "colab_type": "text"
      },
      "source": [
        "###Question 1:\n",
        "1)WAP to check sum of even index elements of an array is a prime num or not\n",
        "\n",
        "10,23,45,22,65,87,33"
      ]
    },
    {
      "cell_type": "code",
      "metadata": {
        "id": "cs-Ri3LyPp3S",
        "colab_type": "code",
        "colab": {}
      },
      "source": [
        "#include<stdio.h>\n",
        "int isprime(int a)\n",
        "{\n",
        "    if(a==1)\n",
        "    {\n",
        "        return 0;\n",
        "    }\n",
        "    for(int i=2;i<=a/2;i++)\n",
        "    {\n",
        "        if(a%i==0)\n",
        "            return 0;\n",
        "    }\n",
        "    return 1;\n",
        "}\n",
        "int main()\n",
        "{\n",
        "    int a[100],n,i,sum=0,res;\n",
        "    scanf(\"%d\",&n);\n",
        "    for(i=0;i<n;i++)\n",
        "    {\n",
        "        scanf(\"%d\",&a[i]);\n",
        "    }\n",
        "\n",
        "    for(i=0;i<n;i++)\n",
        "    {\n",
        "        if(i%2==0)\n",
        "        {\n",
        "            sum=sum+a[i];\n",
        "        }\n",
        "    }\n",
        "    res=isprime(sum);\n",
        "    if(res==1)\n",
        "    {\n",
        "        printf(\"sum of even index elements is a prime number\");\n",
        "\n",
        "    }\n",
        "    else\n",
        "    {\n",
        "        printf(\"sum of even index elements is not prime\");\n",
        "    }\n",
        "    return 0;\n",
        "}\n"
      ],
      "execution_count": 0,
      "outputs": []
    },
    {
      "cell_type": "markdown",
      "metadata": {
        "id": "vg4FbE_STZ1i",
        "colab_type": "text"
      },
      "source": [
        "###Question 2:\n",
        "2)Accept a num               \n",
        "12345678                 \n",
        "Find sum of digits at even places and check whether the sum is prime or not      \n",
        "7+5+3+1=16"
      ]
    },
    {
      "cell_type": "code",
      "metadata": {
        "id": "dWaUL17sTkc5",
        "colab_type": "code",
        "colab": {}
      },
      "source": [
        "#include<stdio.h>\n",
        "int isprime(int a)\n",
        "{\n",
        "    if(a==1)\n",
        "    {\n",
        "        return 0;\n",
        "    }\n",
        "    for(int i=2;i<=a/2;i++)\n",
        "    {\n",
        "        if(a%i==0)\n",
        "            return 0;\n",
        "    }\n",
        "    return 1;\n",
        "}\n",
        "int main()\n",
        "{\n",
        "    int n=12345678;\n",
        "    int r,count=0,sum=0,res;\n",
        "    while(n!=0)\n",
        "    {\n",
        "        r=n%10;\n",
        "        count++;\n",
        "        n=n/10;\n",
        "        if(count%2==0)\n",
        "        {\n",
        "            sum=sum+r;\n",
        "        }\n",
        "    }\n",
        "    \n",
        "     res=isprime(sum);\n",
        "    if(res==1)\n",
        "    {\n",
        "        printf(\"sum of even index elements is a prime number\");\n",
        "\n",
        "    }\n",
        "    else\n",
        "    {\n",
        "        printf(\"sum of even index elements is not prime\");\n",
        "    }\n",
        "    return 0;\n",
        "}\n"
      ],
      "execution_count": 0,
      "outputs": []
    }
  ]
}