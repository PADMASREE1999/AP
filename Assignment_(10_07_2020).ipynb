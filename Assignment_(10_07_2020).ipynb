{
  "nbformat": 4,
  "nbformat_minor": 0,
  "metadata": {
    "colab": {
      "name": "Assignment (10-07-2020)",
      "provenance": [],
      "authorship_tag": "ABX9TyOqVqeAeZmRymjbHOWXT99w",
      "include_colab_link": true
    },
    "kernelspec": {
      "name": "python3",
      "display_name": "Python 3"
    }
  },
  "cells": [
    {
      "cell_type": "markdown",
      "metadata": {
        "id": "view-in-github",
        "colab_type": "text"
      },
      "source": [
        "<a href=\"https://colab.research.google.com/github/PADMASREE1999/AP/blob/master/Assignment_(10_07_2020).ipynb\" target=\"_parent\"><img src=\"https://colab.research.google.com/assets/colab-badge.svg\" alt=\"Open In Colab\"/></a>"
      ]
    },
    {
      "cell_type": "markdown",
      "metadata": {
        "id": "4mhHrATI3yVv",
        "colab_type": "text"
      },
      "source": [
        "##CSE - 221710307059 - Tummala Sai Padmasree"
      ]
    },
    {
      "cell_type": "markdown",
      "metadata": {
        "id": "N8ohSo3Q32r5",
        "colab_type": "text"
      },
      "source": [
        "###Question 1:\n",
        " Write a program in c++ to find the area of any triangle using Heron's formula \n",
        "\n",
        "Test data :                   \n",
        "length of 1st side : 5              \n",
        "length of 2nd side  : 6               \n",
        "length of 3rd side :  7         \n",
        "Expected Output:                    \n",
        "area of traingle is  : 14.6969                   "
      ]
    },
    {
      "cell_type": "code",
      "metadata": {
        "id": "BHkStFmI3szS",
        "colab_type": "code",
        "colab": {}
      },
      "source": [
        "#include<iostream>\n",
        "#include<math.h>\n",
        "using namespace std;\n",
        "int main()\n",
        "{\n",
        "    float a,b,c,area,s;\n",
        "    cout<<\"Length of 1st side: \";\n",
        "    cin>>a;\n",
        "    cout<<\"Length of 2nd side: \";\n",
        "    cin>>b;\n",
        "    cout<<\"Length of 3nd side: \";\n",
        "    cin>>c;\n",
        "    s=(a+b+c)/2;\n",
        "    area= sqrt(s*(s-a)*(s-b)*(s-c));\n",
        "    cout<<\"The area of the traingle is : \"<<area;\n",
        "    return 0;\n",
        "}\n"
      ],
      "execution_count": null,
      "outputs": []
    },
    {
      "cell_type": "markdown",
      "metadata": {
        "id": "QzFLp1t95r6X",
        "colab_type": "text"
      },
      "source": [
        "###Question 2:\n",
        "Write a program in C to merge two files and write it in a new file. \n",
        "                                                                                                  \n",
        "Test Data :                         \n",
        "Input the 1st file name : test.txt         \n",
        "Input the 2nd file name : test1.txt               \n",
        "Input the new file name where to merge the above two files : mergefiles.txt                      \n",
        "Expected Output :                                  \n",
        "The two files merged into mergefiles.txt file successfully..!! "
      ]
    },
    {
      "cell_type": "code",
      "metadata": {
        "id": "zcaUs_wM6Nx4",
        "colab_type": "code",
        "colab": {}
      },
      "source": [
        "#include<stdio.h>\n",
        "#include<stdlib.h>\n",
        "int main()\n",
        "{\n",
        "    FILE *f1,*f2,*f3;\n",
        "    char ch,fname1[20],fname2[20],fname3[40];\n",
        "    printf(\"Input the 1st file name : \");\n",
        "    scanf(\"%s\",fname1);\n",
        "    printf(\"Input the 2nd file name : \");\n",
        "    scanf(\"%s\",fname2);\n",
        "    printf(\"Input the new file name where to merge the two files : \");\n",
        "    scanf(\"%s\",fname3);\n",
        "    f1=fopen(fname1,\"r\");\n",
        "    f2=fopen(fname2,\"r\");\n",
        "    if(f1==NULL || f2==NULL)\n",
        "    {\n",
        "        exit(EXIT_FAILURE);\n",
        "    }\n",
        "    f3=fopen(fname3,\"w\");\n",
        "    if(f3==NULL)\n",
        "    {\n",
        "        exit(EXIT_FAILURE);\n",
        "    }\n",
        "    while((ch=fgetc(f1))!=EOF)\n",
        "    {\n",
        "        fputc(ch,f3);\n",
        "    }\n",
        "    while((ch=fgetc(f2))!=EOF)\n",
        "    {\n",
        "        fputc(ch,f3);\n",
        "    }\n",
        "    printf(\"The two files merged into %s file successfully..\");\n",
        "    fclose(f1);\n",
        "    fclose(f2);\n",
        "    fclose(f3);\n",
        "}\n"
      ],
      "execution_count": null,
      "outputs": []
    }
  ]
}