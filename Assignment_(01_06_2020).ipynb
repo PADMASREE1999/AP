{
  "nbformat": 4,
  "nbformat_minor": 0,
  "metadata": {
    "colab": {
      "name": "Assignment (01-06-2020)",
      "provenance": [],
      "authorship_tag": "ABX9TyM4AhuShW8Rs5nRg3reFFwt",
      "include_colab_link": true
    },
    "kernelspec": {
      "name": "python3",
      "display_name": "Python 3"
    }
  },
  "cells": [
    {
      "cell_type": "markdown",
      "metadata": {
        "id": "view-in-github",
        "colab_type": "text"
      },
      "source": [
        "<a href=\"https://colab.research.google.com/github/PADMASREE1999/AP/blob/master/Assignment_(01_06_2020).ipynb\" target=\"_parent\"><img src=\"https://colab.research.google.com/assets/colab-badge.svg\" alt=\"Open In Colab\"/></a>"
      ]
    },
    {
      "cell_type": "code",
      "metadata": {
        "id": "6ZFvnWBm0xKG",
        "colab_type": "code",
        "outputId": "46720821-79b2-4edd-8111-66df9457a0a8",
        "colab": {
          "base_uri": "https://localhost:8080/",
          "height": 503
        }
      },
      "source": [
        "import random\n",
        "import string\n",
        "adj_list=[\"Wandering\",\"Crazy\",\"Curious\",\"Brave\",\"Strange\",\"Lucky\",\"Fair\",\"Tender\",\"Magnificent\",\"Sparkling\"]\n",
        "noun_list=[\"Cat\",\"Bird\",\"Insect\",\"Leader\",\"Male\",\"Female\",\"Theory\",\"System\",\"History\",\"Life\"]\n",
        "while(True):\n",
        "  adjective=str(random.choice(adj_list))\n",
        "  noun=str(random.choice(noun_list))\n",
        "  num=str(random.randint(0,100))\n",
        "  char=str(random.choice(string.punctuation))\n",
        "  print(adjective+noun+num+char)\n",
        "  a=input(\"Generate another password? \\n Yes- Y  \\n No- N\")\n",
        "  if(a==\"Y\"):\n",
        "    continue\n",
        "  else:\n",
        "    break\n",
        "\n",
        "\n"
      ],
      "execution_count": 7,
      "outputs": [
        {
          "output_type": "stream",
          "text": [
            "LuckyHistory43/\n",
            "Generate another password? \n",
            " Yes- Y  \n",
            " No- NY\n",
            "LuckyHistory44\"\n",
            "Generate another password? \n",
            " Yes- Y  \n",
            " No- NY\n",
            "CrazyHistory61,\n",
            "Generate another password? \n",
            " Yes- Y  \n",
            " No- NY\n",
            "FairFemale36!\n",
            "Generate another password? \n",
            " Yes- Y  \n",
            " No- NY\n",
            "CuriousCat92'\n",
            "Generate another password? \n",
            " Yes- Y  \n",
            " No- NY\n",
            "SparklingSystem48#\n",
            "Generate another password? \n",
            " Yes- Y  \n",
            " No- NY\n",
            "TenderInsect93^\n",
            "Generate another password? \n",
            " Yes- Y  \n",
            " No- NN\n"
          ],
          "name": "stdout"
        }
      ]
    }
  ]
}