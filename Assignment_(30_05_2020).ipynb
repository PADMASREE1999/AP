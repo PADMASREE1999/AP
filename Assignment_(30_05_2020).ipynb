{
  "nbformat": 4,
  "nbformat_minor": 0,
  "metadata": {
    "colab": {
      "name": "Assignment (30-05-2020)",
      "provenance": [],
      "authorship_tag": "ABX9TyP8xA0MIIj8EHkuUuyc9koi",
      "include_colab_link": true
    },
    "kernelspec": {
      "name": "python3",
      "display_name": "Python 3"
    }
  },
  "cells": [
    {
      "cell_type": "markdown",
      "metadata": {
        "id": "view-in-github",
        "colab_type": "text"
      },
      "source": [
        "<a href=\"https://colab.research.google.com/github/PADMASREE1999/AP/blob/master/Assignment_(30_05_2020).ipynb\" target=\"_parent\"><img src=\"https://colab.research.google.com/assets/colab-badge.svg\" alt=\"Open In Colab\"/></a>"
      ]
    },
    {
      "cell_type": "markdown",
      "metadata": {
        "id": "zeU_1J060p1N",
        "colab_type": "text"
      },
      "source": [
        "##CSE - 221710307059 - Tummala Sai Padmasree"
      ]
    },
    {
      "cell_type": "markdown",
      "metadata": {
        "id": "Ca2Cy6XSyf5O",
        "colab_type": "text"
      },
      "source": [
        "#####File Creation"
      ]
    },
    {
      "cell_type": "code",
      "metadata": {
        "id": "B70GcrA0yQ2V",
        "colab_type": "code",
        "colab": {}
      },
      "source": [
        "f=open(\"sample.txt\",\"w\")\n",
        "f.write(\"Hi Everyone\")\n",
        "f.close()\n"
      ],
      "execution_count": 0,
      "outputs": []
    },
    {
      "cell_type": "code",
      "metadata": {
        "id": "1Agn505c1HjH",
        "colab_type": "code",
        "colab": {}
      },
      "source": [
        "f=open(\"sample.txt\",\"a\")\n",
        "s='''\\n This is python programming\n",
        "in Advanced Programming'''\n",
        "f.write(s)\n",
        "f.close()\n"
      ],
      "execution_count": 0,
      "outputs": []
    },
    {
      "cell_type": "markdown",
      "metadata": {
        "id": "HJJuEPv24CHJ",
        "colab_type": "text"
      },
      "source": [
        "###Question 1:\n",
        "Count the no.of words,no.of letters,no.of lines available in your file\n"
      ]
    },
    {
      "cell_type": "code",
      "metadata": {
        "id": "v9Wo2c3V2ip_",
        "colab_type": "code",
        "outputId": "d7919941-7cd1-49bb-a83d-80996a496167",
        "colab": {
          "base_uri": "https://localhost:8080/",
          "height": 35
        }
      },
      "source": [
        "f = open(\"sample.txt\", \"r\")\n",
        "\n",
        "numberoflines = 0\n",
        "numberofwords = 0\n",
        "letters = 0\n",
        "for l in f:\n",
        "  l = l.strip(\"\\n\")\n",
        "\n",
        "  words = l.split()\n",
        "  numberoflines += 1\n",
        "  numberofwords += len(words)\n",
        "  letters += len(l)\n",
        "\n",
        "f.close()\n",
        "\n",
        "print(\"lines:\", numberoflines, \"words:\", numberofwords, \"letters:\", letters)"
      ],
      "execution_count": 38,
      "outputs": [
        {
          "output_type": "stream",
          "text": [
            "lines: 3 words: 9 letters: 61\n"
          ],
          "name": "stdout"
        }
      ]
    },
    {
      "cell_type": "markdown",
      "metadata": {
        "id": "wTVi9ag04ZGt",
        "colab_type": "text"
      },
      "source": [
        "###Question 2:\n",
        "Copy the content of one file to another\n"
      ]
    },
    {
      "cell_type": "code",
      "metadata": {
        "id": "sNHE6WGj48wV",
        "colab_type": "code",
        "colab": {}
      },
      "source": [
        "f=open(\"sample.txt\",\"r\")\n",
        "f1=open(\"text.txt\",\"w\")\n",
        "for line in f:\n",
        "  f1.write(line)\n",
        "f.close()\n",
        "f1.close()"
      ],
      "execution_count": 0,
      "outputs": []
    },
    {
      "cell_type": "code",
      "metadata": {
        "id": "PqsnCTKY5Q8h",
        "colab_type": "code",
        "outputId": "ced80b46-22e5-49fb-ffcc-e0179bfa4174",
        "colab": {
          "base_uri": "https://localhost:8080/",
          "height": 69
        }
      },
      "source": [
        "f1=open(\"text.txt\",\"r\")\n",
        "data=f1.read()\n",
        "print(data)\n",
        "f1.close()"
      ],
      "execution_count": 54,
      "outputs": [
        {
          "output_type": "stream",
          "text": [
            "Hi Everyone\n",
            " This is python programming\n",
            "in Advanced Programming\n"
          ],
          "name": "stdout"
        }
      ]
    },
    {
      "cell_type": "markdown",
      "metadata": {
        "id": "uTi_tLWO5-KV",
        "colab_type": "text"
      },
      "source": [
        "###Question 3:\n",
        "Display the words starting with letter 'p'\n"
      ]
    },
    {
      "cell_type": "code",
      "metadata": {
        "id": "VpRIFu9_6EsX",
        "colab_type": "code",
        "outputId": "a0bf0b91-62c1-4247-ae28-95d6ec006890",
        "colab": {
          "base_uri": "https://localhost:8080/",
          "height": 52
        }
      },
      "source": [
        "f=open(\"sample.txt\",\"r\")\n",
        "for line in f:\n",
        "  words=line.split()\n",
        "  for i in words:\n",
        "    if(i[0]==\"p\"):\n",
        "      print(i)\n",
        "  "
      ],
      "execution_count": 47,
      "outputs": [
        {
          "output_type": "stream",
          "text": [
            "python\n",
            "programming\n"
          ],
          "name": "stdout"
        }
      ]
    },
    {
      "cell_type": "markdown",
      "metadata": {
        "id": "j6EkKu3d9o31",
        "colab_type": "text"
      },
      "source": [
        "###Question 4:\n",
        "Rename and remove files\n"
      ]
    },
    {
      "cell_type": "code",
      "metadata": {
        "id": "YZgJIIbAbkMP",
        "colab_type": "code",
        "colab": {}
      },
      "source": [
        "import os\n",
        "os.rename(\"text.txt\",\"new.txt\")\n",
        "os.remove(\"new.txt\")"
      ],
      "execution_count": 0,
      "outputs": []
    },
    {
      "cell_type": "markdown",
      "metadata": {
        "id": "OcHqs2fzfCzF",
        "colab_type": "text"
      },
      "source": [
        "###Question 5:\n",
        "Create a folder             \n",
        "Goto that folder and create 5 no.of files                  \n",
        "All the file names should be unique                        \n",
        "Add some content into the file and the content in all the files should be unique                          \n",
        "File size should be 512bits                       \n",
        "\n"
      ]
    },
    {
      "cell_type": "code",
      "metadata": {
        "id": "0S6iPjPLf4G9",
        "colab_type": "code",
        "colab": {
          "base_uri": "https://localhost:8080/",
          "height": 35
        },
        "outputId": "1891cd89-107f-4465-f4f6-819fb3a0943a"
      },
      "source": [
        "import os\n",
        "path=\"/tmp/ap\"\n",
        "\n",
        "try:\n",
        "  os.mkdir(path)\n",
        "except OSError:\n",
        "  print(\"unsuccessfull \")\n",
        "else:\n",
        "  print(\"Successfully created the directory %s\" %path)"
      ],
      "execution_count": 76,
      "outputs": [
        {
          "output_type": "stream",
          "text": [
            "Successfully created the directory /tmp/ap\n"
          ],
          "name": "stdout"
        }
      ]
    },
    {
      "cell_type": "code",
      "metadata": {
        "id": "To_N5PBTmuCf",
        "colab_type": "code",
        "colab": {}
      },
      "source": [
        "import os\n",
        "path=\"/tmp/ap\"\n",
        "os.chdir(path)"
      ],
      "execution_count": 0,
      "outputs": []
    },
    {
      "cell_type": "code",
      "metadata": {
        "id": "sYVaCx45veqb",
        "colab_type": "code",
        "colab": {}
      },
      "source": [
        "f=open(os.path.join('/tmp/ap','file1.txt'),\"w\")\n",
        "f.write(\"This is the first file in the folder ap(advanced programming)   \")\n",
        "f.close()\n"
      ],
      "execution_count": 0,
      "outputs": []
    },
    {
      "cell_type": "code",
      "metadata": {
        "id": "rNPDjbLpv36r",
        "colab_type": "code",
        "colab": {}
      },
      "source": [
        "f=open(os.path.join('/tmp/ap','file2.txt'),\"w\")\n",
        "f.write(\"This is the second file in the folder ap(advanced programming)  \")\n",
        "f.close() "
      ],
      "execution_count": 0,
      "outputs": []
    },
    {
      "cell_type": "code",
      "metadata": {
        "id": "iybU-WI0v_l_",
        "colab_type": "code",
        "colab": {}
      },
      "source": [
        "f=open(os.path.join('/tmp/ap','file3.txt'),\"w\")\n",
        "f.write(\"This is the third file in the ap(advanced programming) floder   \")\n",
        "f.close()"
      ],
      "execution_count": 0,
      "outputs": []
    },
    {
      "cell_type": "code",
      "metadata": {
        "id": "mLOX5EgWwDmD",
        "colab_type": "code",
        "colab": {}
      },
      "source": [
        "f=open(os.path.join('/tmp/ap','file4.txt'),\"w\")\n",
        "f.write(\"This is the fourth file                                         \")\n",
        "f.close() "
      ],
      "execution_count": 0,
      "outputs": []
    },
    {
      "cell_type": "code",
      "metadata": {
        "id": "46n3uvspwIVw",
        "colab_type": "code",
        "colab": {}
      },
      "source": [
        "f=open(os.path.join('/tmp/ap','file5.txt'),\"w\")\n",
        "f.write(\"This is the fifth file                                          \")\n",
        "f.close()"
      ],
      "execution_count": 0,
      "outputs": []
    },
    {
      "cell_type": "code",
      "metadata": {
        "id": "6xj9DEwJwRLM",
        "colab_type": "code",
        "colab": {
          "base_uri": "https://localhost:8080/",
          "height": 72
        },
        "outputId": "ba0f7b77-86a7-4ecb-c278-775dd20f3949"
      },
      "source": [
        "import os\n",
        "file=\"/tmp/ap/file1.txt\"\n",
        "f_stats=os.stat('file1.txt')\n",
        "print(f_stats)\n",
        "print(f'File size {f_stats.st_size} bytes')"
      ],
      "execution_count": 98,
      "outputs": [
        {
          "output_type": "stream",
          "text": [
            "os.stat_result(st_mode=33188, st_ino=6422620, st_dev=51, st_nlink=1, st_uid=0, st_gid=0, st_size=64, st_atime=1590945609, st_mtime=1590946247, st_ctime=1590946247)\n",
            "File size 64 bytes\n"
          ],
          "name": "stdout"
        }
      ]
    },
    {
      "cell_type": "code",
      "metadata": {
        "id": "MewakwmKzFUr",
        "colab_type": "code",
        "colab": {
          "base_uri": "https://localhost:8080/",
          "height": 72
        },
        "outputId": "817a8501-3ffc-4327-8957-bb3ba89c1d0e"
      },
      "source": [
        "import os\n",
        "file=\"/tmp/ap/file2.txt\"\n",
        "f_stats=os.stat('file2.txt')\n",
        "print(f_stats)\n",
        "print(f'File size {f_stats.st_size} bytes')"
      ],
      "execution_count": 100,
      "outputs": [
        {
          "output_type": "stream",
          "text": [
            "os.stat_result(st_mode=33188, st_ino=6422623, st_dev=51, st_nlink=1, st_uid=0, st_gid=0, st_size=64, st_atime=1590945704, st_mtime=1590946362, st_ctime=1590946362)\n",
            "File size 64 bytes\n"
          ],
          "name": "stdout"
        }
      ]
    },
    {
      "cell_type": "code",
      "metadata": {
        "id": "1Dkf72h9zJ4I",
        "colab_type": "code",
        "colab": {
          "base_uri": "https://localhost:8080/",
          "height": 72
        },
        "outputId": "b11a1be6-a24e-418b-b4c8-5ae4bccd9fcb"
      },
      "source": [
        "import os\n",
        "file=\"/tmp/ap/file3.txt\"\n",
        "f_stats=os.stat('file3.txt')\n",
        "print(f_stats)\n",
        "print(f'File size {f_stats.st_size} bytes')"
      ],
      "execution_count": 108,
      "outputs": [
        {
          "output_type": "stream",
          "text": [
            "os.stat_result(st_mode=33188, st_ino=6422624, st_dev=51, st_nlink=1, st_uid=0, st_gid=0, st_size=64, st_atime=1590945705, st_mtime=1590946668, st_ctime=1590946668)\n",
            "File size 64 bytes\n"
          ],
          "name": "stdout"
        }
      ]
    },
    {
      "cell_type": "code",
      "metadata": {
        "id": "H0XaG28izPNh",
        "colab_type": "code",
        "colab": {
          "base_uri": "https://localhost:8080/",
          "height": 72
        },
        "outputId": "1333aa9c-3cbf-4e2f-c985-14c6773187dc"
      },
      "source": [
        "import os\n",
        "file=\"/tmp/ap/file4.txt\"\n",
        "f_stats=os.stat('file4.txt')\n",
        "print(f_stats)\n",
        "print(f'File size {f_stats.st_size} bytes')\n"
      ],
      "execution_count": 109,
      "outputs": [
        {
          "output_type": "stream",
          "text": [
            "os.stat_result(st_mode=33188, st_ino=6422622, st_dev=51, st_nlink=1, st_uid=0, st_gid=0, st_size=64, st_atime=1590945697, st_mtime=1590946670, st_ctime=1590946670)\n",
            "File size 64 bytes\n"
          ],
          "name": "stdout"
        }
      ]
    },
    {
      "cell_type": "code",
      "metadata": {
        "id": "BZaliBlVzV1c",
        "colab_type": "code",
        "colab": {
          "base_uri": "https://localhost:8080/",
          "height": 72
        },
        "outputId": "646db173-1564-4027-d693-086c170cdf94"
      },
      "source": [
        "import os\n",
        "file=\"/tmp/ap/file5.txt\"\n",
        "f_stats=os.stat('file5.txt')\n",
        "print(f_stats)\n",
        "print(f'File size {f_stats.st_size} bytes')"
      ],
      "execution_count": 110,
      "outputs": [
        {
          "output_type": "stream",
          "text": [
            "os.stat_result(st_mode=33188, st_ino=6422621, st_dev=51, st_nlink=1, st_uid=0, st_gid=0, st_size=64, st_atime=1590945693, st_mtime=1590946672, st_ctime=1590946672)\n",
            "File size 64 bytes\n"
          ],
          "name": "stdout"
        }
      ]
    }
  ]
}