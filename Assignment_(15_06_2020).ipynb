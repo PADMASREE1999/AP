{
  "nbformat": 4,
  "nbformat_minor": 0,
  "metadata": {
    "colab": {
      "name": "Assignment (15-06-2020)",
      "provenance": [],
      "authorship_tag": "ABX9TyPonXzEleYRuUQ447egk5tS",
      "include_colab_link": true
    },
    "kernelspec": {
      "name": "python3",
      "display_name": "Python 3"
    }
  },
  "cells": [
    {
      "cell_type": "markdown",
      "metadata": {
        "id": "view-in-github",
        "colab_type": "text"
      },
      "source": [
        "<a href=\"https://colab.research.google.com/github/PADMASREE1999/AP/blob/master/Assignment_(15_06_2020).ipynb\" target=\"_parent\"><img src=\"https://colab.research.google.com/assets/colab-badge.svg\" alt=\"Open In Colab\"/></a>"
      ]
    },
    {
      "cell_type": "markdown",
      "metadata": {
        "id": "wtrdxUsL0WTA",
        "colab_type": "text"
      },
      "source": [
        "##CSE - 221710307059 - Tummala Sai Padmasree"
      ]
    },
    {
      "cell_type": "markdown",
      "metadata": {
        "id": "ZXteroBu0io_",
        "colab_type": "text"
      },
      "source": [
        "###Question 1:\n",
        "Write a program in C to convert a string to lowercase."
      ]
    },
    {
      "cell_type": "code",
      "metadata": {
        "id": "OskuvEMe0RUt",
        "colab_type": "code",
        "colab": {}
      },
      "source": [
        "#include<stdio.h>\n",
        "#include<string.h>\n",
        "int main()\n",
        "{\n",
        "    char s[100];\n",
        "    scanf(\"%s\",s);\n",
        "    int i,l;\n",
        "    l=strlen(s);\n",
        "    for(i=0;i<l;i++)\n",
        "    {\n",
        "        if(s[i]>=65 && s[i]<=90)\n",
        "        {\n",
        "            s[i]=s[i]+32;\n",
        "        }\n",
        "\n",
        "    }\n",
        "    printf(\"%s\",s);\n",
        "    return 0;\n",
        "}"
      ],
      "execution_count": 0,
      "outputs": []
    },
    {
      "cell_type": "markdown",
      "metadata": {
        "id": "geB_oX0o2344",
        "colab_type": "text"
      },
      "source": [
        "###Question 2:\n",
        "Write a C programming to count of each character in a given string.     \n",
        "TestData: communication                     \n",
        "Expected ouput:                     \n",
        "Enter a string : communication           \n",
        "c          \t2             \n",
        "o          \t2                  \n",
        "m   \t2                 \n",
        "u    \t1            \n",
        "n  \t2            \n",
        "i    \t2              \n",
        "a   \t1           \n",
        "t    \t1                  \n"
      ]
    },
    {
      "cell_type": "code",
      "metadata": {
        "id": "TUq5YCor3FOe",
        "colab_type": "code",
        "colab": {}
      },
      "source": [
        "#include<stdio.h>\n",
        "#include<string.h>\n",
        "int string(char c, char p[],  int x, int y[])\n",
        "{\n",
        "\tint i;\n",
        "\tfor (i=0; i<=x;i++)\n",
        "\t{\n",
        "\t\tif (p[i]==c)\n",
        "\t\t{\n",
        "\t\ty[i]++;\n",
        "\t\treturn (1);\n",
        "\t\t}\n",
        "\t}\n",
        "\tif(i>x) return (0);\n",
        "}\n",
        "int main()\n",
        "{\n",
        "\tchar str1[80],chr[80];\n",
        "\tint n,i,x,ctr[80];\n",
        "\tscanf(\"%s\",str1);\n",
        "\tn=strlen(str1);\n",
        "\tchr[0]=str1[0];\n",
        "\tctr[0]=1;\n",
        "\tx=0;\n",
        "\tfor(i=1;i < n;  i++)\n",
        "\t{\n",
        "\t\tif(!string(str1[i], chr, x, ctr))\n",
        "\t\t{\n",
        "\t\t\tx++;\n",
        "\t\t\tchr[x]=str1[i];\n",
        "\t\t\tctr[x]=1;\n",
        "\t\t}\n",
        "\t}\n",
        "\tfor (i=0;i<=x;i++)\n",
        "\t\tprintf(\"%c\\t%d\\n\",chr[i],ctr[i]);\n",
        "}\n"
      ],
      "execution_count": 0,
      "outputs": []
    },
    {
      "cell_type": "markdown",
      "metadata": {
        "id": "6ZFZsqXG6Sma",
        "colab_type": "text"
      },
      "source": [
        "###Question 3:\n",
        "Write a C programming to convert vowels into upper case character in a given string.            \n",
        "Test Data :           \n",
        "knowledge             \n",
        "Expected Output:                \n",
        "\n",
        "The original string: knowledge                                      \n",
        "\n",
        "After converting vowels into upper case the sentence becomes: knOwlEdgE      \n"
      ]
    },
    {
      "cell_type": "code",
      "metadata": {
        "id": "nEA-k0Xw6epb",
        "colab_type": "code",
        "colab": {}
      },
      "source": [
        "#include<stdio.h>\n",
        "#include<string.h>\n",
        "int main()\n",
        "{\n",
        "    char s[100];\n",
        "    scanf(\"%s\",s);\n",
        "    int l,i;\n",
        "    l=strlen(s);\n",
        "    for(i=0;i<l;i++)\n",
        "    {\n",
        "        if(s[i]>=65 && s[i]<=90)\n",
        "        {\n",
        "            s[i]=s[i]+32;\n",
        "        }\n",
        "        if(s[i]=='a' || s[i]=='e' || s[i]=='i' || s[i]=='o' || s[i]=='u')\n",
        "        {\n",
        "            s[i]=s[i]-32;\n",
        "        }\n",
        "\n",
        "    }\n",
        "    printf(\"%s\",s);\n",
        "    return 0;\n",
        "}\n"
      ],
      "execution_count": 0,
      "outputs": []
    }
  ]
}