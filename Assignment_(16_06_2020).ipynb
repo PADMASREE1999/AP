{
  "nbformat": 4,
  "nbformat_minor": 0,
  "metadata": {
    "colab": {
      "name": "Assignment (16-06-2020)",
      "provenance": [],
      "authorship_tag": "ABX9TyNZXBDnASet5drIgiqVqXqw",
      "include_colab_link": true
    },
    "kernelspec": {
      "name": "python3",
      "display_name": "Python 3"
    }
  },
  "cells": [
    {
      "cell_type": "markdown",
      "metadata": {
        "id": "view-in-github",
        "colab_type": "text"
      },
      "source": [
        "<a href=\"https://colab.research.google.com/github/PADMASREE1999/AP/blob/master/Assignment_(16_06_2020).ipynb\" target=\"_parent\"><img src=\"https://colab.research.google.com/assets/colab-badge.svg\" alt=\"Open In Colab\"/></a>"
      ]
    },
    {
      "cell_type": "markdown",
      "metadata": {
        "id": "G4tDTwH7JcmX",
        "colab_type": "text"
      },
      "source": [
        "##CSE - 221710307059 - Tummala Sai Padmasree"
      ]
    },
    {
      "cell_type": "markdown",
      "metadata": {
        "id": "Jp4xDKAMJa6x",
        "colab_type": "text"
      },
      "source": [
        "###Question 1:\n",
        "Write a program in C to check a given number is even or odd using the function."
      ]
    },
    {
      "cell_type": "code",
      "metadata": {
        "id": "ZxbJi85QJTP3",
        "colab_type": "code",
        "colab": {}
      },
      "source": [
        "#include<stdio.h>\n",
        "int even_odd(int a)\n",
        "{\n",
        "    if(a%2==0)\n",
        "    {\n",
        "        return 1;\n",
        "    }\n",
        "    return 0;\n",
        "}\n",
        "int main()\n",
        "{\n",
        "    int a;\n",
        "    scanf(\"%d\",&a);\n",
        "    if(even_odd(a))\n",
        "    {\n",
        "        printf(\"%d is a even number\",a);\n",
        "    }\n",
        "    else\n",
        "    {\n",
        "        printf(\"%d is an odd number\",a);\n",
        "    }\n",
        "    return 0;\n",
        "}"
      ],
      "execution_count": null,
      "outputs": []
    },
    {
      "cell_type": "markdown",
      "metadata": {
        "id": "cexl2oZiQobO",
        "colab_type": "text"
      },
      "source": [
        "###Question 2:\n",
        " Write a program in C to Calculate the length of the string using a pointer.               \n",
        "Test Data :                       \n",
        "Input a string : programming            \n",
        "Expected Output :                                  \n",
        "The length of the given string w3resource is : 11          "
      ]
    },
    {
      "cell_type": "code",
      "metadata": {
        "id": "OFrtSvA3RJeo",
        "colab_type": "code",
        "colab": {}
      },
      "source": [
        "#include<stdio.h>\n",
        "#include<string.h>\n",
        "int length(char* ch)\n",
        "{\n",
        "    int count=0;\n",
        "    while(*ch!='\\0')\n",
        "    {\n",
        "        count++;\n",
        "        ch++;\n",
        "    }\n",
        "    return count;\n",
        "}\n",
        "int main()\n",
        "{\n",
        "    char str[100];\n",
        "    scanf(\"%s\",str);\n",
        "    int l;\n",
        "    l=length(str);\n",
        "    printf(\"The length of the given string %s is : %d\",str,l);\n",
        "    return 0;\n",
        "}\n"
      ],
      "execution_count": null,
      "outputs": []
    },
    {
      "cell_type": "markdown",
      "metadata": {
        "id": "Y3U7Lzw0TIcz",
        "colab_type": "text"
      },
      "source": [
        "###Question 3:\n",
        " Write a program in C to swap elements using call by reference.    \n",
        "Test Data :                          \n",
        "Input the value of 1st element : 5         \n",
        "Input the value of 2nd element : 6              \n",
        "Input the value of 3rd element : 7              \n",
        "\n",
        "Expected Output :\n",
        "The value before swapping are :                                                                              \n",
        "element 1 = 5                                                                                                \n",
        "element 2 = 6                                                                                                \n",
        "element 3 = 7                                                                                \n",
        "The value after swapping are :                                                                               \n",
        "element 1 = 7                                                                                                \n",
        "element 2 = 5                                                                                                \n",
        "element 3 = 6 "
      ]
    },
    {
      "cell_type": "code",
      "metadata": {
        "id": "VEl3YtWdT6nc",
        "colab_type": "code",
        "colab": {}
      },
      "source": [
        "#include<stdio.h>\n",
        "int swap(int *a,int *b,int *c)\n",
        "{\n",
        "    int temp;\n",
        "    temp=*c;\n",
        "    *c=*b;\n",
        "    *b=*a;\n",
        "    *a=temp;\n",
        "\n",
        "}\n",
        "int main()\n",
        "{\n",
        "    int a,b,c;\n",
        "    scanf(\"%d%d%d\",&a,&b,&c);\n",
        "    printf(\"The values before swapping are: \\n\");\n",
        "    printf(\"element 1 = %d \\nelement 2 = %d \\nelement 3 = %d \\n\",a,b,c);\n",
        "    swap(&a,&b,&c);\n",
        "    printf(\"\\nThe value after swapping are :\\n\");\n",
        "    printf(\"element 1 = %d \\nelement 2 = %d \\nelement 3 = %d \\n\",a,b,c);\n",
        "    return 0;\n",
        "}"
      ],
      "execution_count": null,
      "outputs": []
    }
  ]
}