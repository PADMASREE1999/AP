{
  "nbformat": 4,
  "nbformat_minor": 0,
  "metadata": {
    "colab": {
      "name": "Assignment (12-06-2020)",
      "provenance": [],
      "authorship_tag": "ABX9TyMGiqHp5Nbnthm4OZK9qOQ8",
      "include_colab_link": true
    },
    "kernelspec": {
      "name": "python3",
      "display_name": "Python 3"
    }
  },
  "cells": [
    {
      "cell_type": "markdown",
      "metadata": {
        "id": "view-in-github",
        "colab_type": "text"
      },
      "source": [
        "<a href=\"https://colab.research.google.com/github/PADMASREE1999/AP/blob/master/Assignment_(12_06_2020).ipynb\" target=\"_parent\"><img src=\"https://colab.research.google.com/assets/colab-badge.svg\" alt=\"Open In Colab\"/></a>"
      ]
    },
    {
      "cell_type": "markdown",
      "metadata": {
        "id": "v2EVnwr7is-I",
        "colab_type": "text"
      },
      "source": [
        "##CSE - 221710307059 - Tummala Sai Padmasree"
      ]
    },
    {
      "cell_type": "markdown",
      "metadata": {
        "id": "p0ZuyM20i3iG",
        "colab_type": "text"
      },
      "source": [
        "###Question 1:\n",
        "1. Write a c program for addition of two matrices of same size ."
      ]
    },
    {
      "cell_type": "code",
      "metadata": {
        "id": "h8GaXuUqi2Mq",
        "colab_type": "code",
        "colab": {}
      },
      "source": [
        "#include<stdio.h>\n",
        "int main()\n",
        "{\n",
        "    int a[10][10],b[10][10],i,j,n,m;\n",
        "    scanf(\"%d%d\",&n,&m);\n",
        "    for(i=0;i<n;i++)\n",
        "    {\n",
        "        for(j=0;j<m;j++)\n",
        "        {\n",
        "            scanf(\"%d\",&a[i][j]);\n",
        "        }\n",
        "    }\n",
        "    for(i=0;i<n;i++)\n",
        "    {\n",
        "        for(j=0;j<m;j++)\n",
        "        {\n",
        "            scanf(\"%d\",&b[i][j]);\n",
        "        }\n",
        "    }\n",
        "    for(i=0;i<n;i++)\n",
        "    {\n",
        "        for(j=0;j<m;j++)\n",
        "        {\n",
        "            printf(\"%d \",a[i][j]+b[i][j]);\n",
        "        }\n",
        "        printf(\"\\n\");\n",
        "    }\n",
        "    return 0;\n",
        "\n",
        "}\n"
      ],
      "execution_count": 0,
      "outputs": []
    },
    {
      "cell_type": "markdown",
      "metadata": {
        "id": "hx-Vywo9i_WQ",
        "colab_type": "text"
      },
      "source": [
        "###Question 2:\n",
        "2.Write a program in C to accept two matrices and check whether they are equal. \n",
        "```\n",
        "Test Data :\n",
        "Input Rows and Columns of the 1st matrix :2 2\n",
        "Input Rows and Columns of the 2nd matrix :2 2\n",
        "Input elements in the first matrix :\n",
        "element - [0],[0] : 1\n",
        "element - [0],[1] : 2\n",
        "element - [1],[0] : 3\n",
        "element - [1],[1] : 4\n",
        "Input elements in the second matrix :\n",
        "element - [0],[0] : 1\n",
        "element - [0],[1] : 2\n",
        "element - [1],[0] : 3\n",
        "element - [1],[1] : 4\n",
        "Expected Output :\n",
        "The first matrix is :\n",
        "1 2\n",
        "3 4\n",
        "The second matrix is :\n",
        "1 2\n",
        "34\n",
        "given matrices are equal\n",
        "```"
      ]
    },
    {
      "cell_type": "code",
      "metadata": {
        "id": "LB86Wzj1imgN",
        "colab_type": "code",
        "colab": {}
      },
      "source": [
        "#include<stdio.h>\n",
        "int isequal(int a[10][10],int b[10][10],int n,int m)\n",
        "{\n",
        "    for(int i=0;i<n;i++)\n",
        "    {\n",
        "        for(int j=0;j<m;j++)\n",
        "        {\n",
        "            if(a[i][j]!=b[i][j])\n",
        "            {\n",
        "                return 0;\n",
        "            }\n",
        "        }\n",
        "    }\n",
        "    return 1;\n",
        "}\n",
        "int main()\n",
        "{\n",
        "    int n,m,x,y,i,j,a[10][10],b[10][10],count=0;\n",
        "    printf(\"Input Rows and columns of the 1st matrix :\");\n",
        "    scanf(\"%d%d\",&n,&m);\n",
        "    printf(\"\\nInput Rows and columns of the 2nd matrix :\");\n",
        "    scanf(\"%d%d\",&x,&y);\n",
        "    printf(\"\\nInput elements in the first matrix :\");\n",
        "    for(i=0;i<n;i++)\n",
        "    {\n",
        "        for(j=0;j<m;j++)\n",
        "        {\n",
        "            scanf(\"%d\",&a[i][j]);\n",
        "        }\n",
        "    }\n",
        "    printf(\"\\nInput elements in the second matrix :\");\n",
        "    for(i=0;i<x;i++)\n",
        "    {\n",
        "        for(j=0;j<y;j++)\n",
        "        {\n",
        "            scanf(\"%d\",&b[i][j]);\n",
        "        }\n",
        "    }\n",
        "    printf(\"\\n The first matrix is:\");\n",
        "    for(i=0;i<n;i++)\n",
        "    {\n",
        "        for(j=0;j<m;j++)\n",
        "        {\n",
        "            printf(\"%d \",a[i][j]);\n",
        "        }printf(\"\\n\");\n",
        "    }\n",
        "    printf(\"\\n The second matrix is:\");\n",
        "    for(i=0;i<x;i++)\n",
        "    {\n",
        "        for(j=0;j<y;j++)\n",
        "        {\n",
        "            printf(\"%d \",b[i][j]);\n",
        "        }printf(\"\\n\");\n",
        "    }\n",
        "    if(isequal(a,b,n,m))\n",
        "    {\n",
        "        printf(\"\\nGiven matrices are equal\");\n",
        "    }\n",
        "\n",
        "    return 0;\n",
        "}\n"
      ],
      "execution_count": 0,
      "outputs": []
    },
    {
      "cell_type": "markdown",
      "metadata": {
        "id": "PTqkIYjTpIUC",
        "colab_type": "text"
      },
      "source": [
        "###Question 3:\n",
        "3.Write a C program to check whether a given matrix is an identity matrix or not?"
      ]
    },
    {
      "cell_type": "code",
      "metadata": {
        "id": "MoOGf6PirX07",
        "colab_type": "code",
        "colab": {}
      },
      "source": [
        "#include<stdio.h>\n",
        "int isidentity(int a[10][10],int n)\n",
        "{\n",
        "    for(int i=0;i<n;i++)\n",
        "    {\n",
        "        for(int j=0;j<n;j++)\n",
        "        {\n",
        "            if(i==j)\n",
        "            {\n",
        "                if(a[i][j]!=1)\n",
        "                {\n",
        "                    return 0;\n",
        "                }\n",
        "            }\n",
        "            else\n",
        "            {\n",
        "                if(a[i][j]!=0)\n",
        "                {\n",
        "                    return 0;\n",
        "                }\n",
        "            }\n",
        "        }\n",
        "    }\n",
        "    return 1;\n",
        "}\n",
        "int main()\n",
        "{\n",
        "    int n,i,j,a[10][10];\n",
        "    scanf(\"%d\",&n);\n",
        "    for(i=0;i<n;i++)\n",
        "    {\n",
        "        for(j=0;j<n;j++)\n",
        "        {\n",
        "            scanf(\"%d\",&a[i][j]);\n",
        "        }\n",
        "    }\n",
        "    if(isidentity(a,n))\n",
        "    {\n",
        "        printf(\"The given matrix is Identity matrix\");\n",
        "    }\n",
        "    else\n",
        "    {\n",
        "        printf(\"The given matrix is not identity matrix\");\n",
        "    }\n",
        "    return 0;\n",
        "}\n"
      ],
      "execution_count": 0,
      "outputs": []
    }
  ]
}