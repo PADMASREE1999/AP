{
  "nbformat": 4,
  "nbformat_minor": 0,
  "metadata": {
    "colab": {
      "name": "Assignment (02-06-2020)",
      "provenance": [],
      "authorship_tag": "ABX9TyN6YLE5G/ESXNEMLoQI0//d",
      "include_colab_link": true
    },
    "kernelspec": {
      "name": "python3",
      "display_name": "Python 3"
    }
  },
  "cells": [
    {
      "cell_type": "markdown",
      "metadata": {
        "id": "view-in-github",
        "colab_type": "text"
      },
      "source": [
        "<a href=\"https://colab.research.google.com/github/PADMASREE1999/AP/blob/master/Assignment_(02_06_2020).ipynb\" target=\"_parent\"><img src=\"https://colab.research.google.com/assets/colab-badge.svg\" alt=\"Open In Colab\"/></a>"
      ]
    },
    {
      "cell_type": "markdown",
      "metadata": {
        "id": "H0WVFz2m5ceW",
        "colab_type": "text"
      },
      "source": [
        "##CSE - 221710307059 - Tummala Sai Padmasree"
      ]
    },
    {
      "cell_type": "markdown",
      "metadata": {
        "id": "2ZOiXpeg5jtY",
        "colab_type": "text"
      },
      "source": [
        "[Question](https://docs.google.com/document/d/14U252NtzQMgqx2k8Jw-9HzVfGzghGnXfvdT9qPbt0Hs/edit)"
      ]
    },
    {
      "cell_type": "code",
      "metadata": {
        "id": "hJslqxDgAwzP",
        "colab_type": "code",
        "outputId": "447faebd-6ae7-4153-b288-7f871fe9fa01",
        "colab": {
          "base_uri": "https://localhost:8080/",
          "height": 312
        }
      },
      "source": [
        "import random\n",
        "list1=[\"hello\",\"pizza\",\"smile\",\"apple\",\"ample\",\"exple\",\"actor\",\"adopt\",\"coach\",\"guest\",\"judge\"]\n",
        "list2=[\"?\",\"?\",\"?\",\"?\",\"?\"]\n",
        "lives=9\n",
        "secret_word=random.choice(list1)\n",
        "empty_space=5\n",
        "while(lives>0):\n",
        "  s=empty_space\n",
        "  guess=input(\"\\n Guess a letter or the whole word\")\n",
        "  if(len(guess)==len(secret_word)):\n",
        "    if(guess==secret_word):\n",
        "      print(\"You won! The secret word was \",guess)\n",
        "      break\n",
        "  else:\n",
        "    for i in secret_word:\n",
        "      if(guess==i):\n",
        "        list2[secret_word.index(i)]=guess\n",
        "       # if (''.join(list2)==secret_word):\n",
        "        #  print(\"You won! The secret word was \",secret_word)\n",
        "         # empty_space=empty_space-1\n",
        "          #break\n",
        "        \n",
        "        print(list2)\n",
        "        print(\"Lives left:\",end=\" \")\n",
        "        for j in range(lives):\n",
        "              print(u\"\\u2764\",end=\" \")\n",
        "        empty_space=empty_space-1\n",
        "        break\n",
        "    if s==empty_space:\n",
        "       print(\"Incorrect. You lose a life\",end=\"\")\n",
        "       lives=lives-1\n",
        "    if (''.join(list2)==secret_word):\n",
        "          print(\"\\n You won! The secret word was \",secret_word)\n",
        "          empty_space=empty_space-1\n",
        "          break   \n"
      ],
      "execution_count": 16,
      "outputs": [
        {
          "output_type": "stream",
          "text": [
            "\n",
            " Guess a letter or the whole worda\n",
            "['a', '?', '?', '?', '?']\n",
            "Lives left: ❤ ❤ ❤ ❤ ❤ ❤ ❤ ❤ ❤ \n",
            " Guess a letter or the whole wordm\n",
            "Incorrect. You lose a life\n",
            " Guess a letter or the whole wordp\n",
            "['a', '?', '?', 'p', '?']\n",
            "Lives left: ❤ ❤ ❤ ❤ ❤ ❤ ❤ ❤ \n",
            " Guess a letter or the whole wordd\n",
            "['a', 'd', '?', 'p', '?']\n",
            "Lives left: ❤ ❤ ❤ ❤ ❤ ❤ ❤ ❤ \n",
            " Guess a letter or the whole wordo\n",
            "['a', 'd', 'o', 'p', '?']\n",
            "Lives left: ❤ ❤ ❤ ❤ ❤ ❤ ❤ ❤ \n",
            " Guess a letter or the whole wordadopt\n",
            "You won! The secret word was  adopt\n"
          ],
          "name": "stdout"
        }
      ]
    }
  ]
}