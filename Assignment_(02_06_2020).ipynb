{
  "nbformat": 4,
  "nbformat_minor": 0,
  "metadata": {
    "colab": {
      "name": "Assignment (02-06-2020)",
      "provenance": [],
      "authorship_tag": "ABX9TyMwigVii7LDIwZwiRF9oMks",
      "include_colab_link": true
    },
    "kernelspec": {
      "name": "python3",
      "display_name": "Python 3"
    }
  },
  "cells": [
    {
      "cell_type": "markdown",
      "metadata": {
        "id": "view-in-github",
        "colab_type": "text"
      },
      "source": [
        "<a href=\"https://colab.research.google.com/github/PADMASREE1999/AP/blob/master/Assignment_(02_06_2020).ipynb\" target=\"_parent\"><img src=\"https://colab.research.google.com/assets/colab-badge.svg\" alt=\"Open In Colab\"/></a>"
      ]
    },
    {
      "cell_type": "markdown",
      "metadata": {
        "id": "H0WVFz2m5ceW",
        "colab_type": "text"
      },
      "source": [
        "##CSE - 221710307059 - Tummala Sai Padmasree"
      ]
    },
    {
      "cell_type": "markdown",
      "metadata": {
        "id": "2ZOiXpeg5jtY",
        "colab_type": "text"
      },
      "source": [
        "[Question](https://docs.google.com/document/d/14U252NtzQMgqx2k8Jw-9HzVfGzghGnXfvdT9qPbt0Hs/edit)"
      ]
    },
    {
      "cell_type": "code",
      "metadata": {
        "id": "hJslqxDgAwzP",
        "colab_type": "code",
        "colab": {
          "base_uri": "https://localhost:8080/",
          "height": 260
        },
        "outputId": "bc6d8793-8113-456e-9dc9-b27c83c77d84"
      },
      "source": [
        "import random\n",
        "list1=[\"hello\",\"pizza\",\"smile\",\"apple\",\"ample\",\"exple\",\"actor\",\"adopt\",\"coach\",\"guest\",\"judge\"]\n",
        "list2=[\"?\",\"?\",\"?\",\"?\",\"?\"]\n",
        "lives=9\n",
        "secret_word=random.choice(list1)\n",
        "empty_space=5\n",
        "while(lives>0):\n",
        "  s=empty_space\n",
        "  guess=input(\"Guess a letter or the whole word\")\n",
        "  if(len(guess)==len(secret_word)):\n",
        "    if(guess==secret_word):\n",
        "      print(\"You won! The secret word was \",guess)\n",
        "      break\n",
        "  else:\n",
        "    for i in secret_word:\n",
        "      if(guess==i):\n",
        "        list2[secret_word.index(i)]=guess\n",
        "        if (''.join(list2)==secret_word):\n",
        "          print(\"You won! The secret word was \",secret_word)\n",
        "          empty_space=empty_space-1\n",
        "          break\n",
        "        else:\n",
        "           print(list2)\n",
        "           print(\"Lives left:\",end=\" \")\n",
        "           for j in range(lives):\n",
        "              print(u\"\\u2764\",end=\" \")\n",
        "           empty_space=empty_space-1\n",
        "           break\n",
        "    if s==empty_space:\n",
        "       print(\"Incorrect. You lose a life\")\n",
        "       lives=lives-1\n",
        "       \n"
      ],
      "execution_count": 10,
      "outputs": [
        {
          "output_type": "stream",
          "text": [
            "Guess a letter or the whole worda\n",
            "Incorrect. You lose a life\n",
            "Guess a letter or the whole wordj\n",
            "Incorrect. You lose a life\n",
            "Guess a letter or the whole worde\n",
            "['e', '?', '?', '?', '?']\n",
            "Lives left: ❤ ❤ ❤ ❤ ❤ ❤ ❤ Guess a letter or the whole wordm\n",
            "Incorrect. You lose a life\n",
            "Guess a letter or the whole wordx\n",
            "['e', 'x', '?', '?', '?']\n",
            "Lives left: ❤ ❤ ❤ ❤ ❤ ❤ Guess a letter or the whole wordl\n",
            "['e', 'x', '?', 'l', '?']\n",
            "Lives left: ❤ ❤ ❤ ❤ ❤ ❤ Guess a letter or the whole wordexple\n",
            "You won! The secret word was  exple\n"
          ],
          "name": "stdout"
        }
      ]
    }
  ]
}