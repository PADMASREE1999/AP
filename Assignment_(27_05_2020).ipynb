{
  "nbformat": 4,
  "nbformat_minor": 0,
  "metadata": {
    "colab": {
      "name": "Assignment   (27-05-2020)",
      "provenance": [],
      "collapsed_sections": [],
      "authorship_tag": "ABX9TyNMYGw8plH2Xoep3mQmUxdJ",
      "include_colab_link": true
    },
    "kernelspec": {
      "name": "python3",
      "display_name": "Python 3"
    }
  },
  "cells": [
    {
      "cell_type": "markdown",
      "metadata": {
        "id": "view-in-github",
        "colab_type": "text"
      },
      "source": [
        "<a href=\"https://colab.research.google.com/github/PADMASREE1999/AP/blob/master/Assignment_(27_05_2020).ipynb\" target=\"_parent\"><img src=\"https://colab.research.google.com/assets/colab-badge.svg\" alt=\"Open In Colab\"/></a>"
      ]
    },
    {
      "cell_type": "markdown",
      "metadata": {
        "id": "D2ACqD0zd_Oi",
        "colab_type": "text"
      },
      "source": [
        "##Question 1:\n",
        "  Generate the following pattern\n",
        "  ###### *\n",
        "  ###### * *\n",
        "  ###### * * *\n",
        "  ###### * * * *\n",
        "  ###### * * * * *"
      ]
    },
    {
      "cell_type": "code",
      "metadata": {
        "id": "Zv6q9PlPfFXc",
        "colab_type": "code",
        "outputId": "3ecaebfa-237a-4dea-e975-9bc3f55fe45e",
        "colab": {
          "base_uri": "https://localhost:8080/",
          "height": 191
        }
      },
      "source": [
        "n=5;\n",
        "for i in range(0, n):\n",
        "  for j in range(0,i+1):\n",
        "    print(\"*\",end=\" \")\n",
        "  print(\"\\n\")"
      ],
      "execution_count": 0,
      "outputs": [
        {
          "output_type": "stream",
          "text": [
            "* \n",
            "\n",
            "* * \n",
            "\n",
            "* * * \n",
            "\n",
            "* * * * \n",
            "\n",
            "* * * * * \n",
            "\n"
          ],
          "name": "stdout"
        }
      ]
    },
    {
      "cell_type": "markdown",
      "metadata": {
        "id": "iHyc2MKHiH33",
        "colab_type": "text"
      },
      "source": [
        "## Question 2:\n",
        "\n",
        " Display multiplication table of K. Take k value from user\n",
        " ####\tEx:      7 x 1 =7\n",
        " ####   \t  \t7 x 2 = 14   .....\n"
      ]
    },
    {
      "cell_type": "code",
      "metadata": {
        "id": "eHcKG5nzjK0t",
        "colab_type": "code",
        "outputId": "4fb9b400-a5a3-4a9c-98e9-17ae64276220",
        "colab": {
          "base_uri": "https://localhost:8080/",
          "height": 208
        }
      },
      "source": [
        "k=int(input(\"enter k value\"))\n",
        "for i in range(1,11):\n",
        "  print(k ,\"x\", i, \"=\" ,k*i)"
      ],
      "execution_count": 0,
      "outputs": [
        {
          "output_type": "stream",
          "text": [
            "enter k value7\n",
            "7 x 1 = 7\n",
            "7 x 2 = 14\n",
            "7 x 3 = 21\n",
            "7 x 4 = 28\n",
            "7 x 5 = 35\n",
            "7 x 6 = 42\n",
            "7 x 7 = 49\n",
            "7 x 8 = 56\n",
            "7 x 9 = 63\n",
            "7 x 10 = 70\n"
          ],
          "name": "stdout"
        }
      ]
    },
    {
      "cell_type": "markdown",
      "metadata": {
        "id": "nPc4ANxak_Fr",
        "colab_type": "text"
      },
      "source": [
        "##Question 3:\n",
        "Roots of quadratic equation.\n",
        "  \tTake the coefficients a,b,c from the user\n"
      ]
    },
    {
      "cell_type": "code",
      "metadata": {
        "id": "RYIXuhu6ltoi",
        "colab_type": "code",
        "outputId": "9c4c5337-a638-421a-ae17-fd95372c5067",
        "colab": {
          "base_uri": "https://localhost:8080/",
          "height": 87
        }
      },
      "source": [
        "\n",
        "import math\n",
        "a=int(input(\"Enter a value\"))\n",
        "b=int(input(\"Enter b value\"))\n",
        "c=int(input(\"Enter c value\"))\n",
        "d=b**2 - 4*a*c \n",
        "if d>0:\n",
        "  root1=(-b-math.sqrt(d))/(2*a)\n",
        "  root2=(-b+math.sqrt(d))/(2*a)\n",
        "  print(\"The roots are\" , root1 , \"and\" , root2)\n",
        "elif d<0:\n",
        "  x = (-b) / 2*a\n",
        "  print(\"There is one root: \", x)\n",
        "else:\n",
        "  print(\"no roots\")"
      ],
      "execution_count": 0,
      "outputs": [
        {
          "output_type": "stream",
          "text": [
            "Enter a value2\n",
            "Enter b value4\n",
            "Enter c value1\n",
            "The roots are -1.7071067811865475 and -0.2928932188134524\n"
          ],
          "name": "stdout"
        }
      ]
    },
    {
      "cell_type": "markdown",
      "metadata": {
        "id": "DQUA7wPInhFN",
        "colab_type": "text"
      },
      "source": [
        "##Question 4:\n",
        " Convert a decimal number to Binary\n"
      ]
    },
    {
      "cell_type": "code",
      "metadata": {
        "id": "z8G5Wx_20gXm",
        "colab_type": "code",
        "outputId": "2d30f9c0-e526-4e05-e86d-f457e94e6788",
        "colab": {
          "base_uri": "https://localhost:8080/",
          "height": 52
        }
      },
      "source": [
        "a = int(input(\"enter a value\"))\n",
        "binary=[]#declaring an empty list\n",
        "while a > 0:\n",
        "    value = (a % 2)\n",
        "    \n",
        "    a= (a // 2)\n",
        "    binary.append(value)#modify list and add new item at the end of existing list\n",
        "binary.reverse()#reverses objects of a list\n",
        "print(\"binary number is\", end=\": \")\n",
        "for x in binary:\n",
        "    print(x, end='')\n",
        "\n",
        "\n"
      ],
      "execution_count": 0,
      "outputs": [
        {
          "output_type": "stream",
          "text": [
            "enter a value39\n",
            "binary number is: 100111"
          ],
          "name": "stdout"
        }
      ]
    },
    {
      "cell_type": "markdown",
      "metadata": {
        "id": "ldlrOhXNF4OQ",
        "colab_type": "text"
      },
      "source": [
        "##Question 5:\n",
        "Generate first N number of Fibonacci numbers. Take N value from the user\n"
      ]
    },
    {
      "cell_type": "code",
      "metadata": {
        "id": "IGWS2DjdGO4N",
        "colab_type": "code",
        "colab": {
          "base_uri": "https://localhost:8080/",
          "height": 52
        },
        "outputId": "f3550a8d-19a8-49c2-91c6-12fd30bbe23a"
      },
      "source": [
        "n=int(input(\"enter n value\"))\n",
        "i=0\n",
        "n1=0\n",
        "n2=1\n",
        "print(\"The fibonacci series is:\",end=\" \" )\n",
        "while i<n:\n",
        "  if i<=1:\n",
        "    fib=i\n",
        "  else:\n",
        "    fib=n1+n2\n",
        "    n1=n2\n",
        "    n2=fib\n",
        "  print(fib,end=\" \")\n",
        "  i=i+1"
      ],
      "execution_count": 3,
      "outputs": [
        {
          "output_type": "stream",
          "text": [
            "enter n value8\n",
            "The fibonacci series is: 0 1 1 2 3 5 8 13 "
          ],
          "name": "stdout"
        }
      ]
    }
  ]
}