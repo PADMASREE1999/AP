{
  "nbformat": 4,
  "nbformat_minor": 0,
  "metadata": {
    "colab": {
      "name": "Assignment (08-07-2020)",
      "provenance": [],
      "authorship_tag": "ABX9TyN2jgloTtvgaG23LA1E7fmp",
      "include_colab_link": true
    },
    "kernelspec": {
      "name": "python3",
      "display_name": "Python 3"
    }
  },
  "cells": [
    {
      "cell_type": "markdown",
      "metadata": {
        "id": "view-in-github",
        "colab_type": "text"
      },
      "source": [
        "<a href=\"https://colab.research.google.com/github/PADMASREE1999/AP/blob/master/Assignment_(08_07_2020).ipynb\" target=\"_parent\"><img src=\"https://colab.research.google.com/assets/colab-badge.svg\" alt=\"Open In Colab\"/></a>"
      ]
    },
    {
      "cell_type": "markdown",
      "metadata": {
        "id": "fx7KiR0RoPxw",
        "colab_type": "text"
      },
      "source": [
        "##CSE - 221710307059 - Tummala Sai Padmasree"
      ]
    },
    {
      "cell_type": "markdown",
      "metadata": {
        "id": "xFyXvx4JoVX_",
        "colab_type": "text"
      },
      "source": [
        "###Quetion 1:\n",
        "Write a C++ program to calculate the area of a rectangle and display it.\n"
      ]
    },
    {
      "cell_type": "code",
      "metadata": {
        "id": "9a1v1YJpoVCC",
        "colab_type": "code",
        "colab": {}
      },
      "source": [
        "#include<iostream>\n",
        "using namespace std;\n",
        "int main()\n",
        "{\n",
        "    int l,b,a;\n",
        "    cout<<\"Enter the length and breadth of rectangle:\";\n",
        "    cin>>l>>b;\n",
        "    a=l*b;\n",
        "    cout<<\"The area of rectangle is \"<<a;\n",
        "    return 0;\n",
        "}\n"
      ],
      "execution_count": null,
      "outputs": []
    },
    {
      "cell_type": "markdown",
      "metadata": {
        "id": "llmW1jIppmvf",
        "colab_type": "text"
      },
      "source": [
        "Write a C++ program to compute square root of a given non-negative integer. Return type should be an integer.           \n",
        "Test Data : n =81                    \n",
        "Expected Output : Square root of 81=9 \n"
      ]
    },
    {
      "cell_type": "code",
      "metadata": {
        "id": "wR3BXOA7n-Uk",
        "colab_type": "code",
        "colab": {}
      },
      "source": [
        "#include<iostream>\n",
        "using namespace std;\n",
        "int sqrt(int x)\n",
        "{\n",
        "    int i=1,res=1;\n",
        "    if(x==0 || x==1)\n",
        "        return x;\n",
        "    while(res<=x)\n",
        "    {\n",
        "        i++;\n",
        "        res=i*i;\n",
        "    }\n",
        "    return i-1;\n",
        "}\n",
        "int main()\n",
        "{\n",
        "    int n;\n",
        "    cin>>n;\n",
        "    cout<<sqrt(n);\n",
        "    return 0;\n",
        "}\n"
      ],
      "execution_count": null,
      "outputs": []
    }
  ]
}